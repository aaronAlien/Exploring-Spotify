{
 "cells": [
  {
   "cell_type": "markdown",
   "metadata": {},
   "source": [
    "* pip install spotipy matplotlib requests pandas python-dotenv seaborn beautifulsoup4"
   ]
  },
  {
   "cell_type": "code",
   "execution_count": null,
   "metadata": {},
   "outputs": [],
   "source": [
    "import spotipy\n",
    "import os\n",
    "import pprint\n",
    "import pandas as pd\n",
    "import seaborn as sns\n",
    "import requests\n",
    "import re\n",
    "from bs4 import BeautifulSoup\n",
    "import matplotlib.pyplot as plt\n",
    "from spotipy.oauth2 import SpotifyOAuth\n",
    "from dotenv import load_dotenv\n",
    "from collections import Counter\n"
   ]
  },
  {
   "cell_type": "code",
   "execution_count": null,
   "metadata": {},
   "outputs": [],
   "source": [
    "load_dotenv()"
   ]
  },
  {
   "cell_type": "code",
   "execution_count": null,
   "metadata": {},
   "outputs": [],
   "source": [
    "#cache_path = os.path.join(os.getcwd(), \"spotify_cache\")"
   ]
  },
  {
   "cell_type": "code",
   "execution_count": null,
   "metadata": {},
   "outputs": [],
   "source": [
    "# auth and token\n",
    "sp = spotipy.Spotify(auth_manager=SpotifyOAuth(\n",
    "    client_id = os.getenv('SPOTIFY_CLIENT_ID'),\n",
    "    client_secret = os.getenv('SPOTIFY_CLIENT_SECRET'),\n",
    "    redirect_uri='http://localhost:8000/callback',\n",
    "    scope='user-top-read, playlist-read-private',\n",
    "    #cache_path=cache_path\n",
    "))"
   ]
  },
  {
   "cell_type": "markdown",
   "metadata": {},
   "source": [
    "## _clean dates fucntion_"
   ]
  },
  {
   "cell_type": "code",
   "execution_count": null,
   "metadata": {},
   "outputs": [],
   "source": [
    "# clean dates\n",
    "# len() - str return int\n",
    "# apply\n",
    "def date_clean(date):\n",
    "    if isinstance(date, str) and len(date) == 4 and date.isdigit():\n",
    "        return int(date)\n",
    "    elif isinstance(date, str):\n",
    "        return pd.to_datetime(date, errors='coerce').year\n",
    "    return date\n"
   ]
  },
  {
   "cell_type": "markdown",
   "metadata": {},
   "source": [
    "# _get wiki function_"
   ]
  },
  {
   "cell_type": "code",
   "execution_count": null,
   "metadata": {},
   "outputs": [],
   "source": [
    "# get 'Genres' without slice or indices\n",
    "\n",
    "def get_genres(artist_name):\n",
    "    artist_name = artist_name.replace(\" \", \"_\")\n",
    "\n",
    "    url = f'https://en.wikipedia.org/wiki/{artist_name}'\n",
    "    response = requests.get(url)\n",
    "    soup = BeautifulSoup(response.text, 'html.parser')\n",
    "\n",
    "    table = soup.find(\"table\", class_=\"infobox\")\n",
    "    if not table:\n",
    "        return None\n",
    "    \n",
    "    for row in table.find_all('tr'):\n",
    "        heading = row.find('th')\n",
    "\n",
    "        if heading and 'Genres' in heading.text:\n",
    "            data = row.find('td')\n",
    "            genres = [li.text.strip() for li in data.find_all('li')]\n",
    "\n",
    "            # ASK CHAPGPT TO CLEAN THE [5] ETC FROM THE STRING\n",
    "            # BECAUSE REGEX MAKES MY BRAIN HURT\n",
    "            # MORE THAT TRYING TO LEARN C++ AND REACT AT THE SAME TIME\n",
    "            # ...\n",
    "            # YES I ONCE THOUGHT THAT WAS A GOOD IDEA......\n",
    "\n",
    "            genres = [re.sub(r\"\\[\\d+\\]\", \"\", genre) for genre in genres]\n",
    "\n",
    "            if not genres:\n",
    "                genres = data.text.strip().split(', ')\n",
    "\n",
    "            return genres\n",
    "    return None\n",
    "\n",
    "pprint.pprint(get_genres('Frank Ocean'))"
   ]
  },
  {
   "cell_type": "markdown",
   "metadata": {},
   "source": [
    "## _My Top Artists_"
   ]
  },
  {
   "cell_type": "code",
   "execution_count": null,
   "metadata": {},
   "outputs": [],
   "source": [
    "# get artists\n",
    "\n",
    "def get_artists(time_range='medium_term', limit=20):\n",
    "    results = sp.current_user_top_artists(time_range=time_range, limit=limit)\n",
    "    artists = []\n",
    "\n",
    "    for item in results['items']:\n",
    "        genres = item.get('genres')\n",
    "        artists.append({\n",
    "            'name': item['name'],\n",
    "            'followers': item['followers']['total'],\n",
    "            'genres': ', '.join(item['genres']),\n",
    "            'popularitty': item['popularity'],\n",
    "        })\n",
    "    df = pd.DataFrame(artists)\n",
    "\n",
    "    # add other for empty genre lists\n",
    "    df['Genres'] = df['genres'].apply(lambda x: x if x else 'other')\n",
    "\n",
    "    return df\n",
    "\n"
   ]
  },
  {
   "cell_type": "code",
   "execution_count": null,
   "metadata": {},
   "outputs": [],
   "source": [
    "my_artists_df = get_artists()"
   ]
  },
  {
   "cell_type": "code",
   "execution_count": null,
   "metadata": {},
   "outputs": [],
   "source": [
    "cleaned_df = my_artists_df.drop('genres', axis=1)\n",
    "\n",
    "cleaned_df.rename(columns={'popularitty': 'popularity'}, inplace=True)\n",
    "\n",
    "my_artists_cleaned = cleaned_df"
   ]
  },
  {
   "cell_type": "markdown",
   "metadata": {},
   "source": [
    "### _adding wiki scrape genres_"
   ]
  },
  {
   "cell_type": "code",
   "execution_count": null,
   "metadata": {},
   "outputs": [],
   "source": [
    "#artists with other\n",
    "\n",
    "for index, row in my_artists_cleaned[my_artists_cleaned['Genres'] == 'other'].iterrows():\n",
    "    artist_name = row['name']\n",
    "\n",
    "    new_genres = get_genres(artist_name)\n",
    "\n",
    "    # got the list??\n",
    "    if new_genres:\n",
    "        my_artists_cleaned.at[index, 'Genres'] = ', '.join(new_genres)\n",
    "    else:\n",
    "        print(f'None found for {artist_name}')"
   ]
  },
  {
   "cell_type": "code",
   "execution_count": null,
   "metadata": {},
   "outputs": [],
   "source": [
    "my_artists_cleaned.head()"
   ]
  },
  {
   "cell_type": "code",
   "execution_count": null,
   "metadata": {},
   "outputs": [],
   "source": [
    "plt.figure(figsize=(12, 6))\n",
    "plt.bar(my_artists_cleaned['name'], my_artists_cleaned['popularity'], color='skyblue')\n",
    "plt.title('My Top Artists Popularity')\n",
    "plt.xticks(rotation=45, ha='right', fontsize=10)\n",
    "plt.show()"
   ]
  },
  {
   "cell_type": "markdown",
   "metadata": {},
   "source": [
    "## _my top genres in top artists_"
   ]
  },
  {
   "cell_type": "code",
   "execution_count": null,
   "metadata": {},
   "outputs": [],
   "source": [
    "\n",
    "my_genres = [genre for sublist in cleaned_df['Genres'].str.split(', ') for genre in sublist]\n",
    "genre_count = Counter(my_genres)\n",
    "labels, sizes = zip(*genre_count.most_common(10))\n"
   ]
  },
  {
   "cell_type": "code",
   "execution_count": null,
   "metadata": {},
   "outputs": [],
   "source": [
    "\n",
    "plt.figure(figsize=(12,6))\n",
    "sns.barplot(x=list(genre_count.values()), y=list(genre_count.keys()), palette='colorblind')\n",
    "plt.xlabel(\"Count\")\n",
    "plt.ylabel(\"Genre\")\n",
    "plt.title('My Top Genres', fontsize=10)\n",
    "plt.show()\n"
   ]
  },
  {
   "cell_type": "markdown",
   "metadata": {},
   "source": [
    "## top tracks from top artists"
   ]
  },
  {
   "cell_type": "code",
   "execution_count": null,
   "metadata": {},
   "outputs": [],
   "source": [
    "#my_artists_df['name']"
   ]
  },
  {
   "cell_type": "code",
   "execution_count": null,
   "metadata": {},
   "outputs": [],
   "source": [
    "def tracks_from_artists(my_artists_df, time_range='medium_term', limit=50):\n",
    "    results = sp.current_user_top_tracks(time_range=time_range,  limit=limit)\n",
    "    tracks = []\n",
    "    \n",
    "    # print raw\n",
    "    \n",
    "    #print(\"Raw top tracks fetched:\")\n",
    "    #for item in results['items']:\n",
    "    #    print(item['name'], \"by\", [artist['name'] for artist in item['artists']])\n",
    "    \n",
    "    #grab top artist names\n",
    "    top_artist_names = set(my_artists_df['name'])\n",
    "    \n",
    "    for item in results['items']:\n",
    "        artist_per_track = [artist['name'] for artist in item['artists']]\n",
    "\n",
    "        if any(artist in top_artist_names for artist in artist_per_track):\n",
    "            tracks.append({\n",
    "                'track name': item['name'],\n",
    "                'artists': ', '.join(artist_per_track),\n",
    "                'album': item['album']['name'],\n",
    "                'release': item['album']['release_date'],\n",
    "                'track id': item['id'],\n",
    "                'popularity': item['popularity']\n",
    "            })\n",
    "            \n",
    "    tracks_df = pd.DataFrame(tracks)\n",
    "    return tracks_df"
   ]
  },
  {
   "cell_type": "markdown",
   "metadata": {},
   "source": [
    "### Why use a set instead of a list? - refresher from chatgpt\n",
    "\n",
    "* Faster lookups: Checking membership in a set (O(1) average time) is much faster than searching in a list(O(n)).\n",
    "* Avoids duplicates: A set automatically removes duplicate artist names.\n",
    "* Better performance: If you have 50 top tracks, each with multiple artists, checking each one against a list of 20 top artists would be O(50 × 20) = 1000 checks. With a set, it remains O(50).\n",
    "\n",
    "🌟 TLDR:\n",
    "Using set(df_artists['Name']) ensures faster filtering when checking if a track's artist is in your top artists. 🚀"
   ]
  },
  {
   "cell_type": "code",
   "execution_count": null,
   "metadata": {},
   "outputs": [],
   "source": [
    "my_top_tracks_from_top_artists_df = tracks_from_artists(my_artists_df)\n",
    "my_top_tracks_from_top_artists_df['release'] =my_top_tracks_from_top_artists_df['release'].apply(date_clean)\n",
    "my_top_tracks_from_top_artists_df.head()\n"
   ]
  },
  {
   "cell_type": "markdown",
   "metadata": {},
   "source": [
    "# top tracks"
   ]
  },
  {
   "cell_type": "code",
   "execution_count": null,
   "metadata": {},
   "outputs": [],
   "source": [
    "# get top tracks\n",
    "\n",
    "def get_tracks(time_range='medium_term', limit=20):\n",
    "    results = sp.current_user_top_tracks(time_range=time_range, limit=limit)\n",
    "    t_tracks = []\n",
    "\n",
    "    for item in results['items']:\n",
    "        track_artists = [artist['name'] for artist in item['artists']]\n",
    "        t_tracks.append({\n",
    "            'track name': item['name'],\n",
    "            'artists': ', '.join(track_artists),\n",
    "            'album': item['album']['name'],\n",
    "            'release': item['album']['release_date'],\n",
    "            'track id': item['id'],\n",
    "            'popularity': item['popularity']\n",
    "        })\n",
    "    top_tracks_df = pd.DataFrame(t_tracks)\n",
    "    return top_tracks_df"
   ]
  },
  {
   "cell_type": "code",
   "execution_count": null,
   "metadata": {},
   "outputs": [],
   "source": [
    "my_tracks_df = get_tracks()\n",
    "my_tracks_df['release'] = my_tracks_df['release'].apply(date_clean)\n",
    "my_tracks_df.head()\n"
   ]
  },
  {
   "cell_type": "markdown",
   "metadata": {},
   "source": [
    "### merge my_top_tracks and my_top_tracks_from_top_artists_df"
   ]
  },
  {
   "cell_type": "code",
   "execution_count": null,
   "metadata": {},
   "outputs": [],
   "source": [
    "all_top_tracks = pd.concat([my_tracks_df, my_top_tracks_from_top_artists_df]).reset_index(drop=True).drop_duplicates(subset=['track id'])"
   ]
  },
  {
   "cell_type": "markdown",
   "metadata": {},
   "source": [
    "* want - to visualise the years my top tracks span or move through...\n",
    "* need:\n",
    "    * clean the release dates for yyyy\n",
    "    * find the best choices to visualise "
   ]
  },
  {
   "cell_type": "code",
   "execution_count": null,
   "metadata": {},
   "outputs": [],
   "source": [
    "\n",
    "all_top_tracks['release'] = all_top_tracks['release'].apply(date_clean)\n"
   ]
  },
  {
   "cell_type": "code",
   "execution_count": null,
   "metadata": {},
   "outputs": [],
   "source": [
    "all_top_tracks.head()"
   ]
  },
  {
   "cell_type": "markdown",
   "metadata": {},
   "source": [
    "# playlists"
   ]
  },
  {
   "cell_type": "markdown",
   "metadata": {},
   "source": [
    "### get all"
   ]
  },
  {
   "cell_type": "code",
   "execution_count": null,
   "metadata": {},
   "outputs": [],
   "source": [
    "def get_playlists():\n",
    "    results = sp.current_user_playlists()\n",
    "    all_playlists = []\n",
    "\n",
    "    while results:\n",
    "        for playlist in results['items']:\n",
    "            all_playlists.append({\n",
    "                \"playlist_name\": playlist[\"name\"],\n",
    "                \"total_tracks\": playlist[\"tracks\"][\"total\"],\n",
    "                \"playlist_id\": playlist[\"id\"]\n",
    "            })\n",
    "        # pagination\n",
    "        if results[\"next\"]:\n",
    "            results = sp.next(results)\n",
    "        else:\n",
    "            break\n",
    "    \n",
    "    all_playlists = pd.DataFrame(all_playlists)\n",
    "    return all_playlists\n"
   ]
  },
  {
   "cell_type": "code",
   "execution_count": null,
   "metadata": {},
   "outputs": [],
   "source": [
    "my_playlists = get_playlists()\n",
    "my_playlists.head()"
   ]
  },
  {
   "cell_type": "markdown",
   "metadata": {},
   "source": [
    "* loop through tracks\n",
    "    * for id in myplaylists\n",
    "    * sp.playlisttracks(id)\n"
   ]
  },
  {
   "cell_type": "code",
   "execution_count": null,
   "metadata": {},
   "outputs": [],
   "source": [
    "def get_playlist_tracks(my_playlists, limit=50):\n",
    "    playlist_tracks = []\n",
    "\n",
    "    for playlist_id, playlist_name in zip(my_playlists['playlist_id'], my_playlists['playlist_name']): #zip loops through the iterations???\n",
    "        results = sp.playlist_tracks(playlist_id, limit=limit)  # Get tracks from the playlist\n",
    "\n",
    "        for item in results['items']:\n",
    "            track = item.get('track') \n",
    "            \n",
    "            if track:  # \n",
    "                playlist_tracks.append({\n",
    "                    'track_name': track['name'],\n",
    "                    'artists': ', '.join([artist['name'] for artist in track['artists']]),\n",
    "                    'album': track['album']['name'],\n",
    "                    'release_year': track['album']['release_date'],\n",
    "                    'track_id': track['id'],\n",
    "                    'playlist name': playlist_name,\n",
    "                    'playlist_id': playlist_id,\n",
    "                    'popularity': track['popularity']\n",
    "                })\n",
    "    \n",
    "\n",
    "    tracks_df = pd.DataFrame(playlist_tracks)\n",
    "\n",
    "    return tracks_df"
   ]
  },
  {
   "cell_type": "code",
   "execution_count": null,
   "metadata": {},
   "outputs": [],
   "source": [
    "\n",
    "my_tracks_from_playlists = get_playlist_tracks(my_playlists)\n",
    "\n",
    "#my_tracks_from_playlists.drop_duplicates(subset=['track_id'], keep='first', inplace=True) # modified for finding most listened playlists - duplicated dropped for create_playlist.py\n",
    "\n",
    "my_tracks_from_playlists['release_year'] = my_tracks_from_playlists['release_year'].apply(date_clean)\n",
    "\n",
    "my_tracks_from_playlists.rename(columns={'track_name': 'track name', 'release_year': 'release year', 'track_id': 'track id', 'playlist_id': 'playlist id'}, inplace=True)"
   ]
  },
  {
   "cell_type": "code",
   "execution_count": null,
   "metadata": {},
   "outputs": [],
   "source": [
    "my_tracks_from_playlists.head()"
   ]
  },
  {
   "cell_type": "markdown",
   "metadata": {},
   "source": [
    "## convert to csv for creat_paylist script"
   ]
  },
  {
   "cell_type": "code",
   "execution_count": null,
   "metadata": {},
   "outputs": [],
   "source": [
    "my_tracks_from_playlists.to_csv('my_playlist_tracks.csv')"
   ]
  },
  {
   "cell_type": "markdown",
   "metadata": {},
   "source": [
    "# * _which albums occur across top tracks and playlists?_\n",
    "\n",
    "* albums [] - if album in all_top_tracks and album in my_tracks_from_playlists: albums.append(aalbum, artist) - print albums ???\n"
   ]
  },
  {
   "cell_type": "code",
   "execution_count": null,
   "metadata": {},
   "outputs": [],
   "source": [
    "#iitterrows\n",
    "\n",
    "# use set to remove duplicates - for now i only want to see a list - so, list(set(albums))??"
   ]
  },
  {
   "cell_type": "code",
   "execution_count": null,
   "metadata": {},
   "outputs": [],
   "source": [
    "albums = []\n",
    "\n",
    "#loop through all tracks\n",
    "for index1, row1 in all_top_tracks.iterrows():\n",
    "    album1 = row1['album']\n",
    "    artist1 = row1['artists']\n",
    "\n",
    "    artist1 = artist1.split(',')[0] \n",
    "        \n",
    "    if album1 in my_tracks_from_playlists['album'].values:\n",
    "        albums.append((album1, artist1))\n",
    "\n",
    "albums = list(set(albums))\n",
    "\n",
    "pprint.pprint(albums)"
   ]
  },
  {
   "cell_type": "markdown",
   "metadata": {},
   "source": [
    "## _add playlist id to mytracksfromplaylists to determine which playlist tracks are pulled from_ \n",
    "    * _need to bring back duplicates_\n",
    "    "
   ]
  },
  {
   "cell_type": "code",
   "execution_count": 152,
   "metadata": {},
   "outputs": [
    {
     "name": "stdout",
     "output_type": "stream",
     "text": [
      "['Silencer',\n",
      " 'Pink + White',\n",
      " 'Big eye',\n",
      " 'Super Rich Kids',\n",
      " 'You Gotta Be',\n",
      " 'Combien de temps',\n",
      " 'Antidote',\n",
      " 'Weird Fishes / Arpeggi',\n",
      " 'Self Control',\n",
      " 'Mad (feat. Lil Wayne)',\n",
      " 'My Head Explodes',\n",
      " 'Cranes in the Sky',\n",
      " \"Swan Lake, Op. 20, TH.12 / Act 2: No. 13e Danse des cygnes: Pas d'action: \"\n",
      " 'Odette et le prince/Deuxième danse de la reine des cygnes (Andante)',\n",
      " 'La vita nuova']\n"
     ]
    }
   ],
   "source": [
    "matches = all_top_tracks[all_top_tracks['track id'].isin(my_tracks_from_playlists['track id'])]['track name'].tolist()\n",
    "pprint.pprint(matches)"
   ]
  },
  {
   "cell_type": "code",
   "execution_count": 153,
   "metadata": {},
   "outputs": [
    {
     "data": {
      "application/vnd.microsoft.datawrangler.viewer.v0+json": {
       "columns": [
        {
         "name": "index",
         "rawType": "int64",
         "type": "integer"
        },
        {
         "name": "track name",
         "rawType": "object",
         "type": "string"
        },
        {
         "name": "artists",
         "rawType": "object",
         "type": "string"
        },
        {
         "name": "track id",
         "rawType": "object",
         "type": "string"
        },
        {
         "name": "playlist name",
         "rawType": "object",
         "type": "string"
        },
        {
         "name": "playlist id",
         "rawType": "object",
         "type": "string"
        }
       ],
       "conversionMethod": "pd.DataFrame",
       "ref": "583ccc7e-558c-4bc9-a794-1be31b002b59",
       "rows": [
        [
         "0",
         "Silencer",
         "Dub War",
         "1premcRnMNh9KvM7WWtgz5",
         "the dailies",
         "3kjzy5R1zPdnid2TYUQd2j"
        ],
        [
         "1",
         "Pink + White",
         "Frank Ocean",
         "3xKsf9qdS1CyvXSMEid6g8",
         "Chill",
         "4NHOoP5BGZbYrWohyaJJDW"
        ],
        [
         "2",
         "Big eye",
         "Christine and the Queens",
         "0fGbCVPP41cReDwIAuOORJ",
         "Hmmm",
         "13km7JNQUh5DRGV9QexgpI"
        ],
        [
         "3",
         "Big eye",
         "Christine and the Queens",
         "0fGbCVPP41cReDwIAuOORJ",
         "the dailies",
         "3kjzy5R1zPdnid2TYUQd2j"
        ],
        [
         "4",
         "Super Rich Kids",
         "Frank Ocean, Earl Sweatshirt",
         "0725YWm6Z0TpZ6wrNk64Eb",
         "the dailies",
         "3kjzy5R1zPdnid2TYUQd2j"
        ],
        [
         "5",
         "You Gotta Be",
         "Des'ree",
         "6CU0zWIWVTEnmWpSjVHM93",
         "the dailies",
         "3kjzy5R1zPdnid2TYUQd2j"
        ],
        [
         "6",
         "Combien de temps",
         "Christine and the Queens, Rahim Redcar",
         "61efs5Och14QW9lspob2or",
         "Hmmm",
         "13km7JNQUh5DRGV9QexgpI"
        ],
        [
         "7",
         "Combien de temps",
         "Christine and the Queens, Rahim Redcar",
         "61efs5Och14QW9lspob2or",
         "Chill",
         "4NHOoP5BGZbYrWohyaJJDW"
        ],
        [
         "8",
         "Antidote",
         "Orion Sun",
         "1NlGXcWeUSe1s3IgRKcqmB",
         "Hmmm",
         "13km7JNQUh5DRGV9QexgpI"
        ],
        [
         "9",
         "Weird Fishes / Arpeggi",
         "Radiohead",
         "4wajJ1o7jWIg62YqpkHC7S",
         "the dailies",
         "3kjzy5R1zPdnid2TYUQd2j"
        ],
        [
         "10",
         "Weird Fishes / Arpeggi",
         "Radiohead",
         "4wajJ1o7jWIg62YqpkHC7S",
         "Chill",
         "4NHOoP5BGZbYrWohyaJJDW"
        ],
        [
         "11",
         "Self Control",
         "Frank Ocean",
         "5GUYJTQap5F3RDQiCOJhrS",
         "Hmmm",
         "13km7JNQUh5DRGV9QexgpI"
        ],
        [
         "12",
         "Self Control",
         "Frank Ocean",
         "5GUYJTQap5F3RDQiCOJhrS",
         "Chill",
         "4NHOoP5BGZbYrWohyaJJDW"
        ],
        [
         "13",
         "Mad (feat. Lil Wayne)",
         "Solange, Lil Wayne",
         "22DHmfJa31hKpc2Lg0gVBV",
         "Chill",
         "4NHOoP5BGZbYrWohyaJJDW"
        ],
        [
         "14",
         "My Head Explodes",
         "Ty Segall",
         "3OYCyBDPpQNtX3NMWqI79x",
         "the dailies",
         "3kjzy5R1zPdnid2TYUQd2j"
        ],
        [
         "15",
         "Cranes in the Sky",
         "Solange",
         "48EjSdYh8wz2gBxxqzrsLe",
         "Chill",
         "4NHOoP5BGZbYrWohyaJJDW"
        ],
        [
         "16",
         "Swan Lake, Op. 20, TH.12 / Act 2: No. 13e Danse des cygnes: Pas d'action: Odette et le prince/Deuxième danse de la reine des cygnes (Andante)",
         "Pyotr Ilyich Tchaikovsky, Mincho Minchev, Francisco Gabarro, National Philharmonic Orchestra, Richard Bonynge",
         "4R772McoZ8AOv72a64wcK6",
         "🎻",
         "4DoAOEnrfxK4T23pJYyPiQ"
        ],
        [
         "17",
         "La vita nuova",
         "Christine and the Queens, Caroline Polachek",
         "36LC0XouPxisV5wz8I0fZ9",
         "Hmmm",
         "13km7JNQUh5DRGV9QexgpI"
        ]
       ],
       "shape": {
        "columns": 5,
        "rows": 18
       }
      },
      "text/html": [
       "<div>\n",
       "<style scoped>\n",
       "    .dataframe tbody tr th:only-of-type {\n",
       "        vertical-align: middle;\n",
       "    }\n",
       "\n",
       "    .dataframe tbody tr th {\n",
       "        vertical-align: top;\n",
       "    }\n",
       "\n",
       "    .dataframe thead th {\n",
       "        text-align: right;\n",
       "    }\n",
       "</style>\n",
       "<table border=\"1\" class=\"dataframe\">\n",
       "  <thead>\n",
       "    <tr style=\"text-align: right;\">\n",
       "      <th></th>\n",
       "      <th>track name</th>\n",
       "      <th>artists</th>\n",
       "      <th>track id</th>\n",
       "      <th>playlist name</th>\n",
       "      <th>playlist id</th>\n",
       "    </tr>\n",
       "  </thead>\n",
       "  <tbody>\n",
       "    <tr>\n",
       "      <th>0</th>\n",
       "      <td>Silencer</td>\n",
       "      <td>Dub War</td>\n",
       "      <td>1premcRnMNh9KvM7WWtgz5</td>\n",
       "      <td>the dailies</td>\n",
       "      <td>3kjzy5R1zPdnid2TYUQd2j</td>\n",
       "    </tr>\n",
       "    <tr>\n",
       "      <th>1</th>\n",
       "      <td>Pink + White</td>\n",
       "      <td>Frank Ocean</td>\n",
       "      <td>3xKsf9qdS1CyvXSMEid6g8</td>\n",
       "      <td>Chill</td>\n",
       "      <td>4NHOoP5BGZbYrWohyaJJDW</td>\n",
       "    </tr>\n",
       "    <tr>\n",
       "      <th>2</th>\n",
       "      <td>Big eye</td>\n",
       "      <td>Christine and the Queens</td>\n",
       "      <td>0fGbCVPP41cReDwIAuOORJ</td>\n",
       "      <td>Hmmm</td>\n",
       "      <td>13km7JNQUh5DRGV9QexgpI</td>\n",
       "    </tr>\n",
       "    <tr>\n",
       "      <th>3</th>\n",
       "      <td>Big eye</td>\n",
       "      <td>Christine and the Queens</td>\n",
       "      <td>0fGbCVPP41cReDwIAuOORJ</td>\n",
       "      <td>the dailies</td>\n",
       "      <td>3kjzy5R1zPdnid2TYUQd2j</td>\n",
       "    </tr>\n",
       "    <tr>\n",
       "      <th>4</th>\n",
       "      <td>Super Rich Kids</td>\n",
       "      <td>Frank Ocean, Earl Sweatshirt</td>\n",
       "      <td>0725YWm6Z0TpZ6wrNk64Eb</td>\n",
       "      <td>the dailies</td>\n",
       "      <td>3kjzy5R1zPdnid2TYUQd2j</td>\n",
       "    </tr>\n",
       "    <tr>\n",
       "      <th>5</th>\n",
       "      <td>You Gotta Be</td>\n",
       "      <td>Des'ree</td>\n",
       "      <td>6CU0zWIWVTEnmWpSjVHM93</td>\n",
       "      <td>the dailies</td>\n",
       "      <td>3kjzy5R1zPdnid2TYUQd2j</td>\n",
       "    </tr>\n",
       "    <tr>\n",
       "      <th>6</th>\n",
       "      <td>Combien de temps</td>\n",
       "      <td>Christine and the Queens, Rahim Redcar</td>\n",
       "      <td>61efs5Och14QW9lspob2or</td>\n",
       "      <td>Hmmm</td>\n",
       "      <td>13km7JNQUh5DRGV9QexgpI</td>\n",
       "    </tr>\n",
       "    <tr>\n",
       "      <th>7</th>\n",
       "      <td>Combien de temps</td>\n",
       "      <td>Christine and the Queens, Rahim Redcar</td>\n",
       "      <td>61efs5Och14QW9lspob2or</td>\n",
       "      <td>Chill</td>\n",
       "      <td>4NHOoP5BGZbYrWohyaJJDW</td>\n",
       "    </tr>\n",
       "    <tr>\n",
       "      <th>8</th>\n",
       "      <td>Antidote</td>\n",
       "      <td>Orion Sun</td>\n",
       "      <td>1NlGXcWeUSe1s3IgRKcqmB</td>\n",
       "      <td>Hmmm</td>\n",
       "      <td>13km7JNQUh5DRGV9QexgpI</td>\n",
       "    </tr>\n",
       "    <tr>\n",
       "      <th>9</th>\n",
       "      <td>Weird Fishes / Arpeggi</td>\n",
       "      <td>Radiohead</td>\n",
       "      <td>4wajJ1o7jWIg62YqpkHC7S</td>\n",
       "      <td>the dailies</td>\n",
       "      <td>3kjzy5R1zPdnid2TYUQd2j</td>\n",
       "    </tr>\n",
       "    <tr>\n",
       "      <th>10</th>\n",
       "      <td>Weird Fishes / Arpeggi</td>\n",
       "      <td>Radiohead</td>\n",
       "      <td>4wajJ1o7jWIg62YqpkHC7S</td>\n",
       "      <td>Chill</td>\n",
       "      <td>4NHOoP5BGZbYrWohyaJJDW</td>\n",
       "    </tr>\n",
       "    <tr>\n",
       "      <th>11</th>\n",
       "      <td>Self Control</td>\n",
       "      <td>Frank Ocean</td>\n",
       "      <td>5GUYJTQap5F3RDQiCOJhrS</td>\n",
       "      <td>Hmmm</td>\n",
       "      <td>13km7JNQUh5DRGV9QexgpI</td>\n",
       "    </tr>\n",
       "    <tr>\n",
       "      <th>12</th>\n",
       "      <td>Self Control</td>\n",
       "      <td>Frank Ocean</td>\n",
       "      <td>5GUYJTQap5F3RDQiCOJhrS</td>\n",
       "      <td>Chill</td>\n",
       "      <td>4NHOoP5BGZbYrWohyaJJDW</td>\n",
       "    </tr>\n",
       "    <tr>\n",
       "      <th>13</th>\n",
       "      <td>Mad (feat. Lil Wayne)</td>\n",
       "      <td>Solange, Lil Wayne</td>\n",
       "      <td>22DHmfJa31hKpc2Lg0gVBV</td>\n",
       "      <td>Chill</td>\n",
       "      <td>4NHOoP5BGZbYrWohyaJJDW</td>\n",
       "    </tr>\n",
       "    <tr>\n",
       "      <th>14</th>\n",
       "      <td>My Head Explodes</td>\n",
       "      <td>Ty Segall</td>\n",
       "      <td>3OYCyBDPpQNtX3NMWqI79x</td>\n",
       "      <td>the dailies</td>\n",
       "      <td>3kjzy5R1zPdnid2TYUQd2j</td>\n",
       "    </tr>\n",
       "    <tr>\n",
       "      <th>15</th>\n",
       "      <td>Cranes in the Sky</td>\n",
       "      <td>Solange</td>\n",
       "      <td>48EjSdYh8wz2gBxxqzrsLe</td>\n",
       "      <td>Chill</td>\n",
       "      <td>4NHOoP5BGZbYrWohyaJJDW</td>\n",
       "    </tr>\n",
       "    <tr>\n",
       "      <th>16</th>\n",
       "      <td>Swan Lake, Op. 20, TH.12 / Act 2: No. 13e Dans...</td>\n",
       "      <td>Pyotr Ilyich Tchaikovsky, Mincho Minchev, Fran...</td>\n",
       "      <td>4R772McoZ8AOv72a64wcK6</td>\n",
       "      <td>🎻</td>\n",
       "      <td>4DoAOEnrfxK4T23pJYyPiQ</td>\n",
       "    </tr>\n",
       "    <tr>\n",
       "      <th>17</th>\n",
       "      <td>La vita nuova</td>\n",
       "      <td>Christine and the Queens, Caroline Polachek</td>\n",
       "      <td>36LC0XouPxisV5wz8I0fZ9</td>\n",
       "      <td>Hmmm</td>\n",
       "      <td>13km7JNQUh5DRGV9QexgpI</td>\n",
       "    </tr>\n",
       "  </tbody>\n",
       "</table>\n",
       "</div>"
      ],
      "text/plain": [
       "                                           track name  \\\n",
       "0                                            Silencer   \n",
       "1                                        Pink + White   \n",
       "2                                             Big eye   \n",
       "3                                             Big eye   \n",
       "4                                     Super Rich Kids   \n",
       "5                                        You Gotta Be   \n",
       "6                                    Combien de temps   \n",
       "7                                    Combien de temps   \n",
       "8                                            Antidote   \n",
       "9                              Weird Fishes / Arpeggi   \n",
       "10                             Weird Fishes / Arpeggi   \n",
       "11                                       Self Control   \n",
       "12                                       Self Control   \n",
       "13                              Mad (feat. Lil Wayne)   \n",
       "14                                   My Head Explodes   \n",
       "15                                  Cranes in the Sky   \n",
       "16  Swan Lake, Op. 20, TH.12 / Act 2: No. 13e Dans...   \n",
       "17                                      La vita nuova   \n",
       "\n",
       "                                              artists                track id  \\\n",
       "0                                             Dub War  1premcRnMNh9KvM7WWtgz5   \n",
       "1                                         Frank Ocean  3xKsf9qdS1CyvXSMEid6g8   \n",
       "2                            Christine and the Queens  0fGbCVPP41cReDwIAuOORJ   \n",
       "3                            Christine and the Queens  0fGbCVPP41cReDwIAuOORJ   \n",
       "4                        Frank Ocean, Earl Sweatshirt  0725YWm6Z0TpZ6wrNk64Eb   \n",
       "5                                             Des'ree  6CU0zWIWVTEnmWpSjVHM93   \n",
       "6              Christine and the Queens, Rahim Redcar  61efs5Och14QW9lspob2or   \n",
       "7              Christine and the Queens, Rahim Redcar  61efs5Och14QW9lspob2or   \n",
       "8                                           Orion Sun  1NlGXcWeUSe1s3IgRKcqmB   \n",
       "9                                           Radiohead  4wajJ1o7jWIg62YqpkHC7S   \n",
       "10                                          Radiohead  4wajJ1o7jWIg62YqpkHC7S   \n",
       "11                                        Frank Ocean  5GUYJTQap5F3RDQiCOJhrS   \n",
       "12                                        Frank Ocean  5GUYJTQap5F3RDQiCOJhrS   \n",
       "13                                 Solange, Lil Wayne  22DHmfJa31hKpc2Lg0gVBV   \n",
       "14                                          Ty Segall  3OYCyBDPpQNtX3NMWqI79x   \n",
       "15                                            Solange  48EjSdYh8wz2gBxxqzrsLe   \n",
       "16  Pyotr Ilyich Tchaikovsky, Mincho Minchev, Fran...  4R772McoZ8AOv72a64wcK6   \n",
       "17        Christine and the Queens, Caroline Polachek  36LC0XouPxisV5wz8I0fZ9   \n",
       "\n",
       "   playlist name             playlist id  \n",
       "0    the dailies  3kjzy5R1zPdnid2TYUQd2j  \n",
       "1          Chill  4NHOoP5BGZbYrWohyaJJDW  \n",
       "2           Hmmm  13km7JNQUh5DRGV9QexgpI  \n",
       "3    the dailies  3kjzy5R1zPdnid2TYUQd2j  \n",
       "4    the dailies  3kjzy5R1zPdnid2TYUQd2j  \n",
       "5    the dailies  3kjzy5R1zPdnid2TYUQd2j  \n",
       "6           Hmmm  13km7JNQUh5DRGV9QexgpI  \n",
       "7          Chill  4NHOoP5BGZbYrWohyaJJDW  \n",
       "8           Hmmm  13km7JNQUh5DRGV9QexgpI  \n",
       "9    the dailies  3kjzy5R1zPdnid2TYUQd2j  \n",
       "10         Chill  4NHOoP5BGZbYrWohyaJJDW  \n",
       "11          Hmmm  13km7JNQUh5DRGV9QexgpI  \n",
       "12         Chill  4NHOoP5BGZbYrWohyaJJDW  \n",
       "13         Chill  4NHOoP5BGZbYrWohyaJJDW  \n",
       "14   the dailies  3kjzy5R1zPdnid2TYUQd2j  \n",
       "15         Chill  4NHOoP5BGZbYrWohyaJJDW  \n",
       "16             🎻  4DoAOEnrfxK4T23pJYyPiQ  \n",
       "17          Hmmm  13km7JNQUh5DRGV9QexgpI  "
      ]
     },
     "execution_count": 153,
     "metadata": {},
     "output_type": "execute_result"
    }
   ],
   "source": [
    "track_playlist_matches = all_top_tracks[all_top_tracks['track id'].isin(my_tracks_from_playlists['track id'])].merge(my_tracks_from_playlists[['track id','playlist name', 'playlist id']], on='track id', how='left')\n",
    "\n",
    "track_playlist_matches.drop(columns=['popularity', 'album', 'release'], axis=1)\n",
    "\n"
   ]
  },
  {
   "cell_type": "markdown",
   "metadata": {},
   "source": [
    "### _count amount of top tracks per playlist_"
   ]
  },
  {
   "cell_type": "code",
   "execution_count": 154,
   "metadata": {},
   "outputs": [
    {
     "data": {
      "text/plain": [
       "playlist name\n",
       "the dailies    6\n",
       "Chill          6\n",
       "Hmmm           5\n",
       "🎻              1\n",
       "Name: count, dtype: int64"
      ]
     },
     "execution_count": 154,
     "metadata": {},
     "output_type": "execute_result"
    }
   ],
   "source": [
    "top_playlists = track_playlist_matches['playlist name'].value_counts()\n",
    "\n",
    "top_playlists"
   ]
  },
  {
   "cell_type": "markdown",
   "metadata": {},
   "source": [
    "* _great. this was the expected output. i mostly listen to those top 2 playlists else, song radios._\n",
    "* _next, plot_"
   ]
  },
  {
   "cell_type": "code",
   "execution_count": 155,
   "metadata": {},
   "outputs": [
    {
     "name": "stderr",
     "output_type": "stream",
     "text": [
      "c:\\Users\\AARON\\Desktop\\DataSciFinal\\.venv\\Lib\\site-packages\\IPython\\core\\pylabtools.py:170: UserWarning: Glyph 127931 (\\N{VIOLIN}) missing from font(s) DejaVu Sans.\n",
      "  fig.canvas.print_figure(bytes_io, **kw)\n"
     ]
    },
    {
     "data": {
      "image/png": "[encoded data removed]",
      "text/plain": [
       "<Figure size 1000x600 with 1 Axes>"
      ]
     },
     "metadata": {},
     "output_type": "display_data"
    }
   ],
   "source": [
    "# my most listened to playlists from all_top_tracks count\n",
    "\n",
    "plt.figure(figsize=(10, 6))\n",
    "top_playlists.plot(kind='bar', color='purple')\n",
    "\n",
    "plt.title('My Top Playlists')\n",
    "plt.xlabel('Playlist Name', fontsize=12)\n",
    "plt.ylabel('Count from All Top Tracks', fontsize=12)\n",
    "\n",
    "plt.xticks(rotation=0, ha='center', fontsize=10)\n",
    "\n",
    "plt.show()"
   ]
  }
 ],
 "metadata": {
  "kernelspec": {
   "display_name": ".venv",
   "language": "python",
   "name": "python3"
  },
  "language_info": {
   "codemirror_mode": {
    "name": "ipython",
    "version": 3
   },
   "file_extension": ".py",
   "mimetype": "text/x-python",
   "name": "python",
   "nbconvert_exporter": "python",
   "pygments_lexer": "ipython3",
   "version": "3.12.3"
  }
 },
 "nbformat": 4,
 "nbformat_minor": 2
}
