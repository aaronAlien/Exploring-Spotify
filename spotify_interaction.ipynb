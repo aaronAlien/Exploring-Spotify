{
 "cells": [
  {
   "cell_type": "markdown",
   "metadata": {},
   "source": [
    "### 1. _Put phone in dev mode and installed Android ADB._\n",
    "### 2. _Locate spotify usage and extract with ADB._\n",
    "### 3. _Only one line of bash script really._\n",
    "### 4. _Convert the txt to csv. et voila!._"
   ]
  },
  {
   "cell_type": "code",
   "execution_count": 1,
   "metadata": {},
   "outputs": [],
   "source": [
    "import pprint\n",
    "import numpy as np\n",
    "import pandas as pd\n",
    "import seaborn as sns\n",
    "import matplotlib.pyplot as plt\n",
    "import matplotlib.dates as mdates\n",
    "\n",
    "\n",
    "# not scientific numbers\n",
    "pd.set_option('display.float_format', '{:.5f}'.format)\n",
    "np.set_printoptions(suppress=True)\n"
   ]
  },
  {
   "cell_type": "markdown",
   "metadata": {},
   "source": [
    "### _why am i rewriting this over and over - use a function silly!!_"
   ]
  },
  {
   "cell_type": "code",
   "execution_count": null,
   "metadata": {},
   "outputs": [],
   "source": [
    "# cleaning the csv converted from txt\n",
    "# making timestamp datetime - spitting date and time new columns - sort\n",
    "\n",
    "def clean_usage_tables(file_path):\n",
    "    # read - dropna - timestam to datetime - split to date & time columns sort byt date & time\n",
    "    df = pd.read_csv(file_path)\n",
    "    df = df.dropna()\n",
    "    df = df.drop(columns=['Application'])\n",
    "    df['Timestamp'] = pd.to_datetime(df['Timestamp'])\n",
    "    df['Date'] = df['Timestamp'].dt.date\n",
    "    df['Time'] = df['Timestamp'].dt.time\n",
    "    df = df.sort_values(by=['Date', 'Time'])\n",
    "\n",
    "    return df"
   ]
  },
  {
   "cell_type": "markdown",
   "metadata": {},
   "source": [
    "## _1_"
   ]
  },
  {
   "cell_type": "code",
   "execution_count": 3,
   "metadata": {},
   "outputs": [
    {
     "data": {
      "application/vnd.microsoft.datawrangler.viewer.v0+json": {
       "columns": [
        {
         "name": "index",
         "rawType": "int64",
         "type": "integer"
        },
        {
         "name": "Timestamp",
         "rawType": "datetime64[ns]",
         "type": "datetime"
        },
        {
         "name": "Activity Type",
         "rawType": "object",
         "type": "string"
        },
        {
         "name": "Date",
         "rawType": "object",
         "type": "unknown"
        },
        {
         "name": "Time",
         "rawType": "object",
         "type": "unknown"
        }
       ],
       "conversionMethod": "pd.DataFrame",
       "ref": "3a7ff519-54c8-46d2-9563-67c4967c7389",
       "rows": [
        [
         "0",
         "2025-02-16 11:31:05",
         "USER_INTERACTION",
         "2025-02-16",
         "11:31:05"
        ],
        [
         "1",
         "2025-02-16 11:31:06",
         "ACTIVITY_RESUMED",
         "2025-02-16",
         "11:31:06"
        ],
        [
         "2",
         "2025-02-16 11:31:24",
         "FOREGROUND_SERVICE_START",
         "2025-02-16",
         "11:31:24"
        ],
        [
         "3",
         "2025-02-16 11:31:24",
         "NOTIFICATION_INTERRUPTION",
         "2025-02-16",
         "11:31:24"
        ],
        [
         "4",
         "2025-02-16 11:31:27",
         "ACTIVITY_PAUSED",
         "2025-02-16",
         "11:31:27"
        ]
       ],
       "shape": {
        "columns": 4,
        "rows": 5
       }
      },
      "text/html": [
       "<div>\n",
       "<style scoped>\n",
       "    .dataframe tbody tr th:only-of-type {\n",
       "        vertical-align: middle;\n",
       "    }\n",
       "\n",
       "    .dataframe tbody tr th {\n",
       "        vertical-align: top;\n",
       "    }\n",
       "\n",
       "    .dataframe thead th {\n",
       "        text-align: right;\n",
       "    }\n",
       "</style>\n",
       "<table border=\"1\" class=\"dataframe\">\n",
       "  <thead>\n",
       "    <tr style=\"text-align: right;\">\n",
       "      <th></th>\n",
       "      <th>Timestamp</th>\n",
       "      <th>Activity Type</th>\n",
       "      <th>Date</th>\n",
       "      <th>Time</th>\n",
       "    </tr>\n",
       "  </thead>\n",
       "  <tbody>\n",
       "    <tr>\n",
       "      <th>0</th>\n",
       "      <td>2025-02-16 11:31:05</td>\n",
       "      <td>USER_INTERACTION</td>\n",
       "      <td>2025-02-16</td>\n",
       "      <td>11:31:05</td>\n",
       "    </tr>\n",
       "    <tr>\n",
       "      <th>1</th>\n",
       "      <td>2025-02-16 11:31:06</td>\n",
       "      <td>ACTIVITY_RESUMED</td>\n",
       "      <td>2025-02-16</td>\n",
       "      <td>11:31:06</td>\n",
       "    </tr>\n",
       "    <tr>\n",
       "      <th>2</th>\n",
       "      <td>2025-02-16 11:31:24</td>\n",
       "      <td>FOREGROUND_SERVICE_START</td>\n",
       "      <td>2025-02-16</td>\n",
       "      <td>11:31:24</td>\n",
       "    </tr>\n",
       "    <tr>\n",
       "      <th>3</th>\n",
       "      <td>2025-02-16 11:31:24</td>\n",
       "      <td>NOTIFICATION_INTERRUPTION</td>\n",
       "      <td>2025-02-16</td>\n",
       "      <td>11:31:24</td>\n",
       "    </tr>\n",
       "    <tr>\n",
       "      <th>4</th>\n",
       "      <td>2025-02-16 11:31:27</td>\n",
       "      <td>ACTIVITY_PAUSED</td>\n",
       "      <td>2025-02-16</td>\n",
       "      <td>11:31:27</td>\n",
       "    </tr>\n",
       "  </tbody>\n",
       "</table>\n",
       "</div>"
      ],
      "text/plain": [
       "            Timestamp              Activity Type        Date      Time\n",
       "0 2025-02-16 11:31:05           USER_INTERACTION  2025-02-16  11:31:05\n",
       "1 2025-02-16 11:31:06           ACTIVITY_RESUMED  2025-02-16  11:31:06\n",
       "2 2025-02-16 11:31:24   FOREGROUND_SERVICE_START  2025-02-16  11:31:24\n",
       "3 2025-02-16 11:31:24  NOTIFICATION_INTERRUPTION  2025-02-16  11:31:24\n",
       "4 2025-02-16 11:31:27            ACTIVITY_PAUSED  2025-02-16  11:31:27"
      ]
     },
     "execution_count": 3,
     "metadata": {},
     "output_type": "execute_result"
    }
   ],
   "source": [
    "df1 = clean_usage_tables('data/my_spotify_usage_1.csv')\n",
    "df1.head()"
   ]
  },
  {
   "cell_type": "markdown",
   "metadata": {},
   "source": [
    "# _2_"
   ]
  },
  {
   "cell_type": "code",
   "execution_count": 4,
   "metadata": {},
   "outputs": [
    {
     "data": {
      "application/vnd.microsoft.datawrangler.viewer.v0+json": {
       "columns": [
        {
         "name": "index",
         "rawType": "int64",
         "type": "integer"
        },
        {
         "name": "Timestamp",
         "rawType": "datetime64[ns]",
         "type": "datetime"
        },
        {
         "name": "Activity Type",
         "rawType": "object",
         "type": "string"
        },
        {
         "name": "Date",
         "rawType": "object",
         "type": "unknown"
        },
        {
         "name": "Time",
         "rawType": "object",
         "type": "unknown"
        }
       ],
       "conversionMethod": "pd.DataFrame",
       "ref": "e5c2fc92-8b52-4399-a910-5b9fbb4bbc3b",
       "rows": [
        [
         "0",
         "2025-02-18 10:40:31",
         "ACTIVITY_RESUMED",
         "2025-02-18",
         "10:40:31"
        ],
        [
         "1",
         "2025-02-18 10:40:40",
         "ACTIVITY_PAUSED",
         "2025-02-18",
         "10:40:40"
        ],
        [
         "2",
         "2025-02-18 10:40:41",
         "ACTIVITY_STOPPED",
         "2025-02-18",
         "10:40:41"
        ],
        [
         "3",
         "2025-02-18 11:27:08",
         "FOREGROUND_SERVICE_STOP",
         "2025-02-18",
         "11:27:08"
        ],
        [
         "4",
         "2025-02-18 12:23:40",
         "USER_INTERACTION",
         "2025-02-18",
         "12:23:40"
        ]
       ],
       "shape": {
        "columns": 4,
        "rows": 5
       }
      },
      "text/html": [
       "<div>\n",
       "<style scoped>\n",
       "    .dataframe tbody tr th:only-of-type {\n",
       "        vertical-align: middle;\n",
       "    }\n",
       "\n",
       "    .dataframe tbody tr th {\n",
       "        vertical-align: top;\n",
       "    }\n",
       "\n",
       "    .dataframe thead th {\n",
       "        text-align: right;\n",
       "    }\n",
       "</style>\n",
       "<table border=\"1\" class=\"dataframe\">\n",
       "  <thead>\n",
       "    <tr style=\"text-align: right;\">\n",
       "      <th></th>\n",
       "      <th>Timestamp</th>\n",
       "      <th>Activity Type</th>\n",
       "      <th>Date</th>\n",
       "      <th>Time</th>\n",
       "    </tr>\n",
       "  </thead>\n",
       "  <tbody>\n",
       "    <tr>\n",
       "      <th>0</th>\n",
       "      <td>2025-02-18 10:40:31</td>\n",
       "      <td>ACTIVITY_RESUMED</td>\n",
       "      <td>2025-02-18</td>\n",
       "      <td>10:40:31</td>\n",
       "    </tr>\n",
       "    <tr>\n",
       "      <th>1</th>\n",
       "      <td>2025-02-18 10:40:40</td>\n",
       "      <td>ACTIVITY_PAUSED</td>\n",
       "      <td>2025-02-18</td>\n",
       "      <td>10:40:40</td>\n",
       "    </tr>\n",
       "    <tr>\n",
       "      <th>2</th>\n",
       "      <td>2025-02-18 10:40:41</td>\n",
       "      <td>ACTIVITY_STOPPED</td>\n",
       "      <td>2025-02-18</td>\n",
       "      <td>10:40:41</td>\n",
       "    </tr>\n",
       "    <tr>\n",
       "      <th>3</th>\n",
       "      <td>2025-02-18 11:27:08</td>\n",
       "      <td>FOREGROUND_SERVICE_STOP</td>\n",
       "      <td>2025-02-18</td>\n",
       "      <td>11:27:08</td>\n",
       "    </tr>\n",
       "    <tr>\n",
       "      <th>4</th>\n",
       "      <td>2025-02-18 12:23:40</td>\n",
       "      <td>USER_INTERACTION</td>\n",
       "      <td>2025-02-18</td>\n",
       "      <td>12:23:40</td>\n",
       "    </tr>\n",
       "  </tbody>\n",
       "</table>\n",
       "</div>"
      ],
      "text/plain": [
       "            Timestamp            Activity Type        Date      Time\n",
       "0 2025-02-18 10:40:31         ACTIVITY_RESUMED  2025-02-18  10:40:31\n",
       "1 2025-02-18 10:40:40          ACTIVITY_PAUSED  2025-02-18  10:40:40\n",
       "2 2025-02-18 10:40:41         ACTIVITY_STOPPED  2025-02-18  10:40:41\n",
       "3 2025-02-18 11:27:08  FOREGROUND_SERVICE_STOP  2025-02-18  11:27:08\n",
       "4 2025-02-18 12:23:40         USER_INTERACTION  2025-02-18  12:23:40"
      ]
     },
     "execution_count": 4,
     "metadata": {},
     "output_type": "execute_result"
    }
   ],
   "source": [
    "df2 = clean_usage_tables('data/my_spotify_usage_2.csv')\n",
    "df2.head()"
   ]
  },
  {
   "cell_type": "markdown",
   "metadata": {},
   "source": [
    "# _3_"
   ]
  },
  {
   "cell_type": "code",
   "execution_count": 5,
   "metadata": {},
   "outputs": [
    {
     "data": {
      "application/vnd.microsoft.datawrangler.viewer.v0+json": {
       "columns": [
        {
         "name": "index",
         "rawType": "int64",
         "type": "integer"
        },
        {
         "name": "Timestamp",
         "rawType": "datetime64[ns]",
         "type": "datetime"
        },
        {
         "name": "Activity Type",
         "rawType": "object",
         "type": "string"
        },
        {
         "name": "Date",
         "rawType": "object",
         "type": "unknown"
        },
        {
         "name": "Time",
         "rawType": "object",
         "type": "unknown"
        }
       ],
       "conversionMethod": "pd.DataFrame",
       "ref": "a074c828-caba-425f-866b-e94327dd1368",
       "rows": [
        [
         "0",
         "2025-02-19 10:15:28",
         "FOREGROUND_SERVICE_START",
         "2025-02-19",
         "10:15:28"
        ],
        [
         "1",
         "2025-02-19 10:15:28",
         "NOTIFICATION_INTERRUPTION",
         "2025-02-19",
         "10:15:28"
        ],
        [
         "2",
         "2025-02-19 10:15:32",
         "FOREGROUND_SERVICE_START",
         "2025-02-19",
         "10:15:32"
        ],
        [
         "3",
         "2025-02-19 10:15:32",
         "FOREGROUND_SERVICE_STOP",
         "2025-02-19",
         "10:15:32"
        ],
        [
         "4",
         "2025-02-19 10:25:48",
         "FOREGROUND_SERVICE_STOP",
         "2025-02-19",
         "10:25:48"
        ]
       ],
       "shape": {
        "columns": 4,
        "rows": 5
       }
      },
      "text/html": [
       "<div>\n",
       "<style scoped>\n",
       "    .dataframe tbody tr th:only-of-type {\n",
       "        vertical-align: middle;\n",
       "    }\n",
       "\n",
       "    .dataframe tbody tr th {\n",
       "        vertical-align: top;\n",
       "    }\n",
       "\n",
       "    .dataframe thead th {\n",
       "        text-align: right;\n",
       "    }\n",
       "</style>\n",
       "<table border=\"1\" class=\"dataframe\">\n",
       "  <thead>\n",
       "    <tr style=\"text-align: right;\">\n",
       "      <th></th>\n",
       "      <th>Timestamp</th>\n",
       "      <th>Activity Type</th>\n",
       "      <th>Date</th>\n",
       "      <th>Time</th>\n",
       "    </tr>\n",
       "  </thead>\n",
       "  <tbody>\n",
       "    <tr>\n",
       "      <th>0</th>\n",
       "      <td>2025-02-19 10:15:28</td>\n",
       "      <td>FOREGROUND_SERVICE_START</td>\n",
       "      <td>2025-02-19</td>\n",
       "      <td>10:15:28</td>\n",
       "    </tr>\n",
       "    <tr>\n",
       "      <th>1</th>\n",
       "      <td>2025-02-19 10:15:28</td>\n",
       "      <td>NOTIFICATION_INTERRUPTION</td>\n",
       "      <td>2025-02-19</td>\n",
       "      <td>10:15:28</td>\n",
       "    </tr>\n",
       "    <tr>\n",
       "      <th>2</th>\n",
       "      <td>2025-02-19 10:15:32</td>\n",
       "      <td>FOREGROUND_SERVICE_START</td>\n",
       "      <td>2025-02-19</td>\n",
       "      <td>10:15:32</td>\n",
       "    </tr>\n",
       "    <tr>\n",
       "      <th>3</th>\n",
       "      <td>2025-02-19 10:15:32</td>\n",
       "      <td>FOREGROUND_SERVICE_STOP</td>\n",
       "      <td>2025-02-19</td>\n",
       "      <td>10:15:32</td>\n",
       "    </tr>\n",
       "    <tr>\n",
       "      <th>4</th>\n",
       "      <td>2025-02-19 10:25:48</td>\n",
       "      <td>FOREGROUND_SERVICE_STOP</td>\n",
       "      <td>2025-02-19</td>\n",
       "      <td>10:25:48</td>\n",
       "    </tr>\n",
       "  </tbody>\n",
       "</table>\n",
       "</div>"
      ],
      "text/plain": [
       "            Timestamp              Activity Type        Date      Time\n",
       "0 2025-02-19 10:15:28   FOREGROUND_SERVICE_START  2025-02-19  10:15:28\n",
       "1 2025-02-19 10:15:28  NOTIFICATION_INTERRUPTION  2025-02-19  10:15:28\n",
       "2 2025-02-19 10:15:32   FOREGROUND_SERVICE_START  2025-02-19  10:15:32\n",
       "3 2025-02-19 10:15:32    FOREGROUND_SERVICE_STOP  2025-02-19  10:15:32\n",
       "4 2025-02-19 10:25:48    FOREGROUND_SERVICE_STOP  2025-02-19  10:25:48"
      ]
     },
     "execution_count": 5,
     "metadata": {},
     "output_type": "execute_result"
    }
   ],
   "source": [
    "df3 = clean_usage_tables('data/my_spotify_usage_3.csv')\n",
    "df3.head()"
   ]
  },
  {
   "cell_type": "markdown",
   "metadata": {},
   "source": [
    "# _4_"
   ]
  },
  {
   "cell_type": "code",
   "execution_count": 6,
   "metadata": {},
   "outputs": [
    {
     "data": {
      "application/vnd.microsoft.datawrangler.viewer.v0+json": {
       "columns": [
        {
         "name": "index",
         "rawType": "int64",
         "type": "integer"
        },
        {
         "name": "Timestamp",
         "rawType": "datetime64[ns]",
         "type": "datetime"
        },
        {
         "name": "Activity Type",
         "rawType": "object",
         "type": "string"
        },
        {
         "name": "Date",
         "rawType": "object",
         "type": "unknown"
        },
        {
         "name": "Time",
         "rawType": "object",
         "type": "unknown"
        }
       ],
       "conversionMethod": "pd.DataFrame",
       "ref": "8a474a76-0446-4189-9b25-44a86b81181b",
       "rows": [
        [
         "0",
         "2025-02-17 08:38:56",
         "USER_INTERACTION",
         "2025-02-17",
         "08:38:56"
        ],
        [
         "1",
         "2025-02-17 08:38:56",
         "ACTIVITY_RESUMED",
         "2025-02-17",
         "08:38:56"
        ],
        [
         "2",
         "2025-02-17 08:39:03",
         "FOREGROUND_SERVICE_START",
         "2025-02-17",
         "08:39:03"
        ],
        [
         "3",
         "2025-02-17 08:39:03",
         "NOTIFICATION_INTERRUPTION",
         "2025-02-17",
         "08:39:03"
        ],
        [
         "4",
         "2025-02-17 08:39:06",
         "ACTIVITY_PAUSED",
         "2025-02-17",
         "08:39:06"
        ]
       ],
       "shape": {
        "columns": 4,
        "rows": 5
       }
      },
      "text/html": [
       "<div>\n",
       "<style scoped>\n",
       "    .dataframe tbody tr th:only-of-type {\n",
       "        vertical-align: middle;\n",
       "    }\n",
       "\n",
       "    .dataframe tbody tr th {\n",
       "        vertical-align: top;\n",
       "    }\n",
       "\n",
       "    .dataframe thead th {\n",
       "        text-align: right;\n",
       "    }\n",
       "</style>\n",
       "<table border=\"1\" class=\"dataframe\">\n",
       "  <thead>\n",
       "    <tr style=\"text-align: right;\">\n",
       "      <th></th>\n",
       "      <th>Timestamp</th>\n",
       "      <th>Activity Type</th>\n",
       "      <th>Date</th>\n",
       "      <th>Time</th>\n",
       "    </tr>\n",
       "  </thead>\n",
       "  <tbody>\n",
       "    <tr>\n",
       "      <th>0</th>\n",
       "      <td>2025-02-17 08:38:56</td>\n",
       "      <td>USER_INTERACTION</td>\n",
       "      <td>2025-02-17</td>\n",
       "      <td>08:38:56</td>\n",
       "    </tr>\n",
       "    <tr>\n",
       "      <th>1</th>\n",
       "      <td>2025-02-17 08:38:56</td>\n",
       "      <td>ACTIVITY_RESUMED</td>\n",
       "      <td>2025-02-17</td>\n",
       "      <td>08:38:56</td>\n",
       "    </tr>\n",
       "    <tr>\n",
       "      <th>2</th>\n",
       "      <td>2025-02-17 08:39:03</td>\n",
       "      <td>FOREGROUND_SERVICE_START</td>\n",
       "      <td>2025-02-17</td>\n",
       "      <td>08:39:03</td>\n",
       "    </tr>\n",
       "    <tr>\n",
       "      <th>3</th>\n",
       "      <td>2025-02-17 08:39:03</td>\n",
       "      <td>NOTIFICATION_INTERRUPTION</td>\n",
       "      <td>2025-02-17</td>\n",
       "      <td>08:39:03</td>\n",
       "    </tr>\n",
       "    <tr>\n",
       "      <th>4</th>\n",
       "      <td>2025-02-17 08:39:06</td>\n",
       "      <td>ACTIVITY_PAUSED</td>\n",
       "      <td>2025-02-17</td>\n",
       "      <td>08:39:06</td>\n",
       "    </tr>\n",
       "  </tbody>\n",
       "</table>\n",
       "</div>"
      ],
      "text/plain": [
       "            Timestamp              Activity Type        Date      Time\n",
       "0 2025-02-17 08:38:56           USER_INTERACTION  2025-02-17  08:38:56\n",
       "1 2025-02-17 08:38:56           ACTIVITY_RESUMED  2025-02-17  08:38:56\n",
       "2 2025-02-17 08:39:03   FOREGROUND_SERVICE_START  2025-02-17  08:39:03\n",
       "3 2025-02-17 08:39:03  NOTIFICATION_INTERRUPTION  2025-02-17  08:39:03\n",
       "4 2025-02-17 08:39:06            ACTIVITY_PAUSED  2025-02-17  08:39:06"
      ]
     },
     "execution_count": 6,
     "metadata": {},
     "output_type": "execute_result"
    }
   ],
   "source": [
    "df4 = clean_usage_tables('data/my_spotify_usage_4.csv')\n",
    "df4.head()"
   ]
  },
  {
   "cell_type": "markdown",
   "metadata": {},
   "source": [
    "# _5_"
   ]
  },
  {
   "cell_type": "code",
   "execution_count": 7,
   "metadata": {},
   "outputs": [
    {
     "data": {
      "application/vnd.microsoft.datawrangler.viewer.v0+json": {
       "columns": [
        {
         "name": "index",
         "rawType": "int64",
         "type": "integer"
        },
        {
         "name": "Timestamp",
         "rawType": "datetime64[ns]",
         "type": "datetime"
        },
        {
         "name": "Activity Type",
         "rawType": "object",
         "type": "string"
        },
        {
         "name": "Date",
         "rawType": "object",
         "type": "unknown"
        },
        {
         "name": "Time",
         "rawType": "object",
         "type": "unknown"
        }
       ],
       "conversionMethod": "pd.DataFrame",
       "ref": "4fd61590-a974-4270-aea5-2a3ae17a7093",
       "rows": [
        [
         "0",
         "2025-02-20 09:56:58",
         "USER_INTERACTION",
         "2025-02-20",
         "09:56:58"
        ],
        [
         "1",
         "2025-02-20 09:56:58",
         "ACTIVITY_RESUMED",
         "2025-02-20",
         "09:56:58"
        ],
        [
         "2",
         "2025-02-20 09:57:02",
         "ACTIVITY_PAUSED",
         "2025-02-20",
         "09:57:02"
        ],
        [
         "3",
         "2025-02-20 09:57:02",
         "SHORTCUT_INVOCATION",
         "2025-02-20",
         "09:57:02"
        ],
        [
         "4",
         "2025-02-20 09:57:02",
         "SHORTCUT_INVOCATION",
         "2025-02-20",
         "09:57:02"
        ]
       ],
       "shape": {
        "columns": 4,
        "rows": 5
       }
      },
      "text/html": [
       "<div>\n",
       "<style scoped>\n",
       "    .dataframe tbody tr th:only-of-type {\n",
       "        vertical-align: middle;\n",
       "    }\n",
       "\n",
       "    .dataframe tbody tr th {\n",
       "        vertical-align: top;\n",
       "    }\n",
       "\n",
       "    .dataframe thead th {\n",
       "        text-align: right;\n",
       "    }\n",
       "</style>\n",
       "<table border=\"1\" class=\"dataframe\">\n",
       "  <thead>\n",
       "    <tr style=\"text-align: right;\">\n",
       "      <th></th>\n",
       "      <th>Timestamp</th>\n",
       "      <th>Activity Type</th>\n",
       "      <th>Date</th>\n",
       "      <th>Time</th>\n",
       "    </tr>\n",
       "  </thead>\n",
       "  <tbody>\n",
       "    <tr>\n",
       "      <th>0</th>\n",
       "      <td>2025-02-20 09:56:58</td>\n",
       "      <td>USER_INTERACTION</td>\n",
       "      <td>2025-02-20</td>\n",
       "      <td>09:56:58</td>\n",
       "    </tr>\n",
       "    <tr>\n",
       "      <th>1</th>\n",
       "      <td>2025-02-20 09:56:58</td>\n",
       "      <td>ACTIVITY_RESUMED</td>\n",
       "      <td>2025-02-20</td>\n",
       "      <td>09:56:58</td>\n",
       "    </tr>\n",
       "    <tr>\n",
       "      <th>2</th>\n",
       "      <td>2025-02-20 09:57:02</td>\n",
       "      <td>ACTIVITY_PAUSED</td>\n",
       "      <td>2025-02-20</td>\n",
       "      <td>09:57:02</td>\n",
       "    </tr>\n",
       "    <tr>\n",
       "      <th>3</th>\n",
       "      <td>2025-02-20 09:57:02</td>\n",
       "      <td>SHORTCUT_INVOCATION</td>\n",
       "      <td>2025-02-20</td>\n",
       "      <td>09:57:02</td>\n",
       "    </tr>\n",
       "    <tr>\n",
       "      <th>4</th>\n",
       "      <td>2025-02-20 09:57:02</td>\n",
       "      <td>SHORTCUT_INVOCATION</td>\n",
       "      <td>2025-02-20</td>\n",
       "      <td>09:57:02</td>\n",
       "    </tr>\n",
       "  </tbody>\n",
       "</table>\n",
       "</div>"
      ],
      "text/plain": [
       "            Timestamp        Activity Type        Date      Time\n",
       "0 2025-02-20 09:56:58     USER_INTERACTION  2025-02-20  09:56:58\n",
       "1 2025-02-20 09:56:58     ACTIVITY_RESUMED  2025-02-20  09:56:58\n",
       "2 2025-02-20 09:57:02      ACTIVITY_PAUSED  2025-02-20  09:57:02\n",
       "3 2025-02-20 09:57:02  SHORTCUT_INVOCATION  2025-02-20  09:57:02\n",
       "4 2025-02-20 09:57:02  SHORTCUT_INVOCATION  2025-02-20  09:57:02"
      ]
     },
     "execution_count": 7,
     "metadata": {},
     "output_type": "execute_result"
    }
   ],
   "source": [
    "df5 = clean_usage_tables('data/my_spotify_usage_5.csv')\n",
    "df5.head()"
   ]
  },
  {
   "cell_type": "markdown",
   "metadata": {},
   "source": [
    "# _6_"
   ]
  },
  {
   "cell_type": "code",
   "execution_count": 8,
   "metadata": {},
   "outputs": [
    {
     "data": {
      "application/vnd.microsoft.datawrangler.viewer.v0+json": {
       "columns": [
        {
         "name": "index",
         "rawType": "int64",
         "type": "integer"
        },
        {
         "name": "Timestamp",
         "rawType": "datetime64[ns]",
         "type": "datetime"
        },
        {
         "name": "Activity Type",
         "rawType": "object",
         "type": "string"
        },
        {
         "name": "Date",
         "rawType": "object",
         "type": "unknown"
        },
        {
         "name": "Time",
         "rawType": "object",
         "type": "unknown"
        }
       ],
       "conversionMethod": "pd.DataFrame",
       "ref": "bc46905c-fbff-4fc5-9846-f500f857e5e1",
       "rows": [
        [
         "0",
         "2025-02-21 09:42:32",
         "FOREGROUND_SERVICE_START",
         "2025-02-21",
         "09:42:32"
        ],
        [
         "1",
         "2025-02-21 09:42:32",
         "NOTIFICATION_INTERRUPTION",
         "2025-02-21",
         "09:42:32"
        ],
        [
         "2",
         "2025-02-21 09:42:37",
         "FOREGROUND_SERVICE_START",
         "2025-02-21",
         "09:42:37"
        ],
        [
         "3",
         "2025-02-21 09:42:39",
         "FOREGROUND_SERVICE_STOP",
         "2025-02-21",
         "09:42:39"
        ],
        [
         "4",
         "2025-02-21 09:55:27",
         "FOREGROUND_SERVICE_STOP",
         "2025-02-21",
         "09:55:27"
        ]
       ],
       "shape": {
        "columns": 4,
        "rows": 5
       }
      },
      "text/html": [
       "<div>\n",
       "<style scoped>\n",
       "    .dataframe tbody tr th:only-of-type {\n",
       "        vertical-align: middle;\n",
       "    }\n",
       "\n",
       "    .dataframe tbody tr th {\n",
       "        vertical-align: top;\n",
       "    }\n",
       "\n",
       "    .dataframe thead th {\n",
       "        text-align: right;\n",
       "    }\n",
       "</style>\n",
       "<table border=\"1\" class=\"dataframe\">\n",
       "  <thead>\n",
       "    <tr style=\"text-align: right;\">\n",
       "      <th></th>\n",
       "      <th>Timestamp</th>\n",
       "      <th>Activity Type</th>\n",
       "      <th>Date</th>\n",
       "      <th>Time</th>\n",
       "    </tr>\n",
       "  </thead>\n",
       "  <tbody>\n",
       "    <tr>\n",
       "      <th>0</th>\n",
       "      <td>2025-02-21 09:42:32</td>\n",
       "      <td>FOREGROUND_SERVICE_START</td>\n",
       "      <td>2025-02-21</td>\n",
       "      <td>09:42:32</td>\n",
       "    </tr>\n",
       "    <tr>\n",
       "      <th>1</th>\n",
       "      <td>2025-02-21 09:42:32</td>\n",
       "      <td>NOTIFICATION_INTERRUPTION</td>\n",
       "      <td>2025-02-21</td>\n",
       "      <td>09:42:32</td>\n",
       "    </tr>\n",
       "    <tr>\n",
       "      <th>2</th>\n",
       "      <td>2025-02-21 09:42:37</td>\n",
       "      <td>FOREGROUND_SERVICE_START</td>\n",
       "      <td>2025-02-21</td>\n",
       "      <td>09:42:37</td>\n",
       "    </tr>\n",
       "    <tr>\n",
       "      <th>3</th>\n",
       "      <td>2025-02-21 09:42:39</td>\n",
       "      <td>FOREGROUND_SERVICE_STOP</td>\n",
       "      <td>2025-02-21</td>\n",
       "      <td>09:42:39</td>\n",
       "    </tr>\n",
       "    <tr>\n",
       "      <th>4</th>\n",
       "      <td>2025-02-21 09:55:27</td>\n",
       "      <td>FOREGROUND_SERVICE_STOP</td>\n",
       "      <td>2025-02-21</td>\n",
       "      <td>09:55:27</td>\n",
       "    </tr>\n",
       "  </tbody>\n",
       "</table>\n",
       "</div>"
      ],
      "text/plain": [
       "            Timestamp              Activity Type        Date      Time\n",
       "0 2025-02-21 09:42:32   FOREGROUND_SERVICE_START  2025-02-21  09:42:32\n",
       "1 2025-02-21 09:42:32  NOTIFICATION_INTERRUPTION  2025-02-21  09:42:32\n",
       "2 2025-02-21 09:42:37   FOREGROUND_SERVICE_START  2025-02-21  09:42:37\n",
       "3 2025-02-21 09:42:39    FOREGROUND_SERVICE_STOP  2025-02-21  09:42:39\n",
       "4 2025-02-21 09:55:27    FOREGROUND_SERVICE_STOP  2025-02-21  09:55:27"
      ]
     },
     "execution_count": 8,
     "metadata": {},
     "output_type": "execute_result"
    }
   ],
   "source": [
    "df6 = clean_usage_tables('data/my_spotify_usage_6.csv')\n",
    "df6.head()"
   ]
  },
  {
   "cell_type": "markdown",
   "metadata": {},
   "source": [
    "# _7_"
   ]
  },
  {
   "cell_type": "code",
   "execution_count": 9,
   "metadata": {},
   "outputs": [
    {
     "data": {
      "application/vnd.microsoft.datawrangler.viewer.v0+json": {
       "columns": [
        {
         "name": "index",
         "rawType": "int64",
         "type": "integer"
        },
        {
         "name": "Timestamp",
         "rawType": "datetime64[ns]",
         "type": "datetime"
        },
        {
         "name": "Activity Type",
         "rawType": "object",
         "type": "string"
        },
        {
         "name": "Date",
         "rawType": "object",
         "type": "unknown"
        },
        {
         "name": "Time",
         "rawType": "object",
         "type": "unknown"
        }
       ],
       "conversionMethod": "pd.DataFrame",
       "ref": "d5f19633-bd56-4db3-b0b9-1a50d42c829d",
       "rows": [
        [
         "0",
         "2025-02-22 09:33:18",
         "FOREGROUND_SERVICE_START",
         "2025-02-22",
         "09:33:18"
        ],
        [
         "1",
         "2025-02-22 09:33:18",
         "NOTIFICATION_INTERRUPTION",
         "2025-02-22",
         "09:33:18"
        ],
        [
         "2",
         "2025-02-22 10:18:49",
         "FOREGROUND_SERVICE_STOP",
         "2025-02-22",
         "10:18:49"
        ],
        [
         "3",
         "2025-02-22 12:23:10",
         "USER_INTERACTION",
         "2025-02-22",
         "12:23:10"
        ],
        [
         "4",
         "2025-02-22 12:23:10",
         "FOREGROUND_SERVICE_START",
         "2025-02-22",
         "12:23:10"
        ]
       ],
       "shape": {
        "columns": 4,
        "rows": 5
       }
      },
      "text/html": [
       "<div>\n",
       "<style scoped>\n",
       "    .dataframe tbody tr th:only-of-type {\n",
       "        vertical-align: middle;\n",
       "    }\n",
       "\n",
       "    .dataframe tbody tr th {\n",
       "        vertical-align: top;\n",
       "    }\n",
       "\n",
       "    .dataframe thead th {\n",
       "        text-align: right;\n",
       "    }\n",
       "</style>\n",
       "<table border=\"1\" class=\"dataframe\">\n",
       "  <thead>\n",
       "    <tr style=\"text-align: right;\">\n",
       "      <th></th>\n",
       "      <th>Timestamp</th>\n",
       "      <th>Activity Type</th>\n",
       "      <th>Date</th>\n",
       "      <th>Time</th>\n",
       "    </tr>\n",
       "  </thead>\n",
       "  <tbody>\n",
       "    <tr>\n",
       "      <th>0</th>\n",
       "      <td>2025-02-22 09:33:18</td>\n",
       "      <td>FOREGROUND_SERVICE_START</td>\n",
       "      <td>2025-02-22</td>\n",
       "      <td>09:33:18</td>\n",
       "    </tr>\n",
       "    <tr>\n",
       "      <th>1</th>\n",
       "      <td>2025-02-22 09:33:18</td>\n",
       "      <td>NOTIFICATION_INTERRUPTION</td>\n",
       "      <td>2025-02-22</td>\n",
       "      <td>09:33:18</td>\n",
       "    </tr>\n",
       "    <tr>\n",
       "      <th>2</th>\n",
       "      <td>2025-02-22 10:18:49</td>\n",
       "      <td>FOREGROUND_SERVICE_STOP</td>\n",
       "      <td>2025-02-22</td>\n",
       "      <td>10:18:49</td>\n",
       "    </tr>\n",
       "    <tr>\n",
       "      <th>3</th>\n",
       "      <td>2025-02-22 12:23:10</td>\n",
       "      <td>USER_INTERACTION</td>\n",
       "      <td>2025-02-22</td>\n",
       "      <td>12:23:10</td>\n",
       "    </tr>\n",
       "    <tr>\n",
       "      <th>4</th>\n",
       "      <td>2025-02-22 12:23:10</td>\n",
       "      <td>FOREGROUND_SERVICE_START</td>\n",
       "      <td>2025-02-22</td>\n",
       "      <td>12:23:10</td>\n",
       "    </tr>\n",
       "  </tbody>\n",
       "</table>\n",
       "</div>"
      ],
      "text/plain": [
       "            Timestamp              Activity Type        Date      Time\n",
       "0 2025-02-22 09:33:18   FOREGROUND_SERVICE_START  2025-02-22  09:33:18\n",
       "1 2025-02-22 09:33:18  NOTIFICATION_INTERRUPTION  2025-02-22  09:33:18\n",
       "2 2025-02-22 10:18:49    FOREGROUND_SERVICE_STOP  2025-02-22  10:18:49\n",
       "3 2025-02-22 12:23:10           USER_INTERACTION  2025-02-22  12:23:10\n",
       "4 2025-02-22 12:23:10   FOREGROUND_SERVICE_START  2025-02-22  12:23:10"
      ]
     },
     "execution_count": 9,
     "metadata": {},
     "output_type": "execute_result"
    }
   ],
   "source": [
    "df7 = clean_usage_tables('data/my_spotify_usage_7.csv')\n",
    "df7.head()"
   ]
  },
  {
   "cell_type": "markdown",
   "metadata": {},
   "source": [
    "## _mearge all_"
   ]
  },
  {
   "cell_type": "code",
   "execution_count": null,
   "metadata": {},
   "outputs": [],
   "source": [
    "# concat for all same columns\n",
    "\n",
    "my_spotify_usage = pd.concat([df1,df2,df3,df5,df5,df6,df7]).drop_duplicates(subset=['Timestamp'])\n"
   ]
  },
  {
   "cell_type": "code",
   "execution_count": null,
   "metadata": {},
   "outputs": [],
   "source": [
    "# sort by date and rest index\n",
    "my_spotify_usage.sort_values(by=['Date'])\n",
    "\n",
    "cleaned_my_spotify_usage = my_spotify_usage.reset_index(drop=True)\n"
   ]
  },
  {
   "cell_type": "code",
   "execution_count": null,
   "metadata": {},
   "outputs": [
    {
     "data": {
      "application/vnd.microsoft.datawrangler.viewer.v0+json": {
       "columns": [
        {
         "name": "index",
         "rawType": "int64",
         "type": "integer"
        },
        {
         "name": "Timestamp",
         "rawType": "datetime64[ns]",
         "type": "datetime"
        },
        {
         "name": "Activity Type",
         "rawType": "object",
         "type": "string"
        },
        {
         "name": "Date",
         "rawType": "object",
         "type": "unknown"
        },
        {
         "name": "Time",
         "rawType": "object",
         "type": "unknown"
        }
       ],
       "conversionMethod": "pd.DataFrame",
       "ref": "c59eee26-ed71-469d-868f-c5aab109d61d",
       "rows": [
        [
         "0",
         "2025-02-16 11:31:05",
         "USER_INTERACTION",
         "2025-02-16",
         "11:31:05"
        ],
        [
         "1",
         "2025-02-16 11:31:06",
         "ACTIVITY_RESUMED",
         "2025-02-16",
         "11:31:06"
        ],
        [
         "2",
         "2025-02-16 11:31:24",
         "FOREGROUND_SERVICE_START",
         "2025-02-16",
         "11:31:24"
        ],
        [
         "3",
         "2025-02-16 11:31:27",
         "ACTIVITY_PAUSED",
         "2025-02-16",
         "11:31:27"
        ],
        [
         "4",
         "2025-02-16 11:31:34",
         "ACTIVITY_PAUSED",
         "2025-02-16",
         "11:31:34"
        ]
       ],
       "shape": {
        "columns": 4,
        "rows": 5
       }
      },
      "text/html": [
       "<div>\n",
       "<style scoped>\n",
       "    .dataframe tbody tr th:only-of-type {\n",
       "        vertical-align: middle;\n",
       "    }\n",
       "\n",
       "    .dataframe tbody tr th {\n",
       "        vertical-align: top;\n",
       "    }\n",
       "\n",
       "    .dataframe thead th {\n",
       "        text-align: right;\n",
       "    }\n",
       "</style>\n",
       "<table border=\"1\" class=\"dataframe\">\n",
       "  <thead>\n",
       "    <tr style=\"text-align: right;\">\n",
       "      <th></th>\n",
       "      <th>Timestamp</th>\n",
       "      <th>Activity Type</th>\n",
       "      <th>Date</th>\n",
       "      <th>Time</th>\n",
       "    </tr>\n",
       "  </thead>\n",
       "  <tbody>\n",
       "    <tr>\n",
       "      <th>0</th>\n",
       "      <td>2025-02-16 11:31:05</td>\n",
       "      <td>USER_INTERACTION</td>\n",
       "      <td>2025-02-16</td>\n",
       "      <td>11:31:05</td>\n",
       "    </tr>\n",
       "    <tr>\n",
       "      <th>1</th>\n",
       "      <td>2025-02-16 11:31:06</td>\n",
       "      <td>ACTIVITY_RESUMED</td>\n",
       "      <td>2025-02-16</td>\n",
       "      <td>11:31:06</td>\n",
       "    </tr>\n",
       "    <tr>\n",
       "      <th>2</th>\n",
       "      <td>2025-02-16 11:31:24</td>\n",
       "      <td>FOREGROUND_SERVICE_START</td>\n",
       "      <td>2025-02-16</td>\n",
       "      <td>11:31:24</td>\n",
       "    </tr>\n",
       "    <tr>\n",
       "      <th>3</th>\n",
       "      <td>2025-02-16 11:31:27</td>\n",
       "      <td>ACTIVITY_PAUSED</td>\n",
       "      <td>2025-02-16</td>\n",
       "      <td>11:31:27</td>\n",
       "    </tr>\n",
       "    <tr>\n",
       "      <th>4</th>\n",
       "      <td>2025-02-16 11:31:34</td>\n",
       "      <td>ACTIVITY_PAUSED</td>\n",
       "      <td>2025-02-16</td>\n",
       "      <td>11:31:34</td>\n",
       "    </tr>\n",
       "  </tbody>\n",
       "</table>\n",
       "</div>"
      ],
      "text/plain": [
       "            Timestamp             Activity Type        Date      Time\n",
       "0 2025-02-16 11:31:05          USER_INTERACTION  2025-02-16  11:31:05\n",
       "1 2025-02-16 11:31:06          ACTIVITY_RESUMED  2025-02-16  11:31:06\n",
       "2 2025-02-16 11:31:24  FOREGROUND_SERVICE_START  2025-02-16  11:31:24\n",
       "3 2025-02-16 11:31:27           ACTIVITY_PAUSED  2025-02-16  11:31:27\n",
       "4 2025-02-16 11:31:34           ACTIVITY_PAUSED  2025-02-16  11:31:34"
      ]
     },
     "execution_count": 12,
     "metadata": {},
     "output_type": "execute_result"
    }
   ],
   "source": [
    "# final df or 7-ish days of spotify mobile app interactions\n",
    "\n",
    "cleaned_my_spotify_usage.head()"
   ]
  },
  {
   "cell_type": "markdown",
   "metadata": {},
   "source": [
    "### _plot daily interactions with Spotify mobile app_"
   ]
  },
  {
   "cell_type": "code",
   "execution_count": null,
   "metadata": {},
   "outputs": [
    {
     "data": {
      "image/png": "[encoded data removed]",
      "text/plain": [
       "<Figure size 1000x600 with 1 Axes>"
      ]
     },
     "metadata": {},
     "output_type": "display_data"
    }
   ],
   "source": [
    "# which days had the most interaction?\n",
    "\n",
    "daily_spotify_activity = cleaned_my_spotify_usage.groupby('Date').size()\n",
    "\n",
    "#bar chart\n",
    "plt.figure(figsize=(10, 6), facecolor='lightgrey')\n",
    "daily_spotify_activity.plot(kind='bar', color='skyblue', edgecolor='powderblue')\n",
    "\n",
    "ax = plt.gca()  \n",
    "\n",
    "ax.set_facecolor(\"lightgrey\")\n",
    "ax.spines['left'].set_color('white')\n",
    "ax.spines['bottom'].set_color('white')\n",
    "\n",
    "plt.title('My Spotify Interactions per Day')\n",
    "plt.xlabel('Date')\n",
    "plt.ylabel('Number of Entries')\n",
    "plt.xticks(rotation=45)\n",
    "plt.tight_layout()\n",
    "\n",
    "plt.grid(linestyle='--', linewidth=0.5)\n",
    "plt.show()"
   ]
  },
  {
   "cell_type": "markdown",
   "metadata": {},
   "source": [
    "# _get first and last per day_"
   ]
  },
  {
   "cell_type": "code",
   "execution_count": 14,
   "metadata": {},
   "outputs": [
    {
     "data": {
      "application/vnd.microsoft.datawrangler.viewer.v0+json": {
       "columns": [
        {
         "name": "index",
         "rawType": "int64",
         "type": "integer"
        },
        {
         "name": "Timestamp",
         "rawType": "object",
         "type": "unknown"
        },
        {
         "name": "first_interaction",
         "rawType": "object",
         "type": "unknown"
        },
        {
         "name": "last_interaction",
         "rawType": "object",
         "type": "unknown"
        },
        {
         "name": "first_activity_type",
         "rawType": "object",
         "type": "string"
        },
        {
         "name": "last_activity_type",
         "rawType": "object",
         "type": "string"
        }
       ],
       "conversionMethod": "pd.DataFrame",
       "ref": "d4df951a-b7c9-4662-9bf0-ed9bd40426d4",
       "rows": [
        [
         "0",
         "2025-02-16",
         "11:31:05",
         "20:02:12",
         "USER_INTERACTION",
         "FOREGROUND_SERVICE_STOP"
        ],
        [
         "1",
         "2025-02-17",
         "00:09:46",
         "11:28:46",
         "USER_INTERACTION",
         "ACTIVITY_STOPPED"
        ],
        [
         "2",
         "2025-02-18",
         "10:40:31",
         "22:41:26",
         "ACTIVITY_RESUMED",
         "STANDBY_BUCKET_CHANGED"
        ],
        [
         "3",
         "2025-02-19",
         "08:12:45",
         "21:56:25",
         "FOREGROUND_SERVICE_START",
         "FOREGROUND_SERVICE_STOP"
        ],
        [
         "4",
         "2025-02-20",
         "09:56:58",
         "20:05:21",
         "USER_INTERACTION",
         "FOREGROUND_SERVICE_STOP"
        ]
       ],
       "shape": {
        "columns": 5,
        "rows": 5
       }
      },
      "text/html": [
       "<div>\n",
       "<style scoped>\n",
       "    .dataframe tbody tr th:only-of-type {\n",
       "        vertical-align: middle;\n",
       "    }\n",
       "\n",
       "    .dataframe tbody tr th {\n",
       "        vertical-align: top;\n",
       "    }\n",
       "\n",
       "    .dataframe thead th {\n",
       "        text-align: right;\n",
       "    }\n",
       "</style>\n",
       "<table border=\"1\" class=\"dataframe\">\n",
       "  <thead>\n",
       "    <tr style=\"text-align: right;\">\n",
       "      <th></th>\n",
       "      <th>Timestamp</th>\n",
       "      <th>first_interaction</th>\n",
       "      <th>last_interaction</th>\n",
       "      <th>first_activity_type</th>\n",
       "      <th>last_activity_type</th>\n",
       "    </tr>\n",
       "  </thead>\n",
       "  <tbody>\n",
       "    <tr>\n",
       "      <th>0</th>\n",
       "      <td>2025-02-16</td>\n",
       "      <td>11:31:05</td>\n",
       "      <td>20:02:12</td>\n",
       "      <td>USER_INTERACTION</td>\n",
       "      <td>FOREGROUND_SERVICE_STOP</td>\n",
       "    </tr>\n",
       "    <tr>\n",
       "      <th>1</th>\n",
       "      <td>2025-02-17</td>\n",
       "      <td>00:09:46</td>\n",
       "      <td>11:28:46</td>\n",
       "      <td>USER_INTERACTION</td>\n",
       "      <td>ACTIVITY_STOPPED</td>\n",
       "    </tr>\n",
       "    <tr>\n",
       "      <th>2</th>\n",
       "      <td>2025-02-18</td>\n",
       "      <td>10:40:31</td>\n",
       "      <td>22:41:26</td>\n",
       "      <td>ACTIVITY_RESUMED</td>\n",
       "      <td>STANDBY_BUCKET_CHANGED</td>\n",
       "    </tr>\n",
       "    <tr>\n",
       "      <th>3</th>\n",
       "      <td>2025-02-19</td>\n",
       "      <td>08:12:45</td>\n",
       "      <td>21:56:25</td>\n",
       "      <td>FOREGROUND_SERVICE_START</td>\n",
       "      <td>FOREGROUND_SERVICE_STOP</td>\n",
       "    </tr>\n",
       "    <tr>\n",
       "      <th>4</th>\n",
       "      <td>2025-02-20</td>\n",
       "      <td>09:56:58</td>\n",
       "      <td>20:05:21</td>\n",
       "      <td>USER_INTERACTION</td>\n",
       "      <td>FOREGROUND_SERVICE_STOP</td>\n",
       "    </tr>\n",
       "  </tbody>\n",
       "</table>\n",
       "</div>"
      ],
      "text/plain": [
       "    Timestamp first_interaction last_interaction       first_activity_type  \\\n",
       "0  2025-02-16          11:31:05         20:02:12          USER_INTERACTION   \n",
       "1  2025-02-17          00:09:46         11:28:46          USER_INTERACTION   \n",
       "2  2025-02-18          10:40:31         22:41:26          ACTIVITY_RESUMED   \n",
       "3  2025-02-19          08:12:45         21:56:25  FOREGROUND_SERVICE_START   \n",
       "4  2025-02-20          09:56:58         20:05:21          USER_INTERACTION   \n",
       "\n",
       "        last_activity_type  \n",
       "0  FOREGROUND_SERVICE_STOP  \n",
       "1         ACTIVITY_STOPPED  \n",
       "2   STANDBY_BUCKET_CHANGED  \n",
       "3  FOREGROUND_SERVICE_STOP  \n",
       "4  FOREGROUND_SERVICE_STOP  "
      ]
     },
     "execution_count": 14,
     "metadata": {},
     "output_type": "execute_result"
    }
   ],
   "source": [
    "# group by date - find first and last\n",
    "\n",
    "first_and_last = pd.DataFrame(cleaned_my_spotify_usage.groupby(cleaned_my_spotify_usage['Timestamp'].dt.date).agg(\n",
    "    first_interaction=('Time', 'first'),\n",
    "    last_interaction=('Time', 'last'),\n",
    "    first_activity_type=('Activity Type', 'first'),\n",
    "    last_activity_type=('Activity Type', 'last')\n",
    ").reset_index())\n",
    "\n",
    "first_and_last.head()\n",
    "\n",
    "#pprint.pprint(first_and_last)"
   ]
  },
  {
   "cell_type": "markdown",
   "metadata": {},
   "source": [
    "* value counts for ACTIVITY_RESUMED, FOREGROUND_SERVICE_START, SHORTCUT_INVOCATION"
   ]
  },
  {
   "cell_type": "code",
   "execution_count": 15,
   "metadata": {},
   "outputs": [],
   "source": [
    "# filter for activity types\n",
    "activity_filter = cleaned_my_spotify_usage[cleaned_my_spotify_usage['Activity Type'].isin(['ACTIVITY_RESUMED', 'FOREGROUND_SERVICE_START', 'SHORTCUT_INVOCATION'])]\n"
   ]
  },
  {
   "cell_type": "code",
   "execution_count": 16,
   "metadata": {},
   "outputs": [
    {
     "data": {
      "application/vnd.microsoft.datawrangler.viewer.v0+json": {
       "columns": [
        {
         "name": "Activity Type",
         "rawType": "object",
         "type": "string"
        },
        {
         "name": "count",
         "rawType": "int64",
         "type": "integer"
        }
       ],
       "conversionMethod": "pd.DataFrame",
       "ref": "10ead200-ba48-44a7-80d4-e5d1b01e3301",
       "rows": [
        [
         "ACTIVITY_RESUMED",
         "62"
        ],
        [
         "FOREGROUND_SERVICE_START",
         "46"
        ],
        [
         "SHORTCUT_INVOCATION",
         "14"
        ]
       ],
       "shape": {
        "columns": 1,
        "rows": 3
       }
      },
      "text/html": [
       "<div>\n",
       "<style scoped>\n",
       "    .dataframe tbody tr th:only-of-type {\n",
       "        vertical-align: middle;\n",
       "    }\n",
       "\n",
       "    .dataframe tbody tr th {\n",
       "        vertical-align: top;\n",
       "    }\n",
       "\n",
       "    .dataframe thead th {\n",
       "        text-align: right;\n",
       "    }\n",
       "</style>\n",
       "<table border=\"1\" class=\"dataframe\">\n",
       "  <thead>\n",
       "    <tr style=\"text-align: right;\">\n",
       "      <th></th>\n",
       "      <th>count</th>\n",
       "    </tr>\n",
       "    <tr>\n",
       "      <th>Activity Type</th>\n",
       "      <th></th>\n",
       "    </tr>\n",
       "  </thead>\n",
       "  <tbody>\n",
       "    <tr>\n",
       "      <th>ACTIVITY_RESUMED</th>\n",
       "      <td>62</td>\n",
       "    </tr>\n",
       "    <tr>\n",
       "      <th>FOREGROUND_SERVICE_START</th>\n",
       "      <td>46</td>\n",
       "    </tr>\n",
       "    <tr>\n",
       "      <th>SHORTCUT_INVOCATION</th>\n",
       "      <td>14</td>\n",
       "    </tr>\n",
       "  </tbody>\n",
       "</table>\n",
       "</div>"
      ],
      "text/plain": [
       "                          count\n",
       "Activity Type                  \n",
       "ACTIVITY_RESUMED             62\n",
       "FOREGROUND_SERVICE_START     46\n",
       "SHORTCUT_INVOCATION          14"
      ]
     },
     "execution_count": 16,
     "metadata": {},
     "output_type": "execute_result"
    }
   ],
   "source": [
    "# counts for each type\n",
    "activity_count = pd.DataFrame(activity_filter['Activity Type'].value_counts())\n",
    "\n",
    "activity_count"
   ]
  }
 ],
 "metadata": {
  "kernelspec": {
   "display_name": ".venv",
   "language": "python",
   "name": "python3"
  },
  "language_info": {
   "codemirror_mode": {
    "name": "ipython",
    "version": 3
   },
   "file_extension": ".py",
   "mimetype": "text/x-python",
   "name": "python",
   "nbconvert_exporter": "python",
   "pygments_lexer": "ipython3",
   "version": "3.12.4"
  }
 },
 "nbformat": 4,
 "nbformat_minor": 2
}
