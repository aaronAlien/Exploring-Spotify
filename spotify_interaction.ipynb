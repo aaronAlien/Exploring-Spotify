{
 "cells": [
  {
   "cell_type": "markdown",
   "metadata": {},
   "source": [
    "### 1. _Put phone in dev mode and installed Android ADB._\n",
    "### 2. _Locate spotify usage and extract with ADB._\n",
    "### 3. _Only one line of bash script really._\n",
    "### 4. _Convert the txt to csv. et voila!._"
   ]
  },
  {
   "cell_type": "code",
   "execution_count": 10,
   "metadata": {},
   "outputs": [],
   "source": [
    "import pprint\n",
    "import numpy as np\n",
    "import pandas as pd\n",
    "import seaborn as sns\n",
    "import matplotlib.pyplot as plt\n",
    "\n",
    "\n",
    "# not scientific numbers\n",
    "pd.set_option('display.float_format', '{:.5f}'.format)\n",
    "np.set_printoptions(suppress=True)\n"
   ]
  },
  {
   "cell_type": "markdown",
   "metadata": {},
   "source": [
    "### _why am i rewriting this over and over - use a function silly!!_"
   ]
  },
  {
   "cell_type": "code",
   "execution_count": 11,
   "metadata": {},
   "outputs": [],
   "source": [
    "def clean_usage_tables(file_path):\n",
    "    # read - dropna - timestam to datetime - split to date & time columns sort byt date & time\n",
    "    df = pd.read_csv(file_path)\n",
    "    df = df.dropna()\n",
    "    df = df.drop(columns=['Application'])\n",
    "    df['Timestamp'] = pd.to_datetime(df['Timestamp'])\n",
    "    df['Date'] = df['Timestamp'].dt.date\n",
    "    df['Time'] = df['Timestamp'].dt.time\n",
    "    df = df.sort_values(by=['Date', 'Time'])\n",
    "\n",
    "    return df"
   ]
  },
  {
   "cell_type": "markdown",
   "metadata": {},
   "source": [
    "## _1_"
   ]
  },
  {
   "cell_type": "code",
   "execution_count": 12,
   "metadata": {},
   "outputs": [
    {
     "data": {
      "application/vnd.microsoft.datawrangler.viewer.v0+json": {
       "columns": [
        {
         "name": "index",
         "rawType": "int64",
         "type": "integer"
        },
        {
         "name": "Timestamp",
         "rawType": "datetime64[ns]",
         "type": "datetime"
        },
        {
         "name": "Activity Type",
         "rawType": "object",
         "type": "string"
        },
        {
         "name": "Date",
         "rawType": "object",
         "type": "unknown"
        },
        {
         "name": "Time",
         "rawType": "object",
         "type": "unknown"
        }
       ],
       "conversionMethod": "pd.DataFrame",
       "ref": "8ef34c01-bee5-4587-b4f8-aa9d30fcc497",
       "rows": [
        [
         "0",
         "2025-02-16 11:31:05",
         "USER_INTERACTION",
         "2025-02-16",
         "11:31:05"
        ],
        [
         "1",
         "2025-02-16 11:31:06",
         "ACTIVITY_RESUMED",
         "2025-02-16",
         "11:31:06"
        ],
        [
         "2",
         "2025-02-16 11:31:24",
         "FOREGROUND_SERVICE_START",
         "2025-02-16",
         "11:31:24"
        ],
        [
         "3",
         "2025-02-16 11:31:24",
         "NOTIFICATION_INTERRUPTION",
         "2025-02-16",
         "11:31:24"
        ],
        [
         "4",
         "2025-02-16 11:31:27",
         "ACTIVITY_PAUSED",
         "2025-02-16",
         "11:31:27"
        ]
       ],
       "shape": {
        "columns": 4,
        "rows": 5
       }
      },
      "text/html": [
       "<div>\n",
       "<style scoped>\n",
       "    .dataframe tbody tr th:only-of-type {\n",
       "        vertical-align: middle;\n",
       "    }\n",
       "\n",
       "    .dataframe tbody tr th {\n",
       "        vertical-align: top;\n",
       "    }\n",
       "\n",
       "    .dataframe thead th {\n",
       "        text-align: right;\n",
       "    }\n",
       "</style>\n",
       "<table border=\"1\" class=\"dataframe\">\n",
       "  <thead>\n",
       "    <tr style=\"text-align: right;\">\n",
       "      <th></th>\n",
       "      <th>Timestamp</th>\n",
       "      <th>Activity Type</th>\n",
       "      <th>Date</th>\n",
       "      <th>Time</th>\n",
       "    </tr>\n",
       "  </thead>\n",
       "  <tbody>\n",
       "    <tr>\n",
       "      <th>0</th>\n",
       "      <td>2025-02-16 11:31:05</td>\n",
       "      <td>USER_INTERACTION</td>\n",
       "      <td>2025-02-16</td>\n",
       "      <td>11:31:05</td>\n",
       "    </tr>\n",
       "    <tr>\n",
       "      <th>1</th>\n",
       "      <td>2025-02-16 11:31:06</td>\n",
       "      <td>ACTIVITY_RESUMED</td>\n",
       "      <td>2025-02-16</td>\n",
       "      <td>11:31:06</td>\n",
       "    </tr>\n",
       "    <tr>\n",
       "      <th>2</th>\n",
       "      <td>2025-02-16 11:31:24</td>\n",
       "      <td>FOREGROUND_SERVICE_START</td>\n",
       "      <td>2025-02-16</td>\n",
       "      <td>11:31:24</td>\n",
       "    </tr>\n",
       "    <tr>\n",
       "      <th>3</th>\n",
       "      <td>2025-02-16 11:31:24</td>\n",
       "      <td>NOTIFICATION_INTERRUPTION</td>\n",
       "      <td>2025-02-16</td>\n",
       "      <td>11:31:24</td>\n",
       "    </tr>\n",
       "    <tr>\n",
       "      <th>4</th>\n",
       "      <td>2025-02-16 11:31:27</td>\n",
       "      <td>ACTIVITY_PAUSED</td>\n",
       "      <td>2025-02-16</td>\n",
       "      <td>11:31:27</td>\n",
       "    </tr>\n",
       "  </tbody>\n",
       "</table>\n",
       "</div>"
      ],
      "text/plain": [
       "            Timestamp              Activity Type        Date      Time\n",
       "0 2025-02-16 11:31:05           USER_INTERACTION  2025-02-16  11:31:05\n",
       "1 2025-02-16 11:31:06           ACTIVITY_RESUMED  2025-02-16  11:31:06\n",
       "2 2025-02-16 11:31:24   FOREGROUND_SERVICE_START  2025-02-16  11:31:24\n",
       "3 2025-02-16 11:31:24  NOTIFICATION_INTERRUPTION  2025-02-16  11:31:24\n",
       "4 2025-02-16 11:31:27            ACTIVITY_PAUSED  2025-02-16  11:31:27"
      ]
     },
     "execution_count": 12,
     "metadata": {},
     "output_type": "execute_result"
    }
   ],
   "source": [
    "df1 = clean_usage_tables('data/my_spotify_usage_1.csv')\n",
    "df1.head()"
   ]
  },
  {
   "cell_type": "markdown",
   "metadata": {},
   "source": [
    "# _2_"
   ]
  },
  {
   "cell_type": "code",
   "execution_count": 13,
   "metadata": {},
   "outputs": [
    {
     "data": {
      "application/vnd.microsoft.datawrangler.viewer.v0+json": {
       "columns": [
        {
         "name": "index",
         "rawType": "int64",
         "type": "integer"
        },
        {
         "name": "Timestamp",
         "rawType": "datetime64[ns]",
         "type": "datetime"
        },
        {
         "name": "Activity Type",
         "rawType": "object",
         "type": "string"
        },
        {
         "name": "Date",
         "rawType": "object",
         "type": "unknown"
        },
        {
         "name": "Time",
         "rawType": "object",
         "type": "unknown"
        }
       ],
       "conversionMethod": "pd.DataFrame",
       "ref": "bf093fdb-dd46-487f-b00e-c6b16c565e06",
       "rows": [
        [
         "0",
         "2025-02-18 10:40:31",
         "ACTIVITY_RESUMED",
         "2025-02-18",
         "10:40:31"
        ],
        [
         "1",
         "2025-02-18 10:40:40",
         "ACTIVITY_PAUSED",
         "2025-02-18",
         "10:40:40"
        ],
        [
         "2",
         "2025-02-18 10:40:41",
         "ACTIVITY_STOPPED",
         "2025-02-18",
         "10:40:41"
        ],
        [
         "3",
         "2025-02-18 11:27:08",
         "FOREGROUND_SERVICE_STOP",
         "2025-02-18",
         "11:27:08"
        ],
        [
         "4",
         "2025-02-18 12:23:40",
         "USER_INTERACTION",
         "2025-02-18",
         "12:23:40"
        ]
       ],
       "shape": {
        "columns": 4,
        "rows": 5
       }
      },
      "text/html": [
       "<div>\n",
       "<style scoped>\n",
       "    .dataframe tbody tr th:only-of-type {\n",
       "        vertical-align: middle;\n",
       "    }\n",
       "\n",
       "    .dataframe tbody tr th {\n",
       "        vertical-align: top;\n",
       "    }\n",
       "\n",
       "    .dataframe thead th {\n",
       "        text-align: right;\n",
       "    }\n",
       "</style>\n",
       "<table border=\"1\" class=\"dataframe\">\n",
       "  <thead>\n",
       "    <tr style=\"text-align: right;\">\n",
       "      <th></th>\n",
       "      <th>Timestamp</th>\n",
       "      <th>Activity Type</th>\n",
       "      <th>Date</th>\n",
       "      <th>Time</th>\n",
       "    </tr>\n",
       "  </thead>\n",
       "  <tbody>\n",
       "    <tr>\n",
       "      <th>0</th>\n",
       "      <td>2025-02-18 10:40:31</td>\n",
       "      <td>ACTIVITY_RESUMED</td>\n",
       "      <td>2025-02-18</td>\n",
       "      <td>10:40:31</td>\n",
       "    </tr>\n",
       "    <tr>\n",
       "      <th>1</th>\n",
       "      <td>2025-02-18 10:40:40</td>\n",
       "      <td>ACTIVITY_PAUSED</td>\n",
       "      <td>2025-02-18</td>\n",
       "      <td>10:40:40</td>\n",
       "    </tr>\n",
       "    <tr>\n",
       "      <th>2</th>\n",
       "      <td>2025-02-18 10:40:41</td>\n",
       "      <td>ACTIVITY_STOPPED</td>\n",
       "      <td>2025-02-18</td>\n",
       "      <td>10:40:41</td>\n",
       "    </tr>\n",
       "    <tr>\n",
       "      <th>3</th>\n",
       "      <td>2025-02-18 11:27:08</td>\n",
       "      <td>FOREGROUND_SERVICE_STOP</td>\n",
       "      <td>2025-02-18</td>\n",
       "      <td>11:27:08</td>\n",
       "    </tr>\n",
       "    <tr>\n",
       "      <th>4</th>\n",
       "      <td>2025-02-18 12:23:40</td>\n",
       "      <td>USER_INTERACTION</td>\n",
       "      <td>2025-02-18</td>\n",
       "      <td>12:23:40</td>\n",
       "    </tr>\n",
       "  </tbody>\n",
       "</table>\n",
       "</div>"
      ],
      "text/plain": [
       "            Timestamp            Activity Type        Date      Time\n",
       "0 2025-02-18 10:40:31         ACTIVITY_RESUMED  2025-02-18  10:40:31\n",
       "1 2025-02-18 10:40:40          ACTIVITY_PAUSED  2025-02-18  10:40:40\n",
       "2 2025-02-18 10:40:41         ACTIVITY_STOPPED  2025-02-18  10:40:41\n",
       "3 2025-02-18 11:27:08  FOREGROUND_SERVICE_STOP  2025-02-18  11:27:08\n",
       "4 2025-02-18 12:23:40         USER_INTERACTION  2025-02-18  12:23:40"
      ]
     },
     "execution_count": 13,
     "metadata": {},
     "output_type": "execute_result"
    }
   ],
   "source": [
    "df2 = clean_usage_tables('data/my_spotify_usage_2.csv')\n",
    "df2.head()"
   ]
  },
  {
   "cell_type": "markdown",
   "metadata": {},
   "source": [
    "# _3_"
   ]
  },
  {
   "cell_type": "code",
   "execution_count": 14,
   "metadata": {},
   "outputs": [
    {
     "data": {
      "application/vnd.microsoft.datawrangler.viewer.v0+json": {
       "columns": [
        {
         "name": "index",
         "rawType": "int64",
         "type": "integer"
        },
        {
         "name": "Timestamp",
         "rawType": "datetime64[ns]",
         "type": "datetime"
        },
        {
         "name": "Activity Type",
         "rawType": "object",
         "type": "string"
        },
        {
         "name": "Date",
         "rawType": "object",
         "type": "unknown"
        },
        {
         "name": "Time",
         "rawType": "object",
         "type": "unknown"
        }
       ],
       "conversionMethod": "pd.DataFrame",
       "ref": "9daea3cb-4481-4a1d-9061-275887f857b2",
       "rows": [
        [
         "0",
         "2025-02-19 10:15:28",
         "FOREGROUND_SERVICE_START",
         "2025-02-19",
         "10:15:28"
        ],
        [
         "1",
         "2025-02-19 10:15:28",
         "NOTIFICATION_INTERRUPTION",
         "2025-02-19",
         "10:15:28"
        ],
        [
         "2",
         "2025-02-19 10:15:32",
         "FOREGROUND_SERVICE_START",
         "2025-02-19",
         "10:15:32"
        ],
        [
         "3",
         "2025-02-19 10:15:32",
         "FOREGROUND_SERVICE_STOP",
         "2025-02-19",
         "10:15:32"
        ],
        [
         "4",
         "2025-02-19 10:25:48",
         "FOREGROUND_SERVICE_STOP",
         "2025-02-19",
         "10:25:48"
        ]
       ],
       "shape": {
        "columns": 4,
        "rows": 5
       }
      },
      "text/html": [
       "<div>\n",
       "<style scoped>\n",
       "    .dataframe tbody tr th:only-of-type {\n",
       "        vertical-align: middle;\n",
       "    }\n",
       "\n",
       "    .dataframe tbody tr th {\n",
       "        vertical-align: top;\n",
       "    }\n",
       "\n",
       "    .dataframe thead th {\n",
       "        text-align: right;\n",
       "    }\n",
       "</style>\n",
       "<table border=\"1\" class=\"dataframe\">\n",
       "  <thead>\n",
       "    <tr style=\"text-align: right;\">\n",
       "      <th></th>\n",
       "      <th>Timestamp</th>\n",
       "      <th>Activity Type</th>\n",
       "      <th>Date</th>\n",
       "      <th>Time</th>\n",
       "    </tr>\n",
       "  </thead>\n",
       "  <tbody>\n",
       "    <tr>\n",
       "      <th>0</th>\n",
       "      <td>2025-02-19 10:15:28</td>\n",
       "      <td>FOREGROUND_SERVICE_START</td>\n",
       "      <td>2025-02-19</td>\n",
       "      <td>10:15:28</td>\n",
       "    </tr>\n",
       "    <tr>\n",
       "      <th>1</th>\n",
       "      <td>2025-02-19 10:15:28</td>\n",
       "      <td>NOTIFICATION_INTERRUPTION</td>\n",
       "      <td>2025-02-19</td>\n",
       "      <td>10:15:28</td>\n",
       "    </tr>\n",
       "    <tr>\n",
       "      <th>2</th>\n",
       "      <td>2025-02-19 10:15:32</td>\n",
       "      <td>FOREGROUND_SERVICE_START</td>\n",
       "      <td>2025-02-19</td>\n",
       "      <td>10:15:32</td>\n",
       "    </tr>\n",
       "    <tr>\n",
       "      <th>3</th>\n",
       "      <td>2025-02-19 10:15:32</td>\n",
       "      <td>FOREGROUND_SERVICE_STOP</td>\n",
       "      <td>2025-02-19</td>\n",
       "      <td>10:15:32</td>\n",
       "    </tr>\n",
       "    <tr>\n",
       "      <th>4</th>\n",
       "      <td>2025-02-19 10:25:48</td>\n",
       "      <td>FOREGROUND_SERVICE_STOP</td>\n",
       "      <td>2025-02-19</td>\n",
       "      <td>10:25:48</td>\n",
       "    </tr>\n",
       "  </tbody>\n",
       "</table>\n",
       "</div>"
      ],
      "text/plain": [
       "            Timestamp              Activity Type        Date      Time\n",
       "0 2025-02-19 10:15:28   FOREGROUND_SERVICE_START  2025-02-19  10:15:28\n",
       "1 2025-02-19 10:15:28  NOTIFICATION_INTERRUPTION  2025-02-19  10:15:28\n",
       "2 2025-02-19 10:15:32   FOREGROUND_SERVICE_START  2025-02-19  10:15:32\n",
       "3 2025-02-19 10:15:32    FOREGROUND_SERVICE_STOP  2025-02-19  10:15:32\n",
       "4 2025-02-19 10:25:48    FOREGROUND_SERVICE_STOP  2025-02-19  10:25:48"
      ]
     },
     "execution_count": 14,
     "metadata": {},
     "output_type": "execute_result"
    }
   ],
   "source": [
    "df3 = clean_usage_tables('data/my_spotify_usage_3.csv')\n",
    "df3.head()"
   ]
  },
  {
   "cell_type": "markdown",
   "metadata": {},
   "source": [
    "# _4_"
   ]
  },
  {
   "cell_type": "code",
   "execution_count": 15,
   "metadata": {},
   "outputs": [
    {
     "data": {
      "application/vnd.microsoft.datawrangler.viewer.v0+json": {
       "columns": [
        {
         "name": "index",
         "rawType": "int64",
         "type": "integer"
        },
        {
         "name": "Timestamp",
         "rawType": "datetime64[ns]",
         "type": "datetime"
        },
        {
         "name": "Activity Type",
         "rawType": "object",
         "type": "string"
        },
        {
         "name": "Date",
         "rawType": "object",
         "type": "unknown"
        },
        {
         "name": "Time",
         "rawType": "object",
         "type": "unknown"
        }
       ],
       "conversionMethod": "pd.DataFrame",
       "ref": "e333d5ac-0f8b-420b-ba53-fa07b64f87da",
       "rows": [
        [
         "0",
         "2025-02-17 08:38:56",
         "USER_INTERACTION",
         "2025-02-17",
         "08:38:56"
        ],
        [
         "1",
         "2025-02-17 08:38:56",
         "ACTIVITY_RESUMED",
         "2025-02-17",
         "08:38:56"
        ],
        [
         "2",
         "2025-02-17 08:39:03",
         "FOREGROUND_SERVICE_START",
         "2025-02-17",
         "08:39:03"
        ],
        [
         "3",
         "2025-02-17 08:39:03",
         "NOTIFICATION_INTERRUPTION",
         "2025-02-17",
         "08:39:03"
        ],
        [
         "4",
         "2025-02-17 08:39:06",
         "ACTIVITY_PAUSED",
         "2025-02-17",
         "08:39:06"
        ]
       ],
       "shape": {
        "columns": 4,
        "rows": 5
       }
      },
      "text/html": [
       "<div>\n",
       "<style scoped>\n",
       "    .dataframe tbody tr th:only-of-type {\n",
       "        vertical-align: middle;\n",
       "    }\n",
       "\n",
       "    .dataframe tbody tr th {\n",
       "        vertical-align: top;\n",
       "    }\n",
       "\n",
       "    .dataframe thead th {\n",
       "        text-align: right;\n",
       "    }\n",
       "</style>\n",
       "<table border=\"1\" class=\"dataframe\">\n",
       "  <thead>\n",
       "    <tr style=\"text-align: right;\">\n",
       "      <th></th>\n",
       "      <th>Timestamp</th>\n",
       "      <th>Activity Type</th>\n",
       "      <th>Date</th>\n",
       "      <th>Time</th>\n",
       "    </tr>\n",
       "  </thead>\n",
       "  <tbody>\n",
       "    <tr>\n",
       "      <th>0</th>\n",
       "      <td>2025-02-17 08:38:56</td>\n",
       "      <td>USER_INTERACTION</td>\n",
       "      <td>2025-02-17</td>\n",
       "      <td>08:38:56</td>\n",
       "    </tr>\n",
       "    <tr>\n",
       "      <th>1</th>\n",
       "      <td>2025-02-17 08:38:56</td>\n",
       "      <td>ACTIVITY_RESUMED</td>\n",
       "      <td>2025-02-17</td>\n",
       "      <td>08:38:56</td>\n",
       "    </tr>\n",
       "    <tr>\n",
       "      <th>2</th>\n",
       "      <td>2025-02-17 08:39:03</td>\n",
       "      <td>FOREGROUND_SERVICE_START</td>\n",
       "      <td>2025-02-17</td>\n",
       "      <td>08:39:03</td>\n",
       "    </tr>\n",
       "    <tr>\n",
       "      <th>3</th>\n",
       "      <td>2025-02-17 08:39:03</td>\n",
       "      <td>NOTIFICATION_INTERRUPTION</td>\n",
       "      <td>2025-02-17</td>\n",
       "      <td>08:39:03</td>\n",
       "    </tr>\n",
       "    <tr>\n",
       "      <th>4</th>\n",
       "      <td>2025-02-17 08:39:06</td>\n",
       "      <td>ACTIVITY_PAUSED</td>\n",
       "      <td>2025-02-17</td>\n",
       "      <td>08:39:06</td>\n",
       "    </tr>\n",
       "  </tbody>\n",
       "</table>\n",
       "</div>"
      ],
      "text/plain": [
       "            Timestamp              Activity Type        Date      Time\n",
       "0 2025-02-17 08:38:56           USER_INTERACTION  2025-02-17  08:38:56\n",
       "1 2025-02-17 08:38:56           ACTIVITY_RESUMED  2025-02-17  08:38:56\n",
       "2 2025-02-17 08:39:03   FOREGROUND_SERVICE_START  2025-02-17  08:39:03\n",
       "3 2025-02-17 08:39:03  NOTIFICATION_INTERRUPTION  2025-02-17  08:39:03\n",
       "4 2025-02-17 08:39:06            ACTIVITY_PAUSED  2025-02-17  08:39:06"
      ]
     },
     "execution_count": 15,
     "metadata": {},
     "output_type": "execute_result"
    }
   ],
   "source": [
    "df4 = clean_usage_tables('data/my_spotify_usage_4.csv')\n",
    "df4.head()"
   ]
  },
  {
   "cell_type": "markdown",
   "metadata": {},
   "source": [
    "# _5_"
   ]
  },
  {
   "cell_type": "code",
   "execution_count": 16,
   "metadata": {},
   "outputs": [
    {
     "data": {
      "application/vnd.microsoft.datawrangler.viewer.v0+json": {
       "columns": [
        {
         "name": "index",
         "rawType": "int64",
         "type": "integer"
        },
        {
         "name": "Timestamp",
         "rawType": "datetime64[ns]",
         "type": "datetime"
        },
        {
         "name": "Activity Type",
         "rawType": "object",
         "type": "string"
        },
        {
         "name": "Date",
         "rawType": "object",
         "type": "unknown"
        },
        {
         "name": "Time",
         "rawType": "object",
         "type": "unknown"
        }
       ],
       "conversionMethod": "pd.DataFrame",
       "ref": "d4181d10-e910-4c3b-a848-fc6a72b3e333",
       "rows": [
        [
         "0",
         "2025-02-20 09:56:58",
         "USER_INTERACTION",
         "2025-02-20",
         "09:56:58"
        ],
        [
         "1",
         "2025-02-20 09:56:58",
         "ACTIVITY_RESUMED",
         "2025-02-20",
         "09:56:58"
        ],
        [
         "2",
         "2025-02-20 09:57:02",
         "ACTIVITY_PAUSED",
         "2025-02-20",
         "09:57:02"
        ],
        [
         "3",
         "2025-02-20 09:57:02",
         "SHORTCUT_INVOCATION",
         "2025-02-20",
         "09:57:02"
        ],
        [
         "4",
         "2025-02-20 09:57:02",
         "SHORTCUT_INVOCATION",
         "2025-02-20",
         "09:57:02"
        ]
       ],
       "shape": {
        "columns": 4,
        "rows": 5
       }
      },
      "text/html": [
       "<div>\n",
       "<style scoped>\n",
       "    .dataframe tbody tr th:only-of-type {\n",
       "        vertical-align: middle;\n",
       "    }\n",
       "\n",
       "    .dataframe tbody tr th {\n",
       "        vertical-align: top;\n",
       "    }\n",
       "\n",
       "    .dataframe thead th {\n",
       "        text-align: right;\n",
       "    }\n",
       "</style>\n",
       "<table border=\"1\" class=\"dataframe\">\n",
       "  <thead>\n",
       "    <tr style=\"text-align: right;\">\n",
       "      <th></th>\n",
       "      <th>Timestamp</th>\n",
       "      <th>Activity Type</th>\n",
       "      <th>Date</th>\n",
       "      <th>Time</th>\n",
       "    </tr>\n",
       "  </thead>\n",
       "  <tbody>\n",
       "    <tr>\n",
       "      <th>0</th>\n",
       "      <td>2025-02-20 09:56:58</td>\n",
       "      <td>USER_INTERACTION</td>\n",
       "      <td>2025-02-20</td>\n",
       "      <td>09:56:58</td>\n",
       "    </tr>\n",
       "    <tr>\n",
       "      <th>1</th>\n",
       "      <td>2025-02-20 09:56:58</td>\n",
       "      <td>ACTIVITY_RESUMED</td>\n",
       "      <td>2025-02-20</td>\n",
       "      <td>09:56:58</td>\n",
       "    </tr>\n",
       "    <tr>\n",
       "      <th>2</th>\n",
       "      <td>2025-02-20 09:57:02</td>\n",
       "      <td>ACTIVITY_PAUSED</td>\n",
       "      <td>2025-02-20</td>\n",
       "      <td>09:57:02</td>\n",
       "    </tr>\n",
       "    <tr>\n",
       "      <th>3</th>\n",
       "      <td>2025-02-20 09:57:02</td>\n",
       "      <td>SHORTCUT_INVOCATION</td>\n",
       "      <td>2025-02-20</td>\n",
       "      <td>09:57:02</td>\n",
       "    </tr>\n",
       "    <tr>\n",
       "      <th>4</th>\n",
       "      <td>2025-02-20 09:57:02</td>\n",
       "      <td>SHORTCUT_INVOCATION</td>\n",
       "      <td>2025-02-20</td>\n",
       "      <td>09:57:02</td>\n",
       "    </tr>\n",
       "  </tbody>\n",
       "</table>\n",
       "</div>"
      ],
      "text/plain": [
       "            Timestamp        Activity Type        Date      Time\n",
       "0 2025-02-20 09:56:58     USER_INTERACTION  2025-02-20  09:56:58\n",
       "1 2025-02-20 09:56:58     ACTIVITY_RESUMED  2025-02-20  09:56:58\n",
       "2 2025-02-20 09:57:02      ACTIVITY_PAUSED  2025-02-20  09:57:02\n",
       "3 2025-02-20 09:57:02  SHORTCUT_INVOCATION  2025-02-20  09:57:02\n",
       "4 2025-02-20 09:57:02  SHORTCUT_INVOCATION  2025-02-20  09:57:02"
      ]
     },
     "execution_count": 16,
     "metadata": {},
     "output_type": "execute_result"
    }
   ],
   "source": [
    "df5 = clean_usage_tables('data/my_spotify_usage_5.csv')\n",
    "df5.head()"
   ]
  },
  {
   "cell_type": "markdown",
   "metadata": {},
   "source": [
    "# _6_"
   ]
  },
  {
   "cell_type": "code",
   "execution_count": 17,
   "metadata": {},
   "outputs": [
    {
     "data": {
      "application/vnd.microsoft.datawrangler.viewer.v0+json": {
       "columns": [
        {
         "name": "index",
         "rawType": "int64",
         "type": "integer"
        },
        {
         "name": "Timestamp",
         "rawType": "datetime64[ns]",
         "type": "datetime"
        },
        {
         "name": "Activity Type",
         "rawType": "object",
         "type": "string"
        },
        {
         "name": "Date",
         "rawType": "object",
         "type": "unknown"
        },
        {
         "name": "Time",
         "rawType": "object",
         "type": "unknown"
        }
       ],
       "conversionMethod": "pd.DataFrame",
       "ref": "84491041-fdfa-4e58-873d-34b9f35c6b12",
       "rows": [
        [
         "0",
         "2025-02-21 09:42:32",
         "FOREGROUND_SERVICE_START",
         "2025-02-21",
         "09:42:32"
        ],
        [
         "1",
         "2025-02-21 09:42:32",
         "NOTIFICATION_INTERRUPTION",
         "2025-02-21",
         "09:42:32"
        ],
        [
         "2",
         "2025-02-21 09:42:37",
         "FOREGROUND_SERVICE_START",
         "2025-02-21",
         "09:42:37"
        ],
        [
         "3",
         "2025-02-21 09:42:39",
         "FOREGROUND_SERVICE_STOP",
         "2025-02-21",
         "09:42:39"
        ],
        [
         "4",
         "2025-02-21 09:55:27",
         "FOREGROUND_SERVICE_STOP",
         "2025-02-21",
         "09:55:27"
        ]
       ],
       "shape": {
        "columns": 4,
        "rows": 5
       }
      },
      "text/html": [
       "<div>\n",
       "<style scoped>\n",
       "    .dataframe tbody tr th:only-of-type {\n",
       "        vertical-align: middle;\n",
       "    }\n",
       "\n",
       "    .dataframe tbody tr th {\n",
       "        vertical-align: top;\n",
       "    }\n",
       "\n",
       "    .dataframe thead th {\n",
       "        text-align: right;\n",
       "    }\n",
       "</style>\n",
       "<table border=\"1\" class=\"dataframe\">\n",
       "  <thead>\n",
       "    <tr style=\"text-align: right;\">\n",
       "      <th></th>\n",
       "      <th>Timestamp</th>\n",
       "      <th>Activity Type</th>\n",
       "      <th>Date</th>\n",
       "      <th>Time</th>\n",
       "    </tr>\n",
       "  </thead>\n",
       "  <tbody>\n",
       "    <tr>\n",
       "      <th>0</th>\n",
       "      <td>2025-02-21 09:42:32</td>\n",
       "      <td>FOREGROUND_SERVICE_START</td>\n",
       "      <td>2025-02-21</td>\n",
       "      <td>09:42:32</td>\n",
       "    </tr>\n",
       "    <tr>\n",
       "      <th>1</th>\n",
       "      <td>2025-02-21 09:42:32</td>\n",
       "      <td>NOTIFICATION_INTERRUPTION</td>\n",
       "      <td>2025-02-21</td>\n",
       "      <td>09:42:32</td>\n",
       "    </tr>\n",
       "    <tr>\n",
       "      <th>2</th>\n",
       "      <td>2025-02-21 09:42:37</td>\n",
       "      <td>FOREGROUND_SERVICE_START</td>\n",
       "      <td>2025-02-21</td>\n",
       "      <td>09:42:37</td>\n",
       "    </tr>\n",
       "    <tr>\n",
       "      <th>3</th>\n",
       "      <td>2025-02-21 09:42:39</td>\n",
       "      <td>FOREGROUND_SERVICE_STOP</td>\n",
       "      <td>2025-02-21</td>\n",
       "      <td>09:42:39</td>\n",
       "    </tr>\n",
       "    <tr>\n",
       "      <th>4</th>\n",
       "      <td>2025-02-21 09:55:27</td>\n",
       "      <td>FOREGROUND_SERVICE_STOP</td>\n",
       "      <td>2025-02-21</td>\n",
       "      <td>09:55:27</td>\n",
       "    </tr>\n",
       "  </tbody>\n",
       "</table>\n",
       "</div>"
      ],
      "text/plain": [
       "            Timestamp              Activity Type        Date      Time\n",
       "0 2025-02-21 09:42:32   FOREGROUND_SERVICE_START  2025-02-21  09:42:32\n",
       "1 2025-02-21 09:42:32  NOTIFICATION_INTERRUPTION  2025-02-21  09:42:32\n",
       "2 2025-02-21 09:42:37   FOREGROUND_SERVICE_START  2025-02-21  09:42:37\n",
       "3 2025-02-21 09:42:39    FOREGROUND_SERVICE_STOP  2025-02-21  09:42:39\n",
       "4 2025-02-21 09:55:27    FOREGROUND_SERVICE_STOP  2025-02-21  09:55:27"
      ]
     },
     "execution_count": 17,
     "metadata": {},
     "output_type": "execute_result"
    }
   ],
   "source": [
    "df6 = clean_usage_tables('data/my_spotify_usage_6.csv')\n",
    "df6.head()"
   ]
  },
  {
   "cell_type": "markdown",
   "metadata": {},
   "source": [
    "## _mearge all_"
   ]
  },
  {
   "cell_type": "code",
   "execution_count": 18,
   "metadata": {},
   "outputs": [],
   "source": [
    "my_spotify_usage = pd.concat([df1,df2,df3,df5,df5,df6]).drop_duplicates(subset=['Timestamp'])\n"
   ]
  },
  {
   "cell_type": "code",
   "execution_count": 19,
   "metadata": {},
   "outputs": [],
   "source": [
    "my_spotify_usage.sort_values(by=['Date'])\n",
    "\n",
    "cleaned_my_spotify_usage = my_spotify_usage.reset_index(drop=True)\n"
   ]
  },
  {
   "cell_type": "code",
   "execution_count": 20,
   "metadata": {},
   "outputs": [
    {
     "data": {
      "application/vnd.microsoft.datawrangler.viewer.v0+json": {
       "columns": [
        {
         "name": "index",
         "rawType": "int64",
         "type": "integer"
        },
        {
         "name": "Timestamp",
         "rawType": "datetime64[ns]",
         "type": "datetime"
        },
        {
         "name": "Activity Type",
         "rawType": "object",
         "type": "string"
        },
        {
         "name": "Date",
         "rawType": "object",
         "type": "unknown"
        },
        {
         "name": "Time",
         "rawType": "object",
         "type": "unknown"
        }
       ],
       "conversionMethod": "pd.DataFrame",
       "ref": "e8e09f8f-8541-456f-a34a-07a4389db478",
       "rows": [
        [
         "0",
         "2025-02-16 11:31:05",
         "USER_INTERACTION",
         "2025-02-16",
         "11:31:05"
        ],
        [
         "1",
         "2025-02-16 11:31:06",
         "ACTIVITY_RESUMED",
         "2025-02-16",
         "11:31:06"
        ],
        [
         "2",
         "2025-02-16 11:31:24",
         "FOREGROUND_SERVICE_START",
         "2025-02-16",
         "11:31:24"
        ],
        [
         "3",
         "2025-02-16 11:31:27",
         "ACTIVITY_PAUSED",
         "2025-02-16",
         "11:31:27"
        ],
        [
         "4",
         "2025-02-16 11:31:34",
         "ACTIVITY_PAUSED",
         "2025-02-16",
         "11:31:34"
        ]
       ],
       "shape": {
        "columns": 4,
        "rows": 5
       }
      },
      "text/html": [
       "<div>\n",
       "<style scoped>\n",
       "    .dataframe tbody tr th:only-of-type {\n",
       "        vertical-align: middle;\n",
       "    }\n",
       "\n",
       "    .dataframe tbody tr th {\n",
       "        vertical-align: top;\n",
       "    }\n",
       "\n",
       "    .dataframe thead th {\n",
       "        text-align: right;\n",
       "    }\n",
       "</style>\n",
       "<table border=\"1\" class=\"dataframe\">\n",
       "  <thead>\n",
       "    <tr style=\"text-align: right;\">\n",
       "      <th></th>\n",
       "      <th>Timestamp</th>\n",
       "      <th>Activity Type</th>\n",
       "      <th>Date</th>\n",
       "      <th>Time</th>\n",
       "    </tr>\n",
       "  </thead>\n",
       "  <tbody>\n",
       "    <tr>\n",
       "      <th>0</th>\n",
       "      <td>2025-02-16 11:31:05</td>\n",
       "      <td>USER_INTERACTION</td>\n",
       "      <td>2025-02-16</td>\n",
       "      <td>11:31:05</td>\n",
       "    </tr>\n",
       "    <tr>\n",
       "      <th>1</th>\n",
       "      <td>2025-02-16 11:31:06</td>\n",
       "      <td>ACTIVITY_RESUMED</td>\n",
       "      <td>2025-02-16</td>\n",
       "      <td>11:31:06</td>\n",
       "    </tr>\n",
       "    <tr>\n",
       "      <th>2</th>\n",
       "      <td>2025-02-16 11:31:24</td>\n",
       "      <td>FOREGROUND_SERVICE_START</td>\n",
       "      <td>2025-02-16</td>\n",
       "      <td>11:31:24</td>\n",
       "    </tr>\n",
       "    <tr>\n",
       "      <th>3</th>\n",
       "      <td>2025-02-16 11:31:27</td>\n",
       "      <td>ACTIVITY_PAUSED</td>\n",
       "      <td>2025-02-16</td>\n",
       "      <td>11:31:27</td>\n",
       "    </tr>\n",
       "    <tr>\n",
       "      <th>4</th>\n",
       "      <td>2025-02-16 11:31:34</td>\n",
       "      <td>ACTIVITY_PAUSED</td>\n",
       "      <td>2025-02-16</td>\n",
       "      <td>11:31:34</td>\n",
       "    </tr>\n",
       "  </tbody>\n",
       "</table>\n",
       "</div>"
      ],
      "text/plain": [
       "            Timestamp             Activity Type        Date      Time\n",
       "0 2025-02-16 11:31:05          USER_INTERACTION  2025-02-16  11:31:05\n",
       "1 2025-02-16 11:31:06          ACTIVITY_RESUMED  2025-02-16  11:31:06\n",
       "2 2025-02-16 11:31:24  FOREGROUND_SERVICE_START  2025-02-16  11:31:24\n",
       "3 2025-02-16 11:31:27           ACTIVITY_PAUSED  2025-02-16  11:31:27\n",
       "4 2025-02-16 11:31:34           ACTIVITY_PAUSED  2025-02-16  11:31:34"
      ]
     },
     "execution_count": 20,
     "metadata": {},
     "output_type": "execute_result"
    }
   ],
   "source": [
    "cleaned_my_spotify_usage.head()"
   ]
  },
  {
   "cell_type": "markdown",
   "metadata": {},
   "source": [
    "### _plot daily interactions with Spotify mobile app_"
   ]
  },
  {
   "cell_type": "code",
   "execution_count": 21,
   "metadata": {},
   "outputs": [
    {
     "data": {
      "image/png": "[encoded data removed]",
      "text/plain": [
       "<Figure size 1000x600 with 1 Axes>"
      ]
     },
     "metadata": {},
     "output_type": "display_data"
    }
   ],
   "source": [
    "daily_spotify_activity = cleaned_my_spotify_usage.groupby('Date').size()\n",
    "\n",
    "#bar chart\n",
    "plt.figure(figsize=(10, 6))\n",
    "daily_spotify_activity.plot(kind='bar', color='skyblue')\n",
    "plt.title('Spotify Interactions per Day')\n",
    "plt.xlabel('Date')\n",
    "plt.ylabel('Number of Entries')\n",
    "plt.xticks(rotation=45)\n",
    "plt.tight_layout()\n",
    "plt.show()"
   ]
  },
  {
   "cell_type": "markdown",
   "metadata": {},
   "source": [
    "# _get first and last per day_"
   ]
  },
  {
   "cell_type": "code",
   "execution_count": 22,
   "metadata": {},
   "outputs": [
    {
     "name": "stdout",
     "output_type": "stream",
     "text": [
      "         Date first_interaction last_interaction\n",
      "0  2025-02-16          11:31:05         20:02:12\n",
      "1  2025-02-17          00:09:46         11:28:46\n",
      "2  2025-02-18          10:40:31         22:41:26\n",
      "3  2025-02-19          08:12:45         21:56:25\n",
      "4  2025-02-20          09:56:58         20:05:21\n",
      "5  2025-02-21          08:48:50         20:54:54\n",
      "6  2025-02-22          01:37:55         01:37:55\n"
     ]
    }
   ],
   "source": [
    "# group by date - find first and last\n",
    "\n",
    "first_and_last = cleaned_my_spotify_usage.groupby('Date').agg(\n",
    "    first_interaction=('Time', 'first'),\n",
    "    last_interaction=('Time', 'last')\n",
    ").reset_index()\n",
    "\n",
    "pprint.pprint(first_and_last)"
   ]
  },
  {
   "cell_type": "markdown",
   "metadata": {},
   "source": [
    "* value counts for ACTIVITY_RESUMED, FOREGROUND_SERVICE_START, SHORTCUT_INVOCATION\n",
    "    * display in chart"
   ]
  },
  {
   "cell_type": "markdown",
   "metadata": {},
   "source": [
    "# filter for activity types\n",
    "activity_filter = raw_df[raw_df['Activity Type'].isin(['ACTIVITY_RESUMED', 'FOREGROUND_SERVICE_START', 'SHORTCUT_INVOCATION'])]"
   ]
  },
  {
   "cell_type": "markdown",
   "metadata": {},
   "source": [
    "# counts for each type\n",
    "activity_count = activity_filter['Activity Type'].value_counts()\n",
    "\n",
    "activity_count"
   ]
  }
 ],
 "metadata": {
  "kernelspec": {
   "display_name": ".venv",
   "language": "python",
   "name": "python3"
  },
  "language_info": {
   "codemirror_mode": {
    "name": "ipython",
    "version": 3
   },
   "file_extension": ".py",
   "mimetype": "text/x-python",
   "name": "python",
   "nbconvert_exporter": "python",
   "pygments_lexer": "ipython3",
   "version": "3.12.3"
  }
 },
 "nbformat": 4,
 "nbformat_minor": 2
}
