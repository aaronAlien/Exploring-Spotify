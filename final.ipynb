{
 "cells": [
  {
   "cell_type": "markdown",
   "metadata": {},
   "source": [
    "* pip install spotipy matplotlib requests pandas python-dotenv seaborn beautifulsoup4"
   ]
  },
  {
   "cell_type": "code",
   "execution_count": 62,
   "metadata": {},
   "outputs": [],
   "source": [
    "import spotipy\n",
    "import os\n",
    "import pprint\n",
    "import pandas as pd\n",
    "import seaborn as sns\n",
    "import requests\n",
    "import re\n",
    "from bs4 import BeautifulSoup\n",
    "import matplotlib.pyplot as plt\n",
    "from spotipy.oauth2 import SpotifyOAuth\n",
    "from dotenv import load_dotenv\n",
    "from collections import Counter\n"
   ]
  },
  {
   "cell_type": "code",
   "execution_count": 63,
   "metadata": {},
   "outputs": [
    {
     "data": {
      "text/plain": [
       "True"
      ]
     },
     "execution_count": 63,
     "metadata": {},
     "output_type": "execute_result"
    }
   ],
   "source": [
    "load_dotenv()"
   ]
  },
  {
   "cell_type": "code",
   "execution_count": 64,
   "metadata": {},
   "outputs": [],
   "source": [
    "#cache_path = os.path.join(os.getcwd(), \"spotify_cache\")"
   ]
  },
  {
   "cell_type": "code",
   "execution_count": 65,
   "metadata": {},
   "outputs": [],
   "source": [
    "# auth and token\n",
    "sp = spotipy.Spotify(auth_manager=SpotifyOAuth(\n",
    "    client_id = os.getenv('SPOTIFY_CLIENT_ID'),\n",
    "    client_secret = os.getenv('SPOTIFY_CLIENT_SECRET'),\n",
    "    redirect_uri='http://localhost:8000/callback',\n",
    "    scope='user-top-read, playlist-read-private',\n",
    "    #cache_path=cache_path\n",
    "))"
   ]
  },
  {
   "cell_type": "markdown",
   "metadata": {},
   "source": [
    "## _clean dates fucntion_"
   ]
  },
  {
   "cell_type": "code",
   "execution_count": 66,
   "metadata": {},
   "outputs": [],
   "source": [
    "# clean dates\n",
    "# len() - str return int\n",
    "# apply\n",
    "def date_clean(date):\n",
    "    if isinstance(date, str) and len(date) == 4 and date.isdigit():\n",
    "        return int(date)\n",
    "    elif isinstance(date, str):\n",
    "        return pd.to_datetime(date, errors='coerce').year\n",
    "    return date\n"
   ]
  },
  {
   "cell_type": "markdown",
   "metadata": {},
   "source": [
    "# _get wiki function_"
   ]
  },
  {
   "cell_type": "code",
   "execution_count": 67,
   "metadata": {},
   "outputs": [
    {
     "name": "stdout",
     "output_type": "stream",
     "text": [
      "['Alternative R&B', 'psychedelic soul', 'avant-soul']\n"
     ]
    }
   ],
   "source": [
    "# get 'Genres' without slice or indices\n",
    "\n",
    "def get_genres(artist_name):\n",
    "    artist_name = artist_name.replace(\" \", \"_\")\n",
    "\n",
    "    url = f'https://en.wikipedia.org/wiki/{artist_name}'\n",
    "    response = requests.get(url)\n",
    "    soup = BeautifulSoup(response.text, 'html.parser')\n",
    "\n",
    "    table = soup.find(\"table\", class_=\"infobox\")\n",
    "    if not table:\n",
    "        return None\n",
    "    \n",
    "    for row in table.find_all('tr'):\n",
    "        heading = row.find('th')\n",
    "\n",
    "        if heading and 'Genres' in heading.text:\n",
    "            data = row.find('td')\n",
    "            genres = [li.text.strip() for li in data.find_all('li')]\n",
    "\n",
    "            # ASK CHAPGPT TO CLEAN THE [5] ETC FROM THE STRING\n",
    "            # BECAUSE REGEX MAKES MY BRAIN HURT\n",
    "            # MORE THAT TRYING TO LEARN C++ AND REACT AT THE SAME TIME\n",
    "            # ...\n",
    "            # YES I ONCE THOUGHT THAT WAS A GOOD IDEA......\n",
    "\n",
    "            genres = [re.sub(r\"\\[\\d+\\]\", \"\", genre) for genre in genres]\n",
    "\n",
    "            if not genres:\n",
    "                genres = data.text.strip().split(', ')\n",
    "\n",
    "            return genres\n",
    "    return None\n",
    "\n",
    "pprint.pprint(get_genres('Frank Ocean'))"
   ]
  },
  {
   "cell_type": "markdown",
   "metadata": {},
   "source": [
    "## _My Top Artists_"
   ]
  },
  {
   "cell_type": "code",
   "execution_count": 68,
   "metadata": {},
   "outputs": [],
   "source": [
    "# get artists\n",
    "\n",
    "def get_artists(time_range='medium_term', limit=20):\n",
    "    results = sp.current_user_top_artists(time_range=time_range, limit=limit)\n",
    "    artists = []\n",
    "\n",
    "    for item in results['items']:\n",
    "        genres = item.get('genres')\n",
    "        artists.append({\n",
    "            'name': item['name'],\n",
    "            'followers': item['followers']['total'],\n",
    "            'genres': ', '.join(item['genres']),\n",
    "            'popularitty': item['popularity'],\n",
    "        })\n",
    "    df = pd.DataFrame(artists)\n",
    "\n",
    "    # add other for empty genre lists\n",
    "    df['Genres'] = df['genres'].apply(lambda x: x if x else 'other')\n",
    "\n",
    "    return df\n",
    "\n"
   ]
  },
  {
   "cell_type": "code",
   "execution_count": 69,
   "metadata": {},
   "outputs": [],
   "source": [
    "my_artists_df = get_artists()"
   ]
  },
  {
   "cell_type": "code",
   "execution_count": 70,
   "metadata": {},
   "outputs": [],
   "source": [
    "cleaned_df = my_artists_df.drop('genres', axis=1)\n",
    "\n",
    "cleaned_df.rename(columns={'popularitty': 'popularity'}, inplace=True)\n",
    "\n",
    "my_artists_cleaned = cleaned_df"
   ]
  },
  {
   "cell_type": "markdown",
   "metadata": {},
   "source": [
    "### _adding wiki scrape genres_"
   ]
  },
  {
   "cell_type": "code",
   "execution_count": 93,
   "metadata": {},
   "outputs": [
    {
     "name": "stdout",
     "output_type": "stream",
     "text": [
      "None found for Adolphe Adam\n",
      "None found for Agar Agar\n"
     ]
    }
   ],
   "source": [
    "#artists with other\n",
    "\n",
    "for index, row in my_artists_cleaned[my_artists_cleaned['Genres'] == 'other'].iterrows():\n",
    "    artist_name = row['name']\n",
    "\n",
    "    new_genres = get_genres(artist_name)\n",
    "\n",
    "    # got the list??\n",
    "    if new_genres:\n",
    "        my_artists_cleaned.at[index, 'Genres'] = ', '.join(new_genres)\n",
    "    else:\n",
    "        print(f'None found for {artist_name}')"
   ]
  },
  {
   "cell_type": "code",
   "execution_count": 94,
   "metadata": {},
   "outputs": [
    {
     "data": {
      "application/vnd.microsoft.datawrangler.viewer.v0+json": {
       "columns": [
        {
         "name": "index",
         "rawType": "int64",
         "type": "integer"
        },
        {
         "name": "name",
         "rawType": "object",
         "type": "string"
        },
        {
         "name": "followers",
         "rawType": "int64",
         "type": "integer"
        },
        {
         "name": "popularity",
         "rawType": "int64",
         "type": "integer"
        },
        {
         "name": "Genres",
         "rawType": "object",
         "type": "string"
        }
       ],
       "conversionMethod": "pd.DataFrame",
       "ref": "daadc256-d425-4ddd-9116-5ff2a1a0381f",
       "rows": [
        [
         "0",
         "Tyler, The Creator",
         "20206317",
         "90",
         "Alternative hip-hop, neo soul, West Coast hip hop, jazz rap, hardcore hip hop, horrorcore"
        ],
        [
         "1",
         "Frank Ocean",
         "17793669",
         "86",
         "Alternative R&B, psychedelic soul, avant-soul"
        ],
        [
         "2",
         "Ty Segall",
         "330680",
         "45",
         "garage rock, psychedelic rock"
        ],
        [
         "3",
         "Skunk Anansie",
         "387770",
         "52",
         "Alternative rock, hard rock, grunge, alternative metal"
        ],
        [
         "4",
         "Christine and the Queens",
         "723207",
         "56",
         "art pop, french pop"
        ]
       ],
       "shape": {
        "columns": 4,
        "rows": 5
       }
      },
      "text/html": [
       "<div>\n",
       "<style scoped>\n",
       "    .dataframe tbody tr th:only-of-type {\n",
       "        vertical-align: middle;\n",
       "    }\n",
       "\n",
       "    .dataframe tbody tr th {\n",
       "        vertical-align: top;\n",
       "    }\n",
       "\n",
       "    .dataframe thead th {\n",
       "        text-align: right;\n",
       "    }\n",
       "</style>\n",
       "<table border=\"1\" class=\"dataframe\">\n",
       "  <thead>\n",
       "    <tr style=\"text-align: right;\">\n",
       "      <th></th>\n",
       "      <th>name</th>\n",
       "      <th>followers</th>\n",
       "      <th>popularity</th>\n",
       "      <th>Genres</th>\n",
       "    </tr>\n",
       "  </thead>\n",
       "  <tbody>\n",
       "    <tr>\n",
       "      <th>0</th>\n",
       "      <td>Tyler, The Creator</td>\n",
       "      <td>20206317</td>\n",
       "      <td>90</td>\n",
       "      <td>Alternative hip-hop, neo soul, West Coast hip ...</td>\n",
       "    </tr>\n",
       "    <tr>\n",
       "      <th>1</th>\n",
       "      <td>Frank Ocean</td>\n",
       "      <td>17793669</td>\n",
       "      <td>86</td>\n",
       "      <td>Alternative R&amp;B, psychedelic soul, avant-soul</td>\n",
       "    </tr>\n",
       "    <tr>\n",
       "      <th>2</th>\n",
       "      <td>Ty Segall</td>\n",
       "      <td>330680</td>\n",
       "      <td>45</td>\n",
       "      <td>garage rock, psychedelic rock</td>\n",
       "    </tr>\n",
       "    <tr>\n",
       "      <th>3</th>\n",
       "      <td>Skunk Anansie</td>\n",
       "      <td>387770</td>\n",
       "      <td>52</td>\n",
       "      <td>Alternative rock, hard rock, grunge, alternati...</td>\n",
       "    </tr>\n",
       "    <tr>\n",
       "      <th>4</th>\n",
       "      <td>Christine and the Queens</td>\n",
       "      <td>723207</td>\n",
       "      <td>56</td>\n",
       "      <td>art pop, french pop</td>\n",
       "    </tr>\n",
       "  </tbody>\n",
       "</table>\n",
       "</div>"
      ],
      "text/plain": [
       "                       name  followers  popularity  \\\n",
       "0        Tyler, The Creator   20206317          90   \n",
       "1               Frank Ocean   17793669          86   \n",
       "2                 Ty Segall     330680          45   \n",
       "3             Skunk Anansie     387770          52   \n",
       "4  Christine and the Queens     723207          56   \n",
       "\n",
       "                                              Genres  \n",
       "0  Alternative hip-hop, neo soul, West Coast hip ...  \n",
       "1      Alternative R&B, psychedelic soul, avant-soul  \n",
       "2                      garage rock, psychedelic rock  \n",
       "3  Alternative rock, hard rock, grunge, alternati...  \n",
       "4                                art pop, french pop  "
      ]
     },
     "execution_count": 94,
     "metadata": {},
     "output_type": "execute_result"
    }
   ],
   "source": [
    "my_artists_cleaned.head()"
   ]
  },
  {
   "cell_type": "code",
   "execution_count": 73,
   "metadata": {},
   "outputs": [
    {
     "data": {
      "image/png": "[encoded data removed]",
      "text/plain": [
       "<Figure size 1200x600 with 1 Axes>"
      ]
     },
     "metadata": {},
     "output_type": "display_data"
    }
   ],
   "source": [
    "plt.figure(figsize=(12, 6))\n",
    "plt.bar(my_artists_cleaned['name'], my_artists_cleaned['popularity'], color='skyblue')\n",
    "plt.title('My Top Artists Popularity')\n",
    "plt.xticks(rotation=45, ha='right', fontsize=10)\n",
    "plt.show()"
   ]
  },
  {
   "cell_type": "markdown",
   "metadata": {},
   "source": [
    "## _my top genres in top artists_"
   ]
  },
  {
   "cell_type": "code",
   "execution_count": 74,
   "metadata": {},
   "outputs": [],
   "source": [
    "\n",
    "my_genres = [genre for sublist in cleaned_df['Genres'].str.split(', ') for genre in sublist]\n",
    "genre_count = Counter(my_genres)\n",
    "labels, sizes = zip(*genre_count.most_common(10))\n"
   ]
  },
  {
   "cell_type": "code",
   "execution_count": 75,
   "metadata": {},
   "outputs": [
    {
     "name": "stderr",
     "output_type": "stream",
     "text": [
      "C:\\Users\\AARON\\AppData\\Local\\Temp\\ipykernel_7084\\635442572.py:2: FutureWarning: \n",
      "\n",
      "Passing `palette` without assigning `hue` is deprecated and will be removed in v0.14.0. Assign the `y` variable to `hue` and set `legend=False` for the same effect.\n",
      "\n",
      "  sns.barplot(x=list(genre_count.values()), y=list(genre_count.keys()), palette='colorblind')\n"
     ]
    },
    {
     "data": {
      "image/png": "[encoded data removed]",
      "text/plain": [
       "<Figure size 1200x600 with 1 Axes>"
      ]
     },
     "metadata": {},
     "output_type": "display_data"
    }
   ],
   "source": [
    "\n",
    "plt.figure(figsize=(12,6))\n",
    "sns.barplot(x=list(genre_count.values()), y=list(genre_count.keys()), palette='colorblind')\n",
    "plt.xlabel(\"Count\")\n",
    "plt.ylabel(\"Genre\")\n",
    "plt.title('My Top Genres', fontsize=10)\n",
    "plt.show()\n"
   ]
  },
  {
   "cell_type": "markdown",
   "metadata": {},
   "source": [
    "## top tracks from top artists"
   ]
  },
  {
   "cell_type": "code",
   "execution_count": 76,
   "metadata": {},
   "outputs": [],
   "source": [
    "#my_artists_df['name']"
   ]
  },
  {
   "cell_type": "code",
   "execution_count": 77,
   "metadata": {},
   "outputs": [],
   "source": [
    "def tracks_from_artists(my_artists_df, time_range='medium_term', limit=50):\n",
    "    results = sp.current_user_top_tracks(time_range=time_range,  limit=limit)\n",
    "    tracks = []\n",
    "    \n",
    "    # print raw\n",
    "    \n",
    "    #print(\"Raw top tracks fetched:\")\n",
    "    #for item in results['items']:\n",
    "    #    print(item['name'], \"by\", [artist['name'] for artist in item['artists']])\n",
    "    \n",
    "    #grab top artist names\n",
    "    top_artist_names = set(my_artists_df['name'])\n",
    "    \n",
    "    for item in results['items']:\n",
    "        artist_per_track = [artist['name'] for artist in item['artists']]\n",
    "\n",
    "        if any(artist in top_artist_names for artist in artist_per_track):\n",
    "            tracks.append({\n",
    "                'track name': item['name'],\n",
    "                'artists': ', '.join(artist_per_track),\n",
    "                'album': item['album']['name'],\n",
    "                'release': item['album']['release_date'],\n",
    "                'track id': item['id'],\n",
    "                'popularity': item['popularity']\n",
    "            })\n",
    "            \n",
    "    tracks_df = pd.DataFrame(tracks)\n",
    "    return tracks_df"
   ]
  },
  {
   "cell_type": "markdown",
   "metadata": {},
   "source": [
    "### Why use a set instead of a list? - refresher from chatgpt\n",
    "\n",
    "* Faster lookups: Checking membership in a set (O(1) average time) is much faster than searching in a list(O(n)).\n",
    "* Avoids duplicates: A set automatically removes duplicate artist names.\n",
    "* Better performance: If you have 50 top tracks, each with multiple artists, checking each one against a list of 20 top artists would be O(50 × 20) = 1000 checks. With a set, it remains O(50).\n",
    "\n",
    "🌟 TLDR:\n",
    "Using set(df_artists['Name']) ensures faster filtering when checking if a track's artist is in your top artists. 🚀"
   ]
  },
  {
   "cell_type": "code",
   "execution_count": 78,
   "metadata": {},
   "outputs": [
    {
     "data": {
      "application/vnd.microsoft.datawrangler.viewer.v0+json": {
       "columns": [
        {
         "name": "index",
         "rawType": "int64",
         "type": "integer"
        },
        {
         "name": "track name",
         "rawType": "object",
         "type": "string"
        },
        {
         "name": "artists",
         "rawType": "object",
         "type": "string"
        },
        {
         "name": "album",
         "rawType": "object",
         "type": "string"
        },
        {
         "name": "release",
         "rawType": "int64",
         "type": "integer"
        },
        {
         "name": "track id",
         "rawType": "object",
         "type": "string"
        },
        {
         "name": "popularity",
         "rawType": "int64",
         "type": "integer"
        }
       ],
       "conversionMethod": "pd.DataFrame",
       "ref": "5adc9b05-b302-43e6-99de-df75a328a935",
       "rows": [
        [
         "0",
         "Die With A Smile",
         "Lady Gaga, Bruno Mars",
         "Die With A Smile",
         "2024",
         "2plbrEY59IikOBgBGLjaoe",
         "98"
        ],
        [
         "1",
         "Brazen (Weep)",
         "Skunk Anansie",
         "Stoosh",
         "1996",
         "1mSVdpc7uHEXYfKVtHd1su",
         "40"
        ],
        [
         "2",
         "Charlie Big Potato",
         "Skunk Anansie",
         "Post Orgasmic Chill",
         "1999",
         "7FY6MkxmeSt6WSeC0XnY5m",
         "42"
        ],
        [
         "3",
         "Pink + White",
         "Frank Ocean",
         "Blonde",
         "2016",
         "3xKsf9qdS1CyvXSMEid6g8",
         "84"
        ],
        [
         "4",
         "Big eye",
         "Christine and the Queens",
         "PARANOÏA, ANGELS, TRUE LOVE",
         "2023",
         "0fGbCVPP41cReDwIAuOORJ",
         "21"
        ]
       ],
       "shape": {
        "columns": 6,
        "rows": 5
       }
      },
      "text/html": [
       "<div>\n",
       "<style scoped>\n",
       "    .dataframe tbody tr th:only-of-type {\n",
       "        vertical-align: middle;\n",
       "    }\n",
       "\n",
       "    .dataframe tbody tr th {\n",
       "        vertical-align: top;\n",
       "    }\n",
       "\n",
       "    .dataframe thead th {\n",
       "        text-align: right;\n",
       "    }\n",
       "</style>\n",
       "<table border=\"1\" class=\"dataframe\">\n",
       "  <thead>\n",
       "    <tr style=\"text-align: right;\">\n",
       "      <th></th>\n",
       "      <th>track name</th>\n",
       "      <th>artists</th>\n",
       "      <th>album</th>\n",
       "      <th>release</th>\n",
       "      <th>track id</th>\n",
       "      <th>popularity</th>\n",
       "    </tr>\n",
       "  </thead>\n",
       "  <tbody>\n",
       "    <tr>\n",
       "      <th>0</th>\n",
       "      <td>Die With A Smile</td>\n",
       "      <td>Lady Gaga, Bruno Mars</td>\n",
       "      <td>Die With A Smile</td>\n",
       "      <td>2024</td>\n",
       "      <td>2plbrEY59IikOBgBGLjaoe</td>\n",
       "      <td>98</td>\n",
       "    </tr>\n",
       "    <tr>\n",
       "      <th>1</th>\n",
       "      <td>Brazen (Weep)</td>\n",
       "      <td>Skunk Anansie</td>\n",
       "      <td>Stoosh</td>\n",
       "      <td>1996</td>\n",
       "      <td>1mSVdpc7uHEXYfKVtHd1su</td>\n",
       "      <td>40</td>\n",
       "    </tr>\n",
       "    <tr>\n",
       "      <th>2</th>\n",
       "      <td>Charlie Big Potato</td>\n",
       "      <td>Skunk Anansie</td>\n",
       "      <td>Post Orgasmic Chill</td>\n",
       "      <td>1999</td>\n",
       "      <td>7FY6MkxmeSt6WSeC0XnY5m</td>\n",
       "      <td>42</td>\n",
       "    </tr>\n",
       "    <tr>\n",
       "      <th>3</th>\n",
       "      <td>Pink + White</td>\n",
       "      <td>Frank Ocean</td>\n",
       "      <td>Blonde</td>\n",
       "      <td>2016</td>\n",
       "      <td>3xKsf9qdS1CyvXSMEid6g8</td>\n",
       "      <td>84</td>\n",
       "    </tr>\n",
       "    <tr>\n",
       "      <th>4</th>\n",
       "      <td>Big eye</td>\n",
       "      <td>Christine and the Queens</td>\n",
       "      <td>PARANOÏA, ANGELS, TRUE LOVE</td>\n",
       "      <td>2023</td>\n",
       "      <td>0fGbCVPP41cReDwIAuOORJ</td>\n",
       "      <td>21</td>\n",
       "    </tr>\n",
       "  </tbody>\n",
       "</table>\n",
       "</div>"
      ],
      "text/plain": [
       "           track name                   artists                        album  \\\n",
       "0    Die With A Smile     Lady Gaga, Bruno Mars             Die With A Smile   \n",
       "1       Brazen (Weep)             Skunk Anansie                       Stoosh   \n",
       "2  Charlie Big Potato             Skunk Anansie          Post Orgasmic Chill   \n",
       "3        Pink + White               Frank Ocean                       Blonde   \n",
       "4             Big eye  Christine and the Queens  PARANOÏA, ANGELS, TRUE LOVE   \n",
       "\n",
       "   release                track id  popularity  \n",
       "0     2024  2plbrEY59IikOBgBGLjaoe          98  \n",
       "1     1996  1mSVdpc7uHEXYfKVtHd1su          40  \n",
       "2     1999  7FY6MkxmeSt6WSeC0XnY5m          42  \n",
       "3     2016  3xKsf9qdS1CyvXSMEid6g8          84  \n",
       "4     2023  0fGbCVPP41cReDwIAuOORJ          21  "
      ]
     },
     "execution_count": 78,
     "metadata": {},
     "output_type": "execute_result"
    }
   ],
   "source": [
    "my_top_tracks_from_top_artists_df = tracks_from_artists(my_artists_df)\n",
    "my_top_tracks_from_top_artists_df['release'] =my_top_tracks_from_top_artists_df['release'].apply(date_clean)\n",
    "my_top_tracks_from_top_artists_df.head()\n"
   ]
  },
  {
   "cell_type": "markdown",
   "metadata": {},
   "source": [
    "# top tracks"
   ]
  },
  {
   "cell_type": "code",
   "execution_count": 79,
   "metadata": {},
   "outputs": [],
   "source": [
    "# get top tracks\n",
    "\n",
    "def get_tracks(time_range='medium_term', limit=20):\n",
    "    results = sp.current_user_top_tracks(time_range=time_range, limit=limit)\n",
    "    t_tracks = []\n",
    "\n",
    "    for item in results['items']:\n",
    "        track_artists = [artist['name'] for artist in item['artists']]\n",
    "        t_tracks.append({\n",
    "            'track name': item['name'],\n",
    "            'artists': ', '.join(track_artists),\n",
    "            'album': item['album']['name'],\n",
    "            'release': item['album']['release_date'],\n",
    "            'track id': item['id'],\n",
    "            'popularity': item['popularity']\n",
    "        })\n",
    "    top_tracks_df = pd.DataFrame(t_tracks)\n",
    "    return top_tracks_df"
   ]
  },
  {
   "cell_type": "code",
   "execution_count": 80,
   "metadata": {},
   "outputs": [
    {
     "data": {
      "application/vnd.microsoft.datawrangler.viewer.v0+json": {
       "columns": [
        {
         "name": "index",
         "rawType": "int64",
         "type": "integer"
        },
        {
         "name": "track name",
         "rawType": "object",
         "type": "string"
        },
        {
         "name": "artists",
         "rawType": "object",
         "type": "string"
        },
        {
         "name": "album",
         "rawType": "object",
         "type": "string"
        },
        {
         "name": "release",
         "rawType": "int64",
         "type": "integer"
        },
        {
         "name": "track id",
         "rawType": "object",
         "type": "string"
        },
        {
         "name": "popularity",
         "rawType": "int64",
         "type": "integer"
        }
       ],
       "conversionMethod": "pd.DataFrame",
       "ref": "093840dd-121a-481e-8bb8-7ee3115798d1",
       "rows": [
        [
         "0",
         "Die With A Smile",
         "Lady Gaga, Bruno Mars",
         "Die With A Smile",
         "2024",
         "2plbrEY59IikOBgBGLjaoe",
         "98"
        ],
        [
         "1",
         "Silencer",
         "Dub War",
         "Wrong Side Of Beautiful",
         "1996",
         "1premcRnMNh9KvM7WWtgz5",
         "13"
        ],
        [
         "2",
         "Brazen (Weep)",
         "Skunk Anansie",
         "Stoosh",
         "1996",
         "1mSVdpc7uHEXYfKVtHd1su",
         "40"
        ],
        [
         "3",
         "Charlie Big Potato",
         "Skunk Anansie",
         "Post Orgasmic Chill",
         "1999",
         "7FY6MkxmeSt6WSeC0XnY5m",
         "42"
        ],
        [
         "4",
         "Pink + White",
         "Frank Ocean",
         "Blonde",
         "2016",
         "3xKsf9qdS1CyvXSMEid6g8",
         "84"
        ]
       ],
       "shape": {
        "columns": 6,
        "rows": 5
       }
      },
      "text/html": [
       "<div>\n",
       "<style scoped>\n",
       "    .dataframe tbody tr th:only-of-type {\n",
       "        vertical-align: middle;\n",
       "    }\n",
       "\n",
       "    .dataframe tbody tr th {\n",
       "        vertical-align: top;\n",
       "    }\n",
       "\n",
       "    .dataframe thead th {\n",
       "        text-align: right;\n",
       "    }\n",
       "</style>\n",
       "<table border=\"1\" class=\"dataframe\">\n",
       "  <thead>\n",
       "    <tr style=\"text-align: right;\">\n",
       "      <th></th>\n",
       "      <th>track name</th>\n",
       "      <th>artists</th>\n",
       "      <th>album</th>\n",
       "      <th>release</th>\n",
       "      <th>track id</th>\n",
       "      <th>popularity</th>\n",
       "    </tr>\n",
       "  </thead>\n",
       "  <tbody>\n",
       "    <tr>\n",
       "      <th>0</th>\n",
       "      <td>Die With A Smile</td>\n",
       "      <td>Lady Gaga, Bruno Mars</td>\n",
       "      <td>Die With A Smile</td>\n",
       "      <td>2024</td>\n",
       "      <td>2plbrEY59IikOBgBGLjaoe</td>\n",
       "      <td>98</td>\n",
       "    </tr>\n",
       "    <tr>\n",
       "      <th>1</th>\n",
       "      <td>Silencer</td>\n",
       "      <td>Dub War</td>\n",
       "      <td>Wrong Side Of Beautiful</td>\n",
       "      <td>1996</td>\n",
       "      <td>1premcRnMNh9KvM7WWtgz5</td>\n",
       "      <td>13</td>\n",
       "    </tr>\n",
       "    <tr>\n",
       "      <th>2</th>\n",
       "      <td>Brazen (Weep)</td>\n",
       "      <td>Skunk Anansie</td>\n",
       "      <td>Stoosh</td>\n",
       "      <td>1996</td>\n",
       "      <td>1mSVdpc7uHEXYfKVtHd1su</td>\n",
       "      <td>40</td>\n",
       "    </tr>\n",
       "    <tr>\n",
       "      <th>3</th>\n",
       "      <td>Charlie Big Potato</td>\n",
       "      <td>Skunk Anansie</td>\n",
       "      <td>Post Orgasmic Chill</td>\n",
       "      <td>1999</td>\n",
       "      <td>7FY6MkxmeSt6WSeC0XnY5m</td>\n",
       "      <td>42</td>\n",
       "    </tr>\n",
       "    <tr>\n",
       "      <th>4</th>\n",
       "      <td>Pink + White</td>\n",
       "      <td>Frank Ocean</td>\n",
       "      <td>Blonde</td>\n",
       "      <td>2016</td>\n",
       "      <td>3xKsf9qdS1CyvXSMEid6g8</td>\n",
       "      <td>84</td>\n",
       "    </tr>\n",
       "  </tbody>\n",
       "</table>\n",
       "</div>"
      ],
      "text/plain": [
       "           track name                artists                    album  \\\n",
       "0    Die With A Smile  Lady Gaga, Bruno Mars         Die With A Smile   \n",
       "1            Silencer                Dub War  Wrong Side Of Beautiful   \n",
       "2       Brazen (Weep)          Skunk Anansie                   Stoosh   \n",
       "3  Charlie Big Potato          Skunk Anansie      Post Orgasmic Chill   \n",
       "4        Pink + White            Frank Ocean                   Blonde   \n",
       "\n",
       "   release                track id  popularity  \n",
       "0     2024  2plbrEY59IikOBgBGLjaoe          98  \n",
       "1     1996  1premcRnMNh9KvM7WWtgz5          13  \n",
       "2     1996  1mSVdpc7uHEXYfKVtHd1su          40  \n",
       "3     1999  7FY6MkxmeSt6WSeC0XnY5m          42  \n",
       "4     2016  3xKsf9qdS1CyvXSMEid6g8          84  "
      ]
     },
     "execution_count": 80,
     "metadata": {},
     "output_type": "execute_result"
    }
   ],
   "source": [
    "my_tracks_df = get_tracks()\n",
    "my_tracks_df['release'] = my_tracks_df['release'].apply(date_clean)\n",
    "my_tracks_df.head()\n"
   ]
  },
  {
   "cell_type": "markdown",
   "metadata": {},
   "source": [
    "### merge my_top_tracks and my_top_tracks_from_top_artists_df"
   ]
  },
  {
   "cell_type": "code",
   "execution_count": 81,
   "metadata": {},
   "outputs": [],
   "source": [
    "all_top_tracks = pd.concat([my_tracks_df, my_top_tracks_from_top_artists_df]).reset_index(drop=True).drop_duplicates(subset=['track id'])"
   ]
  },
  {
   "cell_type": "markdown",
   "metadata": {},
   "source": [
    "* want - to visualise the years my top tracks span or move through...\n",
    "* need:\n",
    "    * clean the release dates for yyyy\n",
    "    * find the best choices to visualise "
   ]
  },
  {
   "cell_type": "code",
   "execution_count": 82,
   "metadata": {},
   "outputs": [],
   "source": [
    "\n",
    "all_top_tracks['release'] = all_top_tracks['release'].apply(date_clean)\n"
   ]
  },
  {
   "cell_type": "code",
   "execution_count": 83,
   "metadata": {},
   "outputs": [
    {
     "data": {
      "application/vnd.microsoft.datawrangler.viewer.v0+json": {
       "columns": [
        {
         "name": "index",
         "rawType": "int64",
         "type": "integer"
        },
        {
         "name": "track name",
         "rawType": "object",
         "type": "string"
        },
        {
         "name": "artists",
         "rawType": "object",
         "type": "string"
        },
        {
         "name": "album",
         "rawType": "object",
         "type": "string"
        },
        {
         "name": "release",
         "rawType": "int64",
         "type": "integer"
        },
        {
         "name": "track id",
         "rawType": "object",
         "type": "string"
        },
        {
         "name": "popularity",
         "rawType": "int64",
         "type": "integer"
        }
       ],
       "conversionMethod": "pd.DataFrame",
       "ref": "a474324a-0874-4945-ac56-08e398ea90b6",
       "rows": [
        [
         "0",
         "Die With A Smile",
         "Lady Gaga, Bruno Mars",
         "Die With A Smile",
         "2024",
         "2plbrEY59IikOBgBGLjaoe",
         "98"
        ],
        [
         "1",
         "Silencer",
         "Dub War",
         "Wrong Side Of Beautiful",
         "1996",
         "1premcRnMNh9KvM7WWtgz5",
         "13"
        ],
        [
         "2",
         "Brazen (Weep)",
         "Skunk Anansie",
         "Stoosh",
         "1996",
         "1mSVdpc7uHEXYfKVtHd1su",
         "40"
        ],
        [
         "3",
         "Charlie Big Potato",
         "Skunk Anansie",
         "Post Orgasmic Chill",
         "1999",
         "7FY6MkxmeSt6WSeC0XnY5m",
         "42"
        ],
        [
         "4",
         "Pink + White",
         "Frank Ocean",
         "Blonde",
         "2016",
         "3xKsf9qdS1CyvXSMEid6g8",
         "84"
        ]
       ],
       "shape": {
        "columns": 6,
        "rows": 5
       }
      },
      "text/html": [
       "<div>\n",
       "<style scoped>\n",
       "    .dataframe tbody tr th:only-of-type {\n",
       "        vertical-align: middle;\n",
       "    }\n",
       "\n",
       "    .dataframe tbody tr th {\n",
       "        vertical-align: top;\n",
       "    }\n",
       "\n",
       "    .dataframe thead th {\n",
       "        text-align: right;\n",
       "    }\n",
       "</style>\n",
       "<table border=\"1\" class=\"dataframe\">\n",
       "  <thead>\n",
       "    <tr style=\"text-align: right;\">\n",
       "      <th></th>\n",
       "      <th>track name</th>\n",
       "      <th>artists</th>\n",
       "      <th>album</th>\n",
       "      <th>release</th>\n",
       "      <th>track id</th>\n",
       "      <th>popularity</th>\n",
       "    </tr>\n",
       "  </thead>\n",
       "  <tbody>\n",
       "    <tr>\n",
       "      <th>0</th>\n",
       "      <td>Die With A Smile</td>\n",
       "      <td>Lady Gaga, Bruno Mars</td>\n",
       "      <td>Die With A Smile</td>\n",
       "      <td>2024</td>\n",
       "      <td>2plbrEY59IikOBgBGLjaoe</td>\n",
       "      <td>98</td>\n",
       "    </tr>\n",
       "    <tr>\n",
       "      <th>1</th>\n",
       "      <td>Silencer</td>\n",
       "      <td>Dub War</td>\n",
       "      <td>Wrong Side Of Beautiful</td>\n",
       "      <td>1996</td>\n",
       "      <td>1premcRnMNh9KvM7WWtgz5</td>\n",
       "      <td>13</td>\n",
       "    </tr>\n",
       "    <tr>\n",
       "      <th>2</th>\n",
       "      <td>Brazen (Weep)</td>\n",
       "      <td>Skunk Anansie</td>\n",
       "      <td>Stoosh</td>\n",
       "      <td>1996</td>\n",
       "      <td>1mSVdpc7uHEXYfKVtHd1su</td>\n",
       "      <td>40</td>\n",
       "    </tr>\n",
       "    <tr>\n",
       "      <th>3</th>\n",
       "      <td>Charlie Big Potato</td>\n",
       "      <td>Skunk Anansie</td>\n",
       "      <td>Post Orgasmic Chill</td>\n",
       "      <td>1999</td>\n",
       "      <td>7FY6MkxmeSt6WSeC0XnY5m</td>\n",
       "      <td>42</td>\n",
       "    </tr>\n",
       "    <tr>\n",
       "      <th>4</th>\n",
       "      <td>Pink + White</td>\n",
       "      <td>Frank Ocean</td>\n",
       "      <td>Blonde</td>\n",
       "      <td>2016</td>\n",
       "      <td>3xKsf9qdS1CyvXSMEid6g8</td>\n",
       "      <td>84</td>\n",
       "    </tr>\n",
       "  </tbody>\n",
       "</table>\n",
       "</div>"
      ],
      "text/plain": [
       "           track name                artists                    album  \\\n",
       "0    Die With A Smile  Lady Gaga, Bruno Mars         Die With A Smile   \n",
       "1            Silencer                Dub War  Wrong Side Of Beautiful   \n",
       "2       Brazen (Weep)          Skunk Anansie                   Stoosh   \n",
       "3  Charlie Big Potato          Skunk Anansie      Post Orgasmic Chill   \n",
       "4        Pink + White            Frank Ocean                   Blonde   \n",
       "\n",
       "   release                track id  popularity  \n",
       "0     2024  2plbrEY59IikOBgBGLjaoe          98  \n",
       "1     1996  1premcRnMNh9KvM7WWtgz5          13  \n",
       "2     1996  1mSVdpc7uHEXYfKVtHd1su          40  \n",
       "3     1999  7FY6MkxmeSt6WSeC0XnY5m          42  \n",
       "4     2016  3xKsf9qdS1CyvXSMEid6g8          84  "
      ]
     },
     "execution_count": 83,
     "metadata": {},
     "output_type": "execute_result"
    }
   ],
   "source": [
    "all_top_tracks.head()"
   ]
  },
  {
   "cell_type": "markdown",
   "metadata": {},
   "source": [
    "# playlists"
   ]
  },
  {
   "cell_type": "markdown",
   "metadata": {},
   "source": [
    "### get all"
   ]
  },
  {
   "cell_type": "code",
   "execution_count": 84,
   "metadata": {},
   "outputs": [],
   "source": [
    "def get_playlists():\n",
    "    results = sp.current_user_playlists()\n",
    "    all_playlists = []\n",
    "\n",
    "    while results:\n",
    "        for playlist in results['items']:\n",
    "            all_playlists.append({\n",
    "                \"playlist_name\": playlist[\"name\"],\n",
    "                \"total_tracks\": playlist[\"tracks\"][\"total\"],\n",
    "                \"playlist_id\": playlist[\"id\"]\n",
    "            })\n",
    "        # pagination\n",
    "        if results[\"next\"]:\n",
    "            results = sp.next(results)\n",
    "        else:\n",
    "            break\n",
    "    \n",
    "    all_playlists = pd.DataFrame(all_playlists)\n",
    "    return all_playlists\n"
   ]
  },
  {
   "cell_type": "code",
   "execution_count": 85,
   "metadata": {},
   "outputs": [
    {
     "data": {
      "application/vnd.microsoft.datawrangler.viewer.v0+json": {
       "columns": [
        {
         "name": "index",
         "rawType": "int64",
         "type": "integer"
        },
        {
         "name": "playlist_name",
         "rawType": "object",
         "type": "string"
        },
        {
         "name": "total_tracks",
         "rawType": "int64",
         "type": "integer"
        },
        {
         "name": "playlist_id",
         "rawType": "object",
         "type": "string"
        }
       ],
       "conversionMethod": "pd.DataFrame",
       "ref": "4ec65ef9-62b7-4c8e-a558-f5f9e1053bac",
       "rows": [
        [
         "0",
         "Random Playlist from AHS",
         "20",
         "48bzRbnOaEXLs7onEuf888"
        ],
        [
         "1",
         "My top tracks playlist",
         "5",
         "5tdLL7KmCjme8n59qBtycv"
        ],
        [
         "2",
         "Gaga in order",
         "25",
         "1VK03kdKyRNc86QkdqFmj9"
        ],
        [
         "3",
         "?",
         "1",
         "2Jla4LLDdGndqCKxP7ZeIo"
        ],
        [
         "4",
         "mmmm",
         "21",
         "0a68WVAAQcjjlddZGijvOG"
        ]
       ],
       "shape": {
        "columns": 3,
        "rows": 5
       }
      },
      "text/html": [
       "<div>\n",
       "<style scoped>\n",
       "    .dataframe tbody tr th:only-of-type {\n",
       "        vertical-align: middle;\n",
       "    }\n",
       "\n",
       "    .dataframe tbody tr th {\n",
       "        vertical-align: top;\n",
       "    }\n",
       "\n",
       "    .dataframe thead th {\n",
       "        text-align: right;\n",
       "    }\n",
       "</style>\n",
       "<table border=\"1\" class=\"dataframe\">\n",
       "  <thead>\n",
       "    <tr style=\"text-align: right;\">\n",
       "      <th></th>\n",
       "      <th>playlist_name</th>\n",
       "      <th>total_tracks</th>\n",
       "      <th>playlist_id</th>\n",
       "    </tr>\n",
       "  </thead>\n",
       "  <tbody>\n",
       "    <tr>\n",
       "      <th>0</th>\n",
       "      <td>Random Playlist from AHS</td>\n",
       "      <td>20</td>\n",
       "      <td>48bzRbnOaEXLs7onEuf888</td>\n",
       "    </tr>\n",
       "    <tr>\n",
       "      <th>1</th>\n",
       "      <td>My top tracks playlist</td>\n",
       "      <td>5</td>\n",
       "      <td>5tdLL7KmCjme8n59qBtycv</td>\n",
       "    </tr>\n",
       "    <tr>\n",
       "      <th>2</th>\n",
       "      <td>Gaga in order</td>\n",
       "      <td>25</td>\n",
       "      <td>1VK03kdKyRNc86QkdqFmj9</td>\n",
       "    </tr>\n",
       "    <tr>\n",
       "      <th>3</th>\n",
       "      <td>?</td>\n",
       "      <td>1</td>\n",
       "      <td>2Jla4LLDdGndqCKxP7ZeIo</td>\n",
       "    </tr>\n",
       "    <tr>\n",
       "      <th>4</th>\n",
       "      <td>mmmm</td>\n",
       "      <td>21</td>\n",
       "      <td>0a68WVAAQcjjlddZGijvOG</td>\n",
       "    </tr>\n",
       "  </tbody>\n",
       "</table>\n",
       "</div>"
      ],
      "text/plain": [
       "              playlist_name  total_tracks             playlist_id\n",
       "0  Random Playlist from AHS            20  48bzRbnOaEXLs7onEuf888\n",
       "1    My top tracks playlist             5  5tdLL7KmCjme8n59qBtycv\n",
       "2             Gaga in order            25  1VK03kdKyRNc86QkdqFmj9\n",
       "3                         ?             1  2Jla4LLDdGndqCKxP7ZeIo\n",
       "4                      mmmm            21  0a68WVAAQcjjlddZGijvOG"
      ]
     },
     "execution_count": 85,
     "metadata": {},
     "output_type": "execute_result"
    }
   ],
   "source": [
    "my_playlists = get_playlists()\n",
    "my_playlists.head()"
   ]
  },
  {
   "cell_type": "markdown",
   "metadata": {},
   "source": [
    "* loop through tracks\n",
    "    * for id in myplaylists\n",
    "    * sp.playlisttracks(id)\n"
   ]
  },
  {
   "cell_type": "code",
   "execution_count": 86,
   "metadata": {},
   "outputs": [],
   "source": [
    "def get_playlist_tracks(my_playlists, limit=50):\n",
    "    playlist_tracks = []\n",
    "\n",
    "    for playlist_id in my_playlists['playlist_id']:\n",
    "        results = sp.playlist_tracks(playlist_id, limit=limit)  # Get tracks from the playlist\n",
    "\n",
    "        for item in results['items']:\n",
    "            track = item.get('track')  # Ensure track data is extracted safely\n",
    "            \n",
    "            if track:  # Ensure track data exists\n",
    "                playlist_tracks.append({\n",
    "                    'track_name': track['name'],\n",
    "                    'artists': ', '.join([artist['name'] for artist in track['artists']]),\n",
    "                    'album': track['album']['name'],\n",
    "                    'release_year': track['album']['release_date'],\n",
    "                    'track_id': track['id'],\n",
    "                    'popularity': track['popularity']\n",
    "                })\n",
    "    \n",
    "    # Convert the list of tracks into a DataFrame\n",
    "    tracks_df = pd.DataFrame(playlist_tracks)\n",
    "\n",
    "    return tracks_df"
   ]
  },
  {
   "cell_type": "code",
   "execution_count": 87,
   "metadata": {},
   "outputs": [],
   "source": [
    "# Call the function to test\n",
    "my_tracks_from_playlists = get_playlist_tracks(my_playlists)\n",
    "\n",
    "my_tracks_from_playlists.drop_duplicates(subset=['track_id'], keep='first', inplace=True)\n",
    "\n",
    "my_tracks_from_playlists['release_year'] = my_tracks_from_playlists['release_year'].apply(date_clean)\n"
   ]
  },
  {
   "cell_type": "code",
   "execution_count": 88,
   "metadata": {},
   "outputs": [],
   "source": [
    "my_tracks_from_playlists.rename(columns={'track_name': 'track name', 'release_year': 'release year', 'track_id': 'track id'}, inplace=True)"
   ]
  },
  {
   "cell_type": "code",
   "execution_count": 89,
   "metadata": {},
   "outputs": [
    {
     "data": {
      "application/vnd.microsoft.datawrangler.viewer.v0+json": {
       "columns": [
        {
         "name": "index",
         "rawType": "int64",
         "type": "integer"
        },
        {
         "name": "track name",
         "rawType": "object",
         "type": "string"
        },
        {
         "name": "artists",
         "rawType": "object",
         "type": "string"
        },
        {
         "name": "album",
         "rawType": "object",
         "type": "string"
        },
        {
         "name": "release year",
         "rawType": "int64",
         "type": "integer"
        },
        {
         "name": "track id",
         "rawType": "object",
         "type": "string"
        },
        {
         "name": "popularity",
         "rawType": "int64",
         "type": "integer"
        }
       ],
       "conversionMethod": "pd.DataFrame",
       "ref": "e925d2bb-e47f-40bc-bf1c-29e1c0d1a2ff",
       "rows": [
        [
         "0",
         "Marry The Night",
         "Lady Gaga",
         "Born This Way (International Special Edition Version)",
         "2011",
         "02d1E4NRuh7OEQO4vCb9PD",
         "60"
        ],
        [
         "1",
         "10 or a 2-way",
         "Korn",
         "See You On the Other Side",
         "2005",
         "317voMksLU98NZn3wlFUsG",
         "38"
        ],
        [
         "2",
         "No One",
         "Alicia Keys",
         "As I Am (Expanded Edition)",
         "2007",
         "6IwKcFdiRQZOWeYNhUiWIv",
         "69"
        ],
        [
         "3",
         "Maybe This Time",
         "Liza Minnelli",
         "Cabaret (Original Soundtrack Recording)",
         "1972",
         "2Oam4p5G5GfyzLLBuMTJty",
         "46"
        ],
        [
         "4",
         "Coming Undone",
         "Korn",
         "See You On the Other Side",
         "2005",
         "3o7TMr6RmIusYH7Kkg7ujR",
         "73"
        ]
       ],
       "shape": {
        "columns": 6,
        "rows": 5
       }
      },
      "text/html": [
       "<div>\n",
       "<style scoped>\n",
       "    .dataframe tbody tr th:only-of-type {\n",
       "        vertical-align: middle;\n",
       "    }\n",
       "\n",
       "    .dataframe tbody tr th {\n",
       "        vertical-align: top;\n",
       "    }\n",
       "\n",
       "    .dataframe thead th {\n",
       "        text-align: right;\n",
       "    }\n",
       "</style>\n",
       "<table border=\"1\" class=\"dataframe\">\n",
       "  <thead>\n",
       "    <tr style=\"text-align: right;\">\n",
       "      <th></th>\n",
       "      <th>track name</th>\n",
       "      <th>artists</th>\n",
       "      <th>album</th>\n",
       "      <th>release year</th>\n",
       "      <th>track id</th>\n",
       "      <th>popularity</th>\n",
       "    </tr>\n",
       "  </thead>\n",
       "  <tbody>\n",
       "    <tr>\n",
       "      <th>0</th>\n",
       "      <td>Marry The Night</td>\n",
       "      <td>Lady Gaga</td>\n",
       "      <td>Born This Way (International Special Edition V...</td>\n",
       "      <td>2011</td>\n",
       "      <td>02d1E4NRuh7OEQO4vCb9PD</td>\n",
       "      <td>60</td>\n",
       "    </tr>\n",
       "    <tr>\n",
       "      <th>1</th>\n",
       "      <td>10 or a 2-way</td>\n",
       "      <td>Korn</td>\n",
       "      <td>See You On the Other Side</td>\n",
       "      <td>2005</td>\n",
       "      <td>317voMksLU98NZn3wlFUsG</td>\n",
       "      <td>38</td>\n",
       "    </tr>\n",
       "    <tr>\n",
       "      <th>2</th>\n",
       "      <td>No One</td>\n",
       "      <td>Alicia Keys</td>\n",
       "      <td>As I Am (Expanded Edition)</td>\n",
       "      <td>2007</td>\n",
       "      <td>6IwKcFdiRQZOWeYNhUiWIv</td>\n",
       "      <td>69</td>\n",
       "    </tr>\n",
       "    <tr>\n",
       "      <th>3</th>\n",
       "      <td>Maybe This Time</td>\n",
       "      <td>Liza Minnelli</td>\n",
       "      <td>Cabaret (Original Soundtrack Recording)</td>\n",
       "      <td>1972</td>\n",
       "      <td>2Oam4p5G5GfyzLLBuMTJty</td>\n",
       "      <td>46</td>\n",
       "    </tr>\n",
       "    <tr>\n",
       "      <th>4</th>\n",
       "      <td>Coming Undone</td>\n",
       "      <td>Korn</td>\n",
       "      <td>See You On the Other Side</td>\n",
       "      <td>2005</td>\n",
       "      <td>3o7TMr6RmIusYH7Kkg7ujR</td>\n",
       "      <td>73</td>\n",
       "    </tr>\n",
       "  </tbody>\n",
       "</table>\n",
       "</div>"
      ],
      "text/plain": [
       "        track name        artists  \\\n",
       "0  Marry The Night      Lady Gaga   \n",
       "1    10 or a 2-way           Korn   \n",
       "2           No One    Alicia Keys   \n",
       "3  Maybe This Time  Liza Minnelli   \n",
       "4    Coming Undone           Korn   \n",
       "\n",
       "                                               album  release year  \\\n",
       "0  Born This Way (International Special Edition V...          2011   \n",
       "1                          See You On the Other Side          2005   \n",
       "2                         As I Am (Expanded Edition)          2007   \n",
       "3            Cabaret (Original Soundtrack Recording)          1972   \n",
       "4                          See You On the Other Side          2005   \n",
       "\n",
       "                 track id  popularity  \n",
       "0  02d1E4NRuh7OEQO4vCb9PD          60  \n",
       "1  317voMksLU98NZn3wlFUsG          38  \n",
       "2  6IwKcFdiRQZOWeYNhUiWIv          69  \n",
       "3  2Oam4p5G5GfyzLLBuMTJty          46  \n",
       "4  3o7TMr6RmIusYH7Kkg7ujR          73  "
      ]
     },
     "execution_count": 89,
     "metadata": {},
     "output_type": "execute_result"
    }
   ],
   "source": [
    "my_tracks_from_playlists.head()"
   ]
  },
  {
   "cell_type": "markdown",
   "metadata": {},
   "source": [
    "## convert to csv for creat_paylist script"
   ]
  },
  {
   "cell_type": "code",
   "execution_count": 90,
   "metadata": {},
   "outputs": [],
   "source": [
    "my_tracks_from_playlists.to_csv('my_playlist_tracks.csv')"
   ]
  },
  {
   "cell_type": "markdown",
   "metadata": {},
   "source": [
    "# albums [] - if album in all_top_tracks and album in my_tracks_from_playlists: albums.append(aalbum, artist) - print albums\n",
    "\n",
    "* which albums occur across top tracks and playlists?"
   ]
  },
  {
   "cell_type": "code",
   "execution_count": 91,
   "metadata": {},
   "outputs": [],
   "source": [
    "#iitterrows\n",
    "\n",
    "# use set to remove duplicates - for now i only want to see a list - so, list(set(albums))????"
   ]
  },
  {
   "cell_type": "code",
   "execution_count": 92,
   "metadata": {},
   "outputs": [
    {
     "name": "stdout",
     "output_type": "stream",
     "text": [
      "[('channel ORANGE', 'Frank Ocean'),\n",
      " ('A Collection of Fleeting Moments and Daydreams', 'Orion Sun'),\n",
      " ('Goodbye Bread', 'Ty Segall'),\n",
      " ('Wrong Side Of Beautiful', 'Dub War'),\n",
      " ('Radical Romantics', 'Fever Ray'),\n",
      " ('Tchaikovsky: Swan Lake', 'Pyotr Ilyich Tchaikovsky'),\n",
      " ('La vita nuova', 'Christine and the Queens'),\n",
      " ('Plunge', 'Fever Ray'),\n",
      " ('Redcar les adorables étoiles (prologue)', 'Christine and the Queens'),\n",
      " ('In Rainbows', 'Radiohead'),\n",
      " ('A Seat at the Table', 'Solange'),\n",
      " (\"I Ain't Movin'\", \"Des'ree\"),\n",
      " ('Blonde', 'Frank Ocean'),\n",
      " ('PARANOÏA, ANGELS, TRUE LOVE', 'Christine and the Queens')]\n"
     ]
    }
   ],
   "source": [
    "albums = []\n",
    "\n",
    "#loop through all tracks\n",
    "for index1, row1 in all_top_tracks.iterrows():\n",
    "    album1 = row1['album']\n",
    "    artist1 = row1['artists']\n",
    "\n",
    "    artist1 = artist1.split(',')[0] \n",
    "        \n",
    "    if album1 in my_tracks_from_playlists['album'].values:\n",
    "        albums.append((album1, artist1))\n",
    "\n",
    "albums = list(set(albums))\n",
    "\n",
    "pprint.pprint(albums)"
   ]
  },
  {
   "cell_type": "markdown",
   "metadata": {},
   "source": []
  }
 ],
 "metadata": {
  "kernelspec": {
   "display_name": ".venv",
   "language": "python",
   "name": "python3"
  },
  "language_info": {
   "codemirror_mode": {
    "name": "ipython",
    "version": 3
   },
   "file_extension": ".py",
   "mimetype": "text/x-python",
   "name": "python",
   "nbconvert_exporter": "python",
   "pygments_lexer": "ipython3",
   "version": "3.12.3"
  }
 },
 "nbformat": 4,
 "nbformat_minor": 2
}
