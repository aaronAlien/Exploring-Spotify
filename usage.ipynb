{
 "cells": [
  {
   "cell_type": "markdown",
   "metadata": {},
   "source": [
    "### 1. _Put phone in dev mode and installed Android ADB._\n",
    "### 2. _Locate spotify usage and extract with ADB._\n",
    "### 3. _Only one line of bash script really._\n",
    "### 4. _Convert the txt to csv. et voila!._"
   ]
  },
  {
   "cell_type": "code",
   "execution_count": 1,
   "metadata": {},
   "outputs": [],
   "source": [
    "import pprint\n",
    "import numpy as np\n",
    "import pandas as pd\n",
    "import seaborn as sns\n",
    "import matplotlib.pyplot as plt\n",
    "\n",
    "\n",
    "# not scientific numbers\n",
    "pd.set_option('display.float_format', '{:.5f}'.format)\n",
    "np.set_printoptions(suppress=True)\n"
   ]
  },
  {
   "cell_type": "markdown",
   "metadata": {},
   "source": [
    "### _why am i rewriting this over and over - use a function silly!!_"
   ]
  },
  {
   "cell_type": "code",
   "execution_count": null,
   "metadata": {},
   "outputs": [],
   "source": [
    "def clean_usage_tables(file_path):\n",
    "    # read - dropna - timestam to datetime - split to date & time columns sort byt date & time\n",
    "    df = pd.read_csv(file_path)\n",
    "    df = df.dropna()\n",
    "    df['Timestamp'] = pd.to_datetime(df['Timestamp'])\n",
    "    df['Date'] = df['Timestamp'].dt.date\n",
    "    df['Time'] = df['Timestamp'].dt.time\n",
    "    df = df.sort_values(by=['Date', 'Time'])\n",
    "\n",
    "    return df"
   ]
  },
  {
   "cell_type": "markdown",
   "metadata": {},
   "source": [
    "## _android spotify usage 1_"
   ]
  },
  {
   "cell_type": "code",
   "execution_count": 2,
   "metadata": {},
   "outputs": [
    {
     "name": "stderr",
     "output_type": "stream",
     "text": [
      "<>:1: SyntaxWarning: invalid escape sequence '\\m'\n",
      "<>:1: SyntaxWarning: invalid escape sequence '\\m'\n",
      "C:\\Users\\AARON\\AppData\\Local\\Temp\\ipykernel_1680\\609058985.py:1: SyntaxWarning: invalid escape sequence '\\m'\n",
      "  raw_df = pd.read_csv('data\\my_spotify_usage_1.csv')\n"
     ]
    },
    {
     "data": {
      "text/plain": [
       "Index(['Timestamp', 'Activity Type', 'Usage Duration (ms)'], dtype='object')"
      ]
     },
     "execution_count": 2,
     "metadata": {},
     "output_type": "execute_result"
    }
   ],
   "source": [
    "raw_df = pd.read_csv('data\\my_spotify_usage_1.csv')\n",
    "\n",
    "raw_df.columns"
   ]
  },
  {
   "cell_type": "code",
   "execution_count": 3,
   "metadata": {},
   "outputs": [
    {
     "data": {
      "text/html": [
       "<div>\n",
       "<style scoped>\n",
       "    .dataframe tbody tr th:only-of-type {\n",
       "        vertical-align: middle;\n",
       "    }\n",
       "\n",
       "    .dataframe tbody tr th {\n",
       "        vertical-align: top;\n",
       "    }\n",
       "\n",
       "    .dataframe thead th {\n",
       "        text-align: right;\n",
       "    }\n",
       "</style>\n",
       "<table border=\"1\" class=\"dataframe\">\n",
       "  <thead>\n",
       "    <tr style=\"text-align: right;\">\n",
       "      <th></th>\n",
       "      <th>Timestamp</th>\n",
       "      <th>Activity Type</th>\n",
       "      <th>Usage Duration (ms)</th>\n",
       "    </tr>\n",
       "  </thead>\n",
       "  <tbody>\n",
       "    <tr>\n",
       "      <th>0</th>\n",
       "      <td>2025-02-16 11:31:05</td>\n",
       "      <td>USER_INTERACTION</td>\n",
       "      <td>com.spotify.music</td>\n",
       "    </tr>\n",
       "    <tr>\n",
       "      <th>1</th>\n",
       "      <td>2025-02-16 11:31:06</td>\n",
       "      <td>ACTIVITY_RESUMED</td>\n",
       "      <td>com.spotify.music</td>\n",
       "    </tr>\n",
       "    <tr>\n",
       "      <th>2</th>\n",
       "      <td>2025-02-16 11:31:24</td>\n",
       "      <td>FOREGROUND_SERVICE_START</td>\n",
       "      <td>com.spotify.music</td>\n",
       "    </tr>\n",
       "    <tr>\n",
       "      <th>3</th>\n",
       "      <td>2025-02-16 11:31:24</td>\n",
       "      <td>NOTIFICATION_INTERRUPTION</td>\n",
       "      <td>com.spotify.music</td>\n",
       "    </tr>\n",
       "    <tr>\n",
       "      <th>4</th>\n",
       "      <td>2025-02-16 11:31:27</td>\n",
       "      <td>ACTIVITY_PAUSED</td>\n",
       "      <td>com.spotify.music</td>\n",
       "    </tr>\n",
       "    <tr>\n",
       "      <th>...</th>\n",
       "      <td>...</td>\n",
       "      <td>...</td>\n",
       "      <td>...</td>\n",
       "    </tr>\n",
       "    <tr>\n",
       "      <th>118</th>\n",
       "      <td>2025-02-17 11:28:45</td>\n",
       "      <td>ACTIVITY_PAUSED</td>\n",
       "      <td>com.spotify.music</td>\n",
       "    </tr>\n",
       "    <tr>\n",
       "      <th>119</th>\n",
       "      <td>2025-02-17 11:28:45</td>\n",
       "      <td>ACTIVITY_RESUMED</td>\n",
       "      <td>com.spotify.music</td>\n",
       "    </tr>\n",
       "    <tr>\n",
       "      <th>120</th>\n",
       "      <td>2025-02-17 11:28:46</td>\n",
       "      <td>ACTIVITY_STOPPED</td>\n",
       "      <td>com.spotify.music</td>\n",
       "    </tr>\n",
       "    <tr>\n",
       "      <th>121</th>\n",
       "      <td>2025-02-17 11:28:46</td>\n",
       "      <td>ACTIVITY_PAUSED</td>\n",
       "      <td>com.spotify.music</td>\n",
       "    </tr>\n",
       "    <tr>\n",
       "      <th>122</th>\n",
       "      <td>2025-02-17 11:28:46</td>\n",
       "      <td>ACTIVITY_RESUMED</td>\n",
       "      <td>com.spotify.music</td>\n",
       "    </tr>\n",
       "  </tbody>\n",
       "</table>\n",
       "<p>123 rows × 3 columns</p>\n",
       "</div>"
      ],
      "text/plain": [
       "               Timestamp              Activity Type Usage Duration (ms)\n",
       "0    2025-02-16 11:31:05           USER_INTERACTION   com.spotify.music\n",
       "1    2025-02-16 11:31:06           ACTIVITY_RESUMED   com.spotify.music\n",
       "2    2025-02-16 11:31:24   FOREGROUND_SERVICE_START   com.spotify.music\n",
       "3    2025-02-16 11:31:24  NOTIFICATION_INTERRUPTION   com.spotify.music\n",
       "4    2025-02-16 11:31:27            ACTIVITY_PAUSED   com.spotify.music\n",
       "..                   ...                        ...                 ...\n",
       "118  2025-02-17 11:28:45            ACTIVITY_PAUSED   com.spotify.music\n",
       "119  2025-02-17 11:28:45           ACTIVITY_RESUMED   com.spotify.music\n",
       "120  2025-02-17 11:28:46           ACTIVITY_STOPPED   com.spotify.music\n",
       "121  2025-02-17 11:28:46            ACTIVITY_PAUSED   com.spotify.music\n",
       "122  2025-02-17 11:28:46           ACTIVITY_RESUMED   com.spotify.music\n",
       "\n",
       "[123 rows x 3 columns]"
      ]
     },
     "execution_count": 3,
     "metadata": {},
     "output_type": "execute_result"
    }
   ],
   "source": [
    "raw_df.dropna()"
   ]
  },
  {
   "cell_type": "markdown",
   "metadata": {},
   "source": [
    "* find first and last interaction per day"
   ]
  },
  {
   "cell_type": "code",
   "execution_count": 4,
   "metadata": {},
   "outputs": [],
   "source": [
    "# convert to datetime\n",
    "raw_df['Timestamp'] = pd.to_datetime(raw_df['Timestamp'])\n",
    "\n",
    "#add date column\n",
    "raw_df['Date'] = raw_df['Timestamp'].dt.date\n",
    "raw_df['Time'] = raw_df['Timestamp'].dt.time\n"
   ]
  },
  {
   "cell_type": "code",
   "execution_count": 5,
   "metadata": {},
   "outputs": [
    {
     "data": {
      "text/html": [
       "<div>\n",
       "<style scoped>\n",
       "    .dataframe tbody tr th:only-of-type {\n",
       "        vertical-align: middle;\n",
       "    }\n",
       "\n",
       "    .dataframe tbody tr th {\n",
       "        vertical-align: top;\n",
       "    }\n",
       "\n",
       "    .dataframe thead th {\n",
       "        text-align: right;\n",
       "    }\n",
       "</style>\n",
       "<table border=\"1\" class=\"dataframe\">\n",
       "  <thead>\n",
       "    <tr style=\"text-align: right;\">\n",
       "      <th></th>\n",
       "      <th>Timestamp</th>\n",
       "      <th>Activity Type</th>\n",
       "      <th>Usage Duration (ms)</th>\n",
       "      <th>Date</th>\n",
       "      <th>Time</th>\n",
       "    </tr>\n",
       "  </thead>\n",
       "  <tbody>\n",
       "    <tr>\n",
       "      <th>0</th>\n",
       "      <td>2025-02-16 11:31:05</td>\n",
       "      <td>USER_INTERACTION</td>\n",
       "      <td>com.spotify.music</td>\n",
       "      <td>2025-02-16</td>\n",
       "      <td>11:31:05</td>\n",
       "    </tr>\n",
       "    <tr>\n",
       "      <th>1</th>\n",
       "      <td>2025-02-16 11:31:06</td>\n",
       "      <td>ACTIVITY_RESUMED</td>\n",
       "      <td>com.spotify.music</td>\n",
       "      <td>2025-02-16</td>\n",
       "      <td>11:31:06</td>\n",
       "    </tr>\n",
       "    <tr>\n",
       "      <th>2</th>\n",
       "      <td>2025-02-16 11:31:24</td>\n",
       "      <td>FOREGROUND_SERVICE_START</td>\n",
       "      <td>com.spotify.music</td>\n",
       "      <td>2025-02-16</td>\n",
       "      <td>11:31:24</td>\n",
       "    </tr>\n",
       "    <tr>\n",
       "      <th>3</th>\n",
       "      <td>2025-02-16 11:31:24</td>\n",
       "      <td>NOTIFICATION_INTERRUPTION</td>\n",
       "      <td>com.spotify.music</td>\n",
       "      <td>2025-02-16</td>\n",
       "      <td>11:31:24</td>\n",
       "    </tr>\n",
       "    <tr>\n",
       "      <th>4</th>\n",
       "      <td>2025-02-16 11:31:27</td>\n",
       "      <td>ACTIVITY_PAUSED</td>\n",
       "      <td>com.spotify.music</td>\n",
       "      <td>2025-02-16</td>\n",
       "      <td>11:31:27</td>\n",
       "    </tr>\n",
       "  </tbody>\n",
       "</table>\n",
       "</div>"
      ],
      "text/plain": [
       "            Timestamp              Activity Type Usage Duration (ms)  \\\n",
       "0 2025-02-16 11:31:05           USER_INTERACTION   com.spotify.music   \n",
       "1 2025-02-16 11:31:06           ACTIVITY_RESUMED   com.spotify.music   \n",
       "2 2025-02-16 11:31:24   FOREGROUND_SERVICE_START   com.spotify.music   \n",
       "3 2025-02-16 11:31:24  NOTIFICATION_INTERRUPTION   com.spotify.music   \n",
       "4 2025-02-16 11:31:27            ACTIVITY_PAUSED   com.spotify.music   \n",
       "\n",
       "         Date      Time  \n",
       "0  2025-02-16  11:31:05  \n",
       "1  2025-02-16  11:31:06  \n",
       "2  2025-02-16  11:31:24  \n",
       "3  2025-02-16  11:31:24  \n",
       "4  2025-02-16  11:31:27  "
      ]
     },
     "execution_count": 5,
     "metadata": {},
     "output_type": "execute_result"
    }
   ],
   "source": [
    "raw_df.head()"
   ]
  },
  {
   "cell_type": "code",
   "execution_count": 6,
   "metadata": {},
   "outputs": [],
   "source": [
    "#raw_df.drop('date', axis=1)\n",
    "\n",
    "# sort timestamps\n",
    "raw_df = raw_df.sort_values(by=['Date', 'Time'])\n"
   ]
  },
  {
   "cell_type": "code",
   "execution_count": null,
   "metadata": {},
   "outputs": [],
   "source": []
  },
  {
   "cell_type": "code",
   "execution_count": 7,
   "metadata": {},
   "outputs": [
    {
     "name": "stdout",
     "output_type": "stream",
     "text": [
      "         Date first_interaction last_interaction\n",
      "0  2025-02-16          11:31:05         20:02:12\n",
      "1  2025-02-17          00:09:46         11:28:46\n"
     ]
    }
   ],
   "source": [
    "# group by date - find first and last\n",
    "\n",
    "first_and_last = raw_df.groupby('Date').agg(\n",
    "    first_interaction=('Time', 'first'),\n",
    "    last_interaction=('Time', 'last')\n",
    ").reset_index()\n",
    "\n",
    "pprint.pprint(first_and_last)"
   ]
  },
  {
   "cell_type": "markdown",
   "metadata": {},
   "source": [
    "* value counts for ACTIVITY_RESUMED, FOREGROUND_SERVICE_START, SHORTCUT_INVOCATION\n",
    "    * display in chart"
   ]
  },
  {
   "cell_type": "code",
   "execution_count": 8,
   "metadata": {},
   "outputs": [],
   "source": [
    "# filter for activity types\n",
    "activity_filter = raw_df[raw_df['Activity Type'].isin(['ACTIVITY_RESUMED', 'FOREGROUND_SERVICE_START', 'SHORTCUT_INVOCATION'])]"
   ]
  },
  {
   "cell_type": "code",
   "execution_count": 9,
   "metadata": {},
   "outputs": [
    {
     "data": {
      "text/plain": [
       "Activity Type\n",
       "ACTIVITY_RESUMED            28\n",
       "FOREGROUND_SERVICE_START    10\n",
       "SHORTCUT_INVOCATION          9\n",
       "Name: count, dtype: int64"
      ]
     },
     "execution_count": 9,
     "metadata": {},
     "output_type": "execute_result"
    }
   ],
   "source": [
    "# counts for each type\n",
    "activity_count = activity_filter['Activity Type'].value_counts()\n",
    "\n",
    "activity_count"
   ]
  },
  {
   "cell_type": "markdown",
   "metadata": {},
   "source": [
    "## _android - spotify usage 2_"
   ]
  },
  {
   "cell_type": "code",
   "execution_count": 10,
   "metadata": {},
   "outputs": [
    {
     "data": {
      "text/plain": [
       "Index(['Timestamp', 'Activity Type', 'Usage Duration (ms)'], dtype='object')"
      ]
     },
     "execution_count": 10,
     "metadata": {},
     "output_type": "execute_result"
    }
   ],
   "source": [
    "raw_df_2 = pd.read_csv('data/my_spotify_usage_2.csv')\n",
    "\n",
    "raw_df_2.columns"
   ]
  },
  {
   "cell_type": "code",
   "execution_count": 11,
   "metadata": {},
   "outputs": [
    {
     "data": {
      "text/html": [
       "<div>\n",
       "<style scoped>\n",
       "    .dataframe tbody tr th:only-of-type {\n",
       "        vertical-align: middle;\n",
       "    }\n",
       "\n",
       "    .dataframe tbody tr th {\n",
       "        vertical-align: top;\n",
       "    }\n",
       "\n",
       "    .dataframe thead th {\n",
       "        text-align: right;\n",
       "    }\n",
       "</style>\n",
       "<table border=\"1\" class=\"dataframe\">\n",
       "  <thead>\n",
       "    <tr style=\"text-align: right;\">\n",
       "      <th></th>\n",
       "      <th>Timestamp</th>\n",
       "      <th>Activity Type</th>\n",
       "      <th>Usage Duration (ms)</th>\n",
       "    </tr>\n",
       "  </thead>\n",
       "  <tbody>\n",
       "    <tr>\n",
       "      <th>0</th>\n",
       "      <td>2025-02-18 10:40:31</td>\n",
       "      <td>ACTIVITY_RESUMED</td>\n",
       "      <td>com.spotify.music</td>\n",
       "    </tr>\n",
       "    <tr>\n",
       "      <th>1</th>\n",
       "      <td>2025-02-18 10:40:40</td>\n",
       "      <td>ACTIVITY_PAUSED</td>\n",
       "      <td>com.spotify.music</td>\n",
       "    </tr>\n",
       "    <tr>\n",
       "      <th>2</th>\n",
       "      <td>2025-02-18 10:40:41</td>\n",
       "      <td>ACTIVITY_STOPPED</td>\n",
       "      <td>com.spotify.music</td>\n",
       "    </tr>\n",
       "    <tr>\n",
       "      <th>3</th>\n",
       "      <td>2025-02-18 11:27:08</td>\n",
       "      <td>FOREGROUND_SERVICE_STOP</td>\n",
       "      <td>com.spotify.music</td>\n",
       "    </tr>\n",
       "    <tr>\n",
       "      <th>4</th>\n",
       "      <td>2025-02-18 12:23:40</td>\n",
       "      <td>USER_INTERACTION</td>\n",
       "      <td>com.spotify.music</td>\n",
       "    </tr>\n",
       "    <tr>\n",
       "      <th>...</th>\n",
       "      <td>...</td>\n",
       "      <td>...</td>\n",
       "      <td>...</td>\n",
       "    </tr>\n",
       "    <tr>\n",
       "      <th>123</th>\n",
       "      <td>2025-02-19 10:15:32</td>\n",
       "      <td>FOREGROUND_SERVICE_START</td>\n",
       "      <td>com.spotify.music</td>\n",
       "    </tr>\n",
       "    <tr>\n",
       "      <th>124</th>\n",
       "      <td>2025-02-19 10:15:32</td>\n",
       "      <td>FOREGROUND_SERVICE_STOP</td>\n",
       "      <td>com.spotify.music</td>\n",
       "    </tr>\n",
       "    <tr>\n",
       "      <th>125</th>\n",
       "      <td>2025-02-19 10:25:48</td>\n",
       "      <td>FOREGROUND_SERVICE_STOP</td>\n",
       "      <td>com.spotify.music</td>\n",
       "    </tr>\n",
       "    <tr>\n",
       "      <th>126</th>\n",
       "      <td>2025-02-19 10:28:01</td>\n",
       "      <td>FOREGROUND_SERVICE_START</td>\n",
       "      <td>com.spotify.music</td>\n",
       "    </tr>\n",
       "    <tr>\n",
       "      <th>127</th>\n",
       "      <td>2025-02-19 10:28:01</td>\n",
       "      <td>NOTIFICATION_INTERRUPTION</td>\n",
       "      <td>com.spotify.music</td>\n",
       "    </tr>\n",
       "  </tbody>\n",
       "</table>\n",
       "<p>128 rows × 3 columns</p>\n",
       "</div>"
      ],
      "text/plain": [
       "               Timestamp              Activity Type Usage Duration (ms)\n",
       "0    2025-02-18 10:40:31           ACTIVITY_RESUMED   com.spotify.music\n",
       "1    2025-02-18 10:40:40            ACTIVITY_PAUSED   com.spotify.music\n",
       "2    2025-02-18 10:40:41           ACTIVITY_STOPPED   com.spotify.music\n",
       "3    2025-02-18 11:27:08    FOREGROUND_SERVICE_STOP   com.spotify.music\n",
       "4    2025-02-18 12:23:40           USER_INTERACTION   com.spotify.music\n",
       "..                   ...                        ...                 ...\n",
       "123  2025-02-19 10:15:32   FOREGROUND_SERVICE_START   com.spotify.music\n",
       "124  2025-02-19 10:15:32    FOREGROUND_SERVICE_STOP   com.spotify.music\n",
       "125  2025-02-19 10:25:48    FOREGROUND_SERVICE_STOP   com.spotify.music\n",
       "126  2025-02-19 10:28:01   FOREGROUND_SERVICE_START   com.spotify.music\n",
       "127  2025-02-19 10:28:01  NOTIFICATION_INTERRUPTION   com.spotify.music\n",
       "\n",
       "[128 rows x 3 columns]"
      ]
     },
     "execution_count": 11,
     "metadata": {},
     "output_type": "execute_result"
    }
   ],
   "source": [
    "raw_df_2.dropna()"
   ]
  },
  {
   "cell_type": "markdown",
   "metadata": {},
   "source": [
    "* find first and last interaction per day"
   ]
  },
  {
   "cell_type": "code",
   "execution_count": 12,
   "metadata": {},
   "outputs": [],
   "source": [
    "# convert to datetime\n",
    "raw_df_2['Timestamp'] = pd.to_datetime(raw_df['Timestamp'])\n",
    "\n",
    "# add seperat time and date column\n",
    "raw_df_2['Date'] = raw_df['Timestamp'].dt.date\n",
    "raw_df_2['Time'] = raw_df['Timestamp'].dt.time\n",
    "\n",
    "# sort timestamps\n",
    "raw_df_2 = raw_df.sort_values(by=['Date', 'Time'])\n"
   ]
  },
  {
   "cell_type": "code",
   "execution_count": 13,
   "metadata": {},
   "outputs": [
    {
     "data": {
      "text/html": [
       "<div>\n",
       "<style scoped>\n",
       "    .dataframe tbody tr th:only-of-type {\n",
       "        vertical-align: middle;\n",
       "    }\n",
       "\n",
       "    .dataframe tbody tr th {\n",
       "        vertical-align: top;\n",
       "    }\n",
       "\n",
       "    .dataframe thead th {\n",
       "        text-align: right;\n",
       "    }\n",
       "</style>\n",
       "<table border=\"1\" class=\"dataframe\">\n",
       "  <thead>\n",
       "    <tr style=\"text-align: right;\">\n",
       "      <th></th>\n",
       "      <th>Timestamp</th>\n",
       "      <th>Activity Type</th>\n",
       "      <th>Usage Duration (ms)</th>\n",
       "      <th>Date</th>\n",
       "      <th>Time</th>\n",
       "    </tr>\n",
       "  </thead>\n",
       "  <tbody>\n",
       "    <tr>\n",
       "      <th>0</th>\n",
       "      <td>2025-02-16 11:31:05</td>\n",
       "      <td>USER_INTERACTION</td>\n",
       "      <td>com.spotify.music</td>\n",
       "      <td>2025-02-16</td>\n",
       "      <td>11:31:05</td>\n",
       "    </tr>\n",
       "    <tr>\n",
       "      <th>1</th>\n",
       "      <td>2025-02-16 11:31:06</td>\n",
       "      <td>ACTIVITY_RESUMED</td>\n",
       "      <td>com.spotify.music</td>\n",
       "      <td>2025-02-16</td>\n",
       "      <td>11:31:06</td>\n",
       "    </tr>\n",
       "    <tr>\n",
       "      <th>2</th>\n",
       "      <td>2025-02-16 11:31:24</td>\n",
       "      <td>FOREGROUND_SERVICE_START</td>\n",
       "      <td>com.spotify.music</td>\n",
       "      <td>2025-02-16</td>\n",
       "      <td>11:31:24</td>\n",
       "    </tr>\n",
       "    <tr>\n",
       "      <th>3</th>\n",
       "      <td>2025-02-16 11:31:24</td>\n",
       "      <td>NOTIFICATION_INTERRUPTION</td>\n",
       "      <td>com.spotify.music</td>\n",
       "      <td>2025-02-16</td>\n",
       "      <td>11:31:24</td>\n",
       "    </tr>\n",
       "    <tr>\n",
       "      <th>4</th>\n",
       "      <td>2025-02-16 11:31:27</td>\n",
       "      <td>ACTIVITY_PAUSED</td>\n",
       "      <td>com.spotify.music</td>\n",
       "      <td>2025-02-16</td>\n",
       "      <td>11:31:27</td>\n",
       "    </tr>\n",
       "  </tbody>\n",
       "</table>\n",
       "</div>"
      ],
      "text/plain": [
       "            Timestamp              Activity Type Usage Duration (ms)  \\\n",
       "0 2025-02-16 11:31:05           USER_INTERACTION   com.spotify.music   \n",
       "1 2025-02-16 11:31:06           ACTIVITY_RESUMED   com.spotify.music   \n",
       "2 2025-02-16 11:31:24   FOREGROUND_SERVICE_START   com.spotify.music   \n",
       "3 2025-02-16 11:31:24  NOTIFICATION_INTERRUPTION   com.spotify.music   \n",
       "4 2025-02-16 11:31:27            ACTIVITY_PAUSED   com.spotify.music   \n",
       "\n",
       "         Date      Time  \n",
       "0  2025-02-16  11:31:05  \n",
       "1  2025-02-16  11:31:06  \n",
       "2  2025-02-16  11:31:24  \n",
       "3  2025-02-16  11:31:24  \n",
       "4  2025-02-16  11:31:27  "
      ]
     },
     "execution_count": 13,
     "metadata": {},
     "output_type": "execute_result"
    }
   ],
   "source": [
    "#raw_df.drop('date', axis=1)\n",
    "\n",
    "raw_df_2.head()\n"
   ]
  },
  {
   "cell_type": "code",
   "execution_count": 14,
   "metadata": {},
   "outputs": [
    {
     "name": "stdout",
     "output_type": "stream",
     "text": [
      "         Date first_interaction last_interaction\n",
      "0  2025-02-16          11:31:05         20:02:12\n",
      "1  2025-02-17          00:09:46         11:28:46\n"
     ]
    }
   ],
   "source": [
    "# group by date - find first and last\n",
    "\n",
    "first_and_last = raw_df_2.groupby('Date').agg(\n",
    "    first_interaction=('Time', 'first'),\n",
    "    last_interaction=('Time', 'last')\n",
    ").reset_index()\n",
    "\n",
    "pprint.pprint(first_and_last)"
   ]
  }
 ],
 "metadata": {
  "kernelspec": {
   "display_name": ".venv",
   "language": "python",
   "name": "python3"
  },
  "language_info": {
   "codemirror_mode": {
    "name": "ipython",
    "version": 3
   },
   "file_extension": ".py",
   "mimetype": "text/x-python",
   "name": "python",
   "nbconvert_exporter": "python",
   "pygments_lexer": "ipython3",
   "version": "3.12.3"
  }
 },
 "nbformat": 4,
 "nbformat_minor": 2
}
